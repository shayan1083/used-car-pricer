{
  "cells": [
    {
      "cell_type": "code",
      "execution_count": 1,
      "metadata": {
        "id": "L5dbtt8luYkO"
      },
      "outputs": [],
      "source": [
        "import pandas as pd\n",
        "import re\n",
        "import seaborn as sns\n",
        "import matplotlib.pyplot as plt\n",
        "import numpy as np\n",
        "from sklearn.preprocessing import OneHotEncoder, StandardScaler, MinMaxScaler\n",
        "from sklearn.model_selection import train_test_split, KFold, cross_val_score\n",
        "from sklearn.metrics import mean_squared_error, mean_absolute_error, mean_squared_error\n",
        "from sklearn.ensemble import GradientBoostingRegressor, RandomForestRegressor\n",
        "from sklearn.neural_network import MLPRegressor\n",
        "from sklearn.neighbors import KNeighborsRegressor\n",
        "from sklearn.cross_decomposition import PLSRegression\n",
        "from sklearn.tree import DecisionTreeRegressor\n",
        "from sklearn.utils import shuffle\n",
        "from category_encoders import TargetEncoder, OneHotEncoder\n",
        "import warnings\n",
        "import pgeocode\n",
        "import datetime\n",
        "from math import radians\n",
        "import joblib\n",
        "import json\n",
        "warnings.filterwarnings(\"ignore\")\n",
        "%matplotlib inline"
      ]
    },
    {
      "cell_type": "markdown",
      "metadata": {
        "id": "yFpVWgxMOMK6"
      },
      "source": [
        "# 1) Data Formatting"
      ]
    },
    {
      "cell_type": "markdown",
      "metadata": {
        "id": "JV2YkJbU_GSR"
      },
      "source": [
        "## Open Excel File in DataFrame"
      ]
    },
    {
      "cell_type": "code",
      "execution_count": 2,
      "metadata": {
        "id": "Qi15LGIruiP3"
      },
      "outputs": [],
      "source": [
        "df = pd.read_excel('CarData.xlsx')"
      ]
    },
    {
      "cell_type": "code",
      "execution_count": 3,
      "metadata": {
        "id": "0v3SBhBby5Qy"
      },
      "outputs": [],
      "source": [
        "data = df.copy()"
      ]
    },
    {
      "cell_type": "code",
      "execution_count": 4,
      "metadata": {
        "colab": {
          "base_uri": "https://localhost:8080/"
        },
        "id": "4gLXacZEy6x6",
        "outputId": "94ab9eb4-348c-4b82-8043-761d9fc16f95"
      },
      "outputs": [
        {
          "name": "stdout",
          "output_type": "stream",
          "text": [
            "62962\n"
          ]
        }
      ],
      "source": [
        "print(len(data.index))"
      ]
    },
    {
      "cell_type": "markdown",
      "metadata": {
        "id": "3pQncg9Z_Lzd"
      },
      "source": [
        "## Remove Incorrect Records"
      ]
    },
    {
      "cell_type": "code",
      "execution_count": 5,
      "metadata": {
        "id": "NaEXJaCwhWdi"
      },
      "outputs": [],
      "source": [
        "def find_incorrect_records(make, trim):\n",
        "  if make in trim:\n",
        "    return False\n",
        "  return True"
      ]
    },
    {
      "cell_type": "code",
      "execution_count": 6,
      "metadata": {
        "id": "xCbgqW55hhpb"
      },
      "outputs": [],
      "source": [
        "for i, row in data.iterrows():\n",
        "  if find_incorrect_records(row['Make'], row['Trim']):\n",
        "    data = data.drop(i)"
      ]
    },
    {
      "cell_type": "markdown",
      "metadata": {
        "id": "X3m9PVpt_PRE"
      },
      "source": [
        "## Remove Duplicates"
      ]
    },
    {
      "cell_type": "code",
      "execution_count": 7,
      "metadata": {
        "id": "VNrLaSJjuiup"
      },
      "outputs": [],
      "source": [
        "data = data.drop_duplicates(subset=['VIN'])"
      ]
    },
    {
      "cell_type": "code",
      "execution_count": 8,
      "metadata": {
        "id": "rC9wXmOzKYTI"
      },
      "outputs": [],
      "source": [
        "data = data.drop('VIN', axis=1)"
      ]
    },
    {
      "cell_type": "code",
      "execution_count": 9,
      "metadata": {
        "colab": {
          "base_uri": "https://localhost:8080/"
        },
        "id": "tqMtQjcCui5h",
        "outputId": "05f391a3-3a8f-4d6f-adf2-bc000e606f46"
      },
      "outputs": [
        {
          "name": "stdout",
          "output_type": "stream",
          "text": [
            "61379\n"
          ]
        }
      ],
      "source": [
        "print(len(data.index))"
      ]
    },
    {
      "cell_type": "markdown",
      "metadata": {
        "id": "DD20O-Ta_W1L"
      },
      "source": [
        "## Parse Column Information"
      ]
    },
    {
      "cell_type": "code",
      "execution_count": 10,
      "metadata": {
        "id": "DNhhAXMFujvb"
      },
      "outputs": [],
      "source": [
        "def parse_year(car_string):\n",
        "  match = re.search(r'\\b(19|20)\\d{2}\\b', car_string)\n",
        "  return int(match.group(0)) if match else None\n",
        "\n",
        "def parse_trim(car_string, make, model):\n",
        "  if make in car_string:\n",
        "    trim = car_string.split(make, 1)[1]\n",
        "    if model in trim:\n",
        "      trim = trim.split(model, 1)[1]\n",
        "      trim = trim.replace('for Sale', '')\n",
        "      return str(trim.strip())\n",
        "    else:\n",
        "      return None\n",
        "  else:\n",
        "    return None\n",
        "\n",
        "def parse_zip_code(location):\n",
        "  if type(location) == str:\n",
        "    zip = location.split(' ')[-1]\n",
        "    return str(zip)\n",
        "  return None\n",
        "\n",
        "def parse_price(price):\n",
        "  if type(price) == str:\n",
        "    num = price.replace('$','')\n",
        "    num = num.replace(',','')\n",
        "    return int(num)\n",
        "  return None\n",
        "\n",
        "def parse_miles(miles):\n",
        "  if type(miles) == str:\n",
        "    mileage = miles.replace(' miles', '')\n",
        "    mileage = mileage.replace(',','')\n",
        "    return int(mileage.strip())\n",
        "  return None\n",
        "\n",
        "def parse_engine_size(engine):\n",
        "  if type(engine) == str and '-cylinder' in engine:\n",
        "    size = engine.replace('-cylinder','')\n",
        "    return int(size.strip())\n",
        "  return None\n",
        "\n",
        "def parse_seats(seats):\n",
        "  if type(seats) == str and 'seater' in seats:\n",
        "    seats = seats.replace('seater','')\n",
        "    return int(seats.strip())\n",
        "  return None"
      ]
    },
    {
      "cell_type": "code",
      "execution_count": 11,
      "metadata": {
        "id": "3MLIB41BupHe"
      },
      "outputs": [],
      "source": [
        "data['Year'] = data['Year'].apply(parse_year)\n",
        "\n",
        "data['Trim'] = data.apply(lambda row: parse_trim(row['Trim'], row['Make'], row['Model']), axis=1)\n",
        "\n",
        "data['Location'] = data['Location'].apply(parse_zip_code)\n",
        "\n",
        "data['Price'] = data['Price'].apply(parse_price)\n",
        "\n",
        "data['Mileage'] = data['Mileage'].apply(parse_miles)\n",
        "\n",
        "data['Engine_Size'] = data['Engine_Size'].apply(parse_engine_size)\n",
        "\n",
        "data['Seats'] = data['Seats'].apply(parse_seats)\n",
        "\n",
        "data.loc[data['Fuel_Type'] == 'Electric', 'Engine_Size'] = 0\n",
        "\n",
        "data.loc[data['Fuel_Type'] == 'Natural Gas', 'Fuel_Type'] = 'Gas'"
      ]
    },
    {
      "cell_type": "markdown",
      "metadata": {
        "id": "OWXa0VFQ0Cf5"
      },
      "source": [
        "## Remove Some Null Values"
      ]
    },
    {
      "cell_type": "code",
      "execution_count": 12,
      "metadata": {
        "colab": {
          "base_uri": "https://localhost:8080/"
        },
        "id": "6roGPYtR0H7V",
        "outputId": "8c703943-3798-43d9-cc0d-f20520a07035"
      },
      "outputs": [
        {
          "data": {
            "text/plain": [
              "61379"
            ]
          },
          "execution_count": 12,
          "metadata": {},
          "output_type": "execute_result"
        }
      ],
      "source": [
        "len(data.index)"
      ]
    },
    {
      "cell_type": "code",
      "execution_count": 13,
      "metadata": {
        "colab": {
          "base_uri": "https://localhost:8080/",
          "height": 80
        },
        "id": "c2-aJ8RU066_",
        "outputId": "77ef45b4-7a41-4891-f432-c054c1b39368"
      },
      "outputs": [
        {
          "data": {
            "text/html": [
              "<div>\n",
              "<style scoped>\n",
              "    .dataframe tbody tr th:only-of-type {\n",
              "        vertical-align: middle;\n",
              "    }\n",
              "\n",
              "    .dataframe tbody tr th {\n",
              "        vertical-align: top;\n",
              "    }\n",
              "\n",
              "    .dataframe thead th {\n",
              "        text-align: right;\n",
              "    }\n",
              "</style>\n",
              "<table border=\"1\" class=\"dataframe\">\n",
              "  <thead>\n",
              "    <tr style=\"text-align: right;\">\n",
              "      <th></th>\n",
              "      <th>Make</th>\n",
              "      <th>Model</th>\n",
              "      <th>Year</th>\n",
              "      <th>Trim</th>\n",
              "      <th>Location</th>\n",
              "      <th>Price</th>\n",
              "      <th>Mileage</th>\n",
              "      <th>Transmission</th>\n",
              "      <th>Color</th>\n",
              "      <th>Engine_Size</th>\n",
              "      <th>Fuel_Type</th>\n",
              "      <th>Gas_Mileage</th>\n",
              "      <th>Seats</th>\n",
              "      <th>Drive_Type</th>\n",
              "    </tr>\n",
              "  </thead>\n",
              "  <tbody>\n",
              "    <tr>\n",
              "      <th>14214</th>\n",
              "      <td>Chevrolet</td>\n",
              "      <td>Volt</td>\n",
              "      <td>2017</td>\n",
              "      <td>Premier</td>\n",
              "      <td>45377</td>\n",
              "      <td>15898.0</td>\n",
              "      <td>99711.0</td>\n",
              "      <td>Automatic</td>\n",
              "      <td>Iridescent Pearl Tricoat</td>\n",
              "      <td>4.0</td>\n",
              "      <td>Plug-in Hybrid</td>\n",
              "      <td>106.0</td>\n",
              "      <td>5.0</td>\n",
              "      <td>FWD</td>\n",
              "    </tr>\n",
              "  </tbody>\n",
              "</table>\n",
              "</div>"
            ],
            "text/plain": [
              "            Make Model  Year     Trim Location    Price  Mileage Transmission  \\\n",
              "14214  Chevrolet  Volt  2017  Premier    45377  15898.0  99711.0    Automatic   \n",
              "\n",
              "                          Color  Engine_Size       Fuel_Type  Gas_Mileage  \\\n",
              "14214  Iridescent Pearl Tricoat          4.0  Plug-in Hybrid        106.0   \n",
              "\n",
              "       Seats Drive_Type  \n",
              "14214    5.0        FWD  "
            ]
          },
          "execution_count": 13,
          "metadata": {},
          "output_type": "execute_result"
        }
      ],
      "source": [
        "data.sample(1)"
      ]
    },
    {
      "cell_type": "code",
      "execution_count": 14,
      "metadata": {
        "id": "dzmKwKOb0FDB"
      },
      "outputs": [],
      "source": [
        "data = data.drop(data[data['Trim'].isna()].index)"
      ]
    },
    {
      "cell_type": "code",
      "execution_count": 15,
      "metadata": {},
      "outputs": [],
      "source": [
        "data = data.drop(data[data['Trim']==''].index)"
      ]
    },
    {
      "cell_type": "code",
      "execution_count": 16,
      "metadata": {
        "colab": {
          "base_uri": "https://localhost:8080/"
        },
        "id": "xT5gEAaZ0K-u",
        "outputId": "a0f60189-42e7-483c-bf89-ec1a3ac7fecb"
      },
      "outputs": [
        {
          "data": {
            "text/plain": [
              "59749"
            ]
          },
          "execution_count": 16,
          "metadata": {},
          "output_type": "execute_result"
        }
      ],
      "source": [
        "len(data.index)"
      ]
    },
    {
      "cell_type": "code",
      "execution_count": 17,
      "metadata": {},
      "outputs": [
        {
          "data": {
            "text/plain": [
              "np.int64(28568)"
            ]
          },
          "execution_count": 17,
          "metadata": {},
          "output_type": "execute_result"
        }
      ],
      "source": [
        "data.isna().sum().sum()"
      ]
    },
    {
      "cell_type": "markdown",
      "metadata": {
        "id": "rgbOD-9dC5in"
      },
      "source": [
        "## Replace Missing Engine Size"
      ]
    },
    {
      "cell_type": "code",
      "execution_count": 18,
      "metadata": {
        "colab": {
          "base_uri": "https://localhost:8080/"
        },
        "id": "LFDUYh8SDTZQ",
        "outputId": "cd196e29-657b-49cd-8156-2ff5520f7451"
      },
      "outputs": [
        {
          "name": "stdout",
          "output_type": "stream",
          "text": [
            "Engine Size:  [ 6.  4.  0. nan  8. 12.  5. 10.  3. 16.]\n"
          ]
        }
      ],
      "source": [
        "print(\"Engine Size: \", data['Engine_Size'].unique())"
      ]
    },
    {
      "cell_type": "code",
      "execution_count": 19,
      "metadata": {
        "colab": {
          "base_uri": "https://localhost:8080/"
        },
        "id": "r9fiPmBfKRC0",
        "outputId": "6b62389b-96e3-42db-c2bd-882db71f99b5"
      },
      "outputs": [
        {
          "data": {
            "text/plain": [
              "np.int64(758)"
            ]
          },
          "execution_count": 19,
          "metadata": {},
          "output_type": "execute_result"
        }
      ],
      "source": [
        "data['Engine_Size'].isna().sum()"
      ]
    },
    {
      "cell_type": "code",
      "execution_count": 20,
      "metadata": {
        "id": "lbYObwff-UQM"
      },
      "outputs": [],
      "source": [
        "def med_engine_size(model, year, trim, data, window=2):\n",
        "  year_range = (year-window, year+window)\n",
        "  relevant_data = data[(data['Model'] == model) & (data['Year'].between(year_range[0], year_range[1])) & (data['Trim'] == trim)]\n",
        "  median_engine_size = relevant_data['Engine_Size'].median()\n",
        "  return median_engine_size if not pd.isna(median_engine_size) else np.nan"
      ]
    },
    {
      "cell_type": "code",
      "execution_count": 21,
      "metadata": {
        "id": "c-uMxXtw-LAD"
      },
      "outputs": [],
      "source": [
        "def fill_nan_with_median(row):\n",
        "  if pd.isna(row['Engine_Size']):\n",
        "    return med_engine_size(row['Model'], row['Year'], row['Trim'], data)\n",
        "  return row['Engine_Size']"
      ]
    },
    {
      "cell_type": "code",
      "execution_count": 22,
      "metadata": {
        "id": "ThrVh3QG4-ZO"
      },
      "outputs": [],
      "source": [
        "data['Engine_Size'] = data.apply(fill_nan_with_median, axis=1)"
      ]
    },
    {
      "cell_type": "code",
      "execution_count": 23,
      "metadata": {
        "colab": {
          "base_uri": "https://localhost:8080/"
        },
        "id": "GX9erCSrPURJ",
        "outputId": "f920117e-b92d-404b-b611-54069507a0cc"
      },
      "outputs": [
        {
          "data": {
            "text/plain": [
              "np.int64(624)"
            ]
          },
          "execution_count": 23,
          "metadata": {},
          "output_type": "execute_result"
        }
      ],
      "source": [
        "data['Engine_Size'].isna().sum()"
      ]
    },
    {
      "cell_type": "markdown",
      "metadata": {
        "id": "h0wiB3EvFohM"
      },
      "source": [
        "## Replace Missing Fuel Type"
      ]
    },
    {
      "cell_type": "code",
      "execution_count": 24,
      "metadata": {
        "colab": {
          "base_uri": "https://localhost:8080/"
        },
        "id": "ofqyavm5FrI4",
        "outputId": "935ae3ff-0977-4c3c-c7b3-bef52c8b0948"
      },
      "outputs": [
        {
          "name": "stdout",
          "output_type": "stream",
          "text": [
            "Fuel Type:  ['Gas' 'Hybrid' 'Electric' 'Plug-in Hybrid' 'Diesel' 'Flex fuel' nan]\n"
          ]
        }
      ],
      "source": [
        "print(\"Fuel Type: \", data['Fuel_Type'].unique())"
      ]
    },
    {
      "cell_type": "code",
      "execution_count": 25,
      "metadata": {
        "colab": {
          "base_uri": "https://localhost:8080/"
        },
        "id": "ZUlxBnIfPctr",
        "outputId": "583c4945-27a9-4b5c-edb1-eb73cf039c59"
      },
      "outputs": [
        {
          "data": {
            "text/plain": [
              "np.int64(538)"
            ]
          },
          "execution_count": 25,
          "metadata": {},
          "output_type": "execute_result"
        }
      ],
      "source": [
        "data['Fuel_Type'].isna().sum()"
      ]
    },
    {
      "cell_type": "code",
      "execution_count": 26,
      "metadata": {
        "id": "zuFhuq8EF5A7"
      },
      "outputs": [],
      "source": [
        "def most_common_fuel_type(model, year, data, window=5):\n",
        "  year_range = (year-window, year+window)\n",
        "  relevant_data = data[(data['Model'] == model) & (data['Year'].between(year_range[0], year_range[1]))]\n",
        "  common_fuel_type = relevant_data['Fuel_Type'].mode()\n",
        "  return common_fuel_type[0] if not common_fuel_type.empty else np.nan"
      ]
    },
    {
      "cell_type": "code",
      "execution_count": 27,
      "metadata": {
        "id": "-x-HVY_4GbRB"
      },
      "outputs": [],
      "source": [
        "def fill_nan_with_fuel_type(row):\n",
        "  if pd.isna(row['Fuel_Type']):\n",
        "    return most_common_fuel_type(row['Model'], row['Year'], data)\n",
        "  return row['Fuel_Type']"
      ]
    },
    {
      "cell_type": "code",
      "execution_count": 28,
      "metadata": {
        "id": "YxgPktR3G6T-"
      },
      "outputs": [],
      "source": [
        "data['Fuel_Type'] = data.apply(fill_nan_with_fuel_type, axis=1)"
      ]
    },
    {
      "cell_type": "code",
      "execution_count": 29,
      "metadata": {
        "colab": {
          "base_uri": "https://localhost:8080/"
        },
        "id": "FGnmYapAPfjR",
        "outputId": "cd9169a3-fcdc-425d-8567-f7b67ab24a16"
      },
      "outputs": [
        {
          "data": {
            "text/plain": [
              "np.int64(85)"
            ]
          },
          "execution_count": 29,
          "metadata": {},
          "output_type": "execute_result"
        }
      ],
      "source": [
        "data['Fuel_Type'].isna().sum()"
      ]
    },
    {
      "cell_type": "markdown",
      "metadata": {
        "id": "bIHslXUqI0PU"
      },
      "source": [
        "## Replace Missing Transmission"
      ]
    },
    {
      "cell_type": "code",
      "execution_count": 30,
      "metadata": {
        "colab": {
          "base_uri": "https://localhost:8080/"
        },
        "id": "iEOT7IJ9I2n5",
        "outputId": "52fb9d6f-6af1-4e22-c22b-b2e46f5d00fe"
      },
      "outputs": [
        {
          "name": "stdout",
          "output_type": "stream",
          "text": [
            "Transmission:  ['Automatic' 'Manual' 'CVT' 'Red' nan]\n"
          ]
        }
      ],
      "source": [
        "print(\"Transmission: \", data['Transmission'].unique())"
      ]
    },
    {
      "cell_type": "code",
      "execution_count": 31,
      "metadata": {
        "id": "om2IjrAGPy7l"
      },
      "outputs": [],
      "source": [
        "data = data[data['Transmission'] != 'Red']"
      ]
    },
    {
      "cell_type": "code",
      "execution_count": 32,
      "metadata": {
        "colab": {
          "base_uri": "https://localhost:8080/"
        },
        "id": "7ujV5sQnT3lK",
        "outputId": "670095c3-ae5f-4dcd-83ec-9698d6668f0f"
      },
      "outputs": [
        {
          "data": {
            "text/plain": [
              "np.int64(1418)"
            ]
          },
          "execution_count": 32,
          "metadata": {},
          "output_type": "execute_result"
        }
      ],
      "source": [
        "data['Transmission'].isna().sum()"
      ]
    },
    {
      "cell_type": "code",
      "execution_count": 33,
      "metadata": {
        "id": "imDDV0NMTz1X"
      },
      "outputs": [],
      "source": [
        "def most_common_transmission(model, year, trim, data, window=5):\n",
        "  year_range = (year-window, year+window)\n",
        "  relevant_data = data[(data['Model'] == model) & (data['Year'].between(year_range[0], year_range[1])) & (data['Trim'] == trim)]\n",
        "  common_transmission = relevant_data['Transmission'].mode()\n",
        "  return common_transmission[0] if not common_transmission.empty else np.nan"
      ]
    },
    {
      "cell_type": "code",
      "execution_count": 34,
      "metadata": {
        "id": "splqm6WST1EZ"
      },
      "outputs": [],
      "source": [
        "def fill_nan_with_transmission(row):\n",
        "  if pd.isna(row['Transmission']):\n",
        "    return most_common_transmission(row['Model'], row['Year'], row['Trim'], data)\n",
        "  return row['Transmission']"
      ]
    },
    {
      "cell_type": "code",
      "execution_count": 35,
      "metadata": {
        "id": "YqdcEE_XT1_I"
      },
      "outputs": [],
      "source": [
        "data['Transmission'] = data.apply(fill_nan_with_transmission, axis=1)"
      ]
    },
    {
      "cell_type": "code",
      "execution_count": 36,
      "metadata": {
        "colab": {
          "base_uri": "https://localhost:8080/"
        },
        "id": "n8-iMF7mc4tQ",
        "outputId": "169e7a38-5fdb-418a-bb5c-cf7a93d4ce92"
      },
      "outputs": [
        {
          "data": {
            "text/plain": [
              "np.int64(201)"
            ]
          },
          "execution_count": 36,
          "metadata": {},
          "output_type": "execute_result"
        }
      ],
      "source": [
        "data['Transmission'].isna().sum()"
      ]
    },
    {
      "cell_type": "markdown",
      "metadata": {
        "id": "rxUZXfU0PrbU"
      },
      "source": [
        "## Replace Missing Gas Mileage"
      ]
    },
    {
      "cell_type": "code",
      "execution_count": 37,
      "metadata": {
        "colab": {
          "base_uri": "https://localhost:8080/"
        },
        "id": "AC-WmdRVPtKO",
        "outputId": "9217a25a-697d-476c-b722-bb1c86ba2d6c"
      },
      "outputs": [
        {
          "name": "stdout",
          "output_type": "stream",
          "text": [
            "Gas Mileage:  [ 20.  21.  22.  28.  29.  25.  24.  32.  33.  30.  18.  19.  17.  nan\n",
            "  23.  15.  27.  26.  87.  77.  13.  14.  16.  12.  34.  83.  31.  68.\n",
            "  54.  78.  74.  79.  85.  82.  75.  95.  93. 100.  61.  50.  60.  81.\n",
            "  73.  11.  47.  10.   9.  46.  67.  36.  71.  62.  65.  64. 124. 117.\n",
            " 113. 111. 118.  96. 109. 120.  91. 105.  90.  76.  69.  86.  56.  89.\n",
            "  88.  92. 115. 119.  35. 108.  98. 106.  94.  84.  44.  51. 112. 116.\n",
            "  40.  41.  39. 102.  70.  66. 107.  97. 103.  42.  37.  99.  53.  48.\n",
            "  43.  45. 110.  38.  52. 114. 121. 127.  55.  58.  59.  80.  49. 101.\n",
            " 104. 123. 125. 122.  57.  63.]\n"
          ]
        }
      ],
      "source": [
        "print(\"Gas Mileage: \", data['Gas_Mileage'].unique())"
      ]
    },
    {
      "cell_type": "code",
      "execution_count": 38,
      "metadata": {
        "colab": {
          "base_uri": "https://localhost:8080/"
        },
        "id": "MJtHi6J-kto_",
        "outputId": "445b02ff-4994-4a20-8c20-09733b36cbbe"
      },
      "outputs": [
        {
          "data": {
            "text/plain": [
              "np.int64(12800)"
            ]
          },
          "execution_count": 38,
          "metadata": {},
          "output_type": "execute_result"
        }
      ],
      "source": [
        "data['Gas_Mileage'].isna().sum()"
      ]
    },
    {
      "cell_type": "code",
      "execution_count": 39,
      "metadata": {
        "id": "8-H6c1CtkzK8"
      },
      "outputs": [],
      "source": [
        "def most_common_gas_mileage(model, year, trim, data, window=4):\n",
        "  year_range = (year-window, year+window)\n",
        "  relevant_data = data[(data['Model'] == model) & (data['Year'].between(year_range[0], year_range[1])) & (data['Trim'] == trim)]\n",
        "  common_gas_mileage = relevant_data['Gas_Mileage'].mode()\n",
        "  return common_gas_mileage[0] if not common_gas_mileage.empty else np.nan"
      ]
    },
    {
      "cell_type": "code",
      "execution_count": 40,
      "metadata": {
        "id": "0clhEWNQk0IA"
      },
      "outputs": [],
      "source": [
        "def fill_nan_with_gas_mileage(row):\n",
        "  if pd.isna(row['Gas_Mileage']):\n",
        "    return most_common_gas_mileage(row['Model'], row['Year'], row['Trim'], data)\n",
        "  return row['Gas_Mileage']"
      ]
    },
    {
      "cell_type": "code",
      "execution_count": 41,
      "metadata": {
        "id": "iGFCwnwbk1o2"
      },
      "outputs": [],
      "source": [
        "data['Gas_Mileage'] = data.apply(fill_nan_with_gas_mileage, axis=1)"
      ]
    },
    {
      "cell_type": "code",
      "execution_count": 42,
      "metadata": {
        "colab": {
          "base_uri": "https://localhost:8080/"
        },
        "id": "vcB8clw-nL26",
        "outputId": "cbebb1c6-05ac-4ab2-aa75-5e2a921bcfcc"
      },
      "outputs": [
        {
          "data": {
            "text/plain": [
              "np.int64(8262)"
            ]
          },
          "execution_count": 42,
          "metadata": {},
          "output_type": "execute_result"
        }
      ],
      "source": [
        "data['Gas_Mileage'].isna().sum()"
      ]
    },
    {
      "cell_type": "markdown",
      "metadata": {
        "id": "mwYg5pDvnZaf"
      },
      "source": [
        "## Replace Missing Drive Type"
      ]
    },
    {
      "cell_type": "code",
      "execution_count": 43,
      "metadata": {
        "colab": {
          "base_uri": "https://localhost:8080/"
        },
        "id": "3vlwBSkCncVK",
        "outputId": "10602dc2-94eb-46d5-d934-ee0c94e5d111"
      },
      "outputs": [
        {
          "name": "stdout",
          "output_type": "stream",
          "text": [
            "Drive Type:  ['FWD' 'AWD' 'RWD' 'FOUR_WD' nan '4 seater' 'FOUR_X_FOUR' '7 seater'\n",
            " 'FOUR_X_TWO' 'JTJBC1BA4D2050855']\n"
          ]
        }
      ],
      "source": [
        "print(\"Drive Type: \", data['Drive_Type'].unique())"
      ]
    },
    {
      "cell_type": "code",
      "execution_count": 44,
      "metadata": {
        "id": "dkkAyEanyO_P"
      },
      "outputs": [],
      "source": [
        "data = data.drop(data[data['Drive_Type'] == 'JTJBC1BA4D2050855'].index)\n",
        "data = data.drop(data[data['Drive_Type'] == '4 seater'].index)\n",
        "data = data.drop(data[data['Drive_Type'] == '7 seater'].index)\n",
        "replacements = {\n",
        "    'FOUR_WD': 'AWD',\n",
        "    'FOUR_X_FOUR': 'AWD',\n",
        "    'FOUR_X_TWO': 'RWD'\n",
        "}\n",
        "\n",
        "data['Drive_Type'] = data['Drive_Type'].replace(replacements)"
      ]
    },
    {
      "cell_type": "code",
      "execution_count": 45,
      "metadata": {
        "colab": {
          "base_uri": "https://localhost:8080/"
        },
        "id": "cBddkdbWy1tj",
        "outputId": "da6db2e8-a480-4c5f-df5a-010f7b674b1e"
      },
      "outputs": [
        {
          "data": {
            "text/plain": [
              "np.int64(704)"
            ]
          },
          "execution_count": 45,
          "metadata": {},
          "output_type": "execute_result"
        }
      ],
      "source": [
        "data['Drive_Type'].isna().sum()"
      ]
    },
    {
      "cell_type": "code",
      "execution_count": 46,
      "metadata": {
        "id": "rV5VCwQznpTk"
      },
      "outputs": [],
      "source": [
        "def most_common_drive_type(model, year, trim, data, window=4):\n",
        "  year_range = (year-window, year+window)\n",
        "  relevant_data = data[(data['Model'] == model) & (data['Year'].between(year_range[0], year_range[1])) & (data['Trim'] == trim)]\n",
        "  common_drive_type = relevant_data['Drive_Type'].mode()\n",
        "  return common_drive_type[0] if not common_drive_type.empty else np.nan"
      ]
    },
    {
      "cell_type": "code",
      "execution_count": 47,
      "metadata": {
        "id": "cQtszE22nzB1"
      },
      "outputs": [],
      "source": [
        "def fill_nan_with_drive_type(row):\n",
        "  if pd.isna(row['Drive_Type']):\n",
        "    return most_common_drive_type(row['Model'], row['Year'], row['Trim'], data)\n",
        "  return row['Drive_Type']"
      ]
    },
    {
      "cell_type": "code",
      "execution_count": 48,
      "metadata": {
        "id": "AhzOQFAGn4fs"
      },
      "outputs": [],
      "source": [
        "data['Drive_Type'] = data.apply(fill_nan_with_drive_type, axis=1)"
      ]
    },
    {
      "cell_type": "code",
      "execution_count": 49,
      "metadata": {
        "colab": {
          "base_uri": "https://localhost:8080/"
        },
        "id": "DyNwZ-Kwn6lj",
        "outputId": "dfca50dc-f6ed-4e45-be0c-1607ced2a189"
      },
      "outputs": [
        {
          "data": {
            "text/plain": [
              "np.int64(533)"
            ]
          },
          "execution_count": 49,
          "metadata": {},
          "output_type": "execute_result"
        }
      ],
      "source": [
        "data['Drive_Type'].isna().sum()"
      ]
    },
    {
      "cell_type": "markdown",
      "metadata": {},
      "source": [
        "## Replace Missing Mileage"
      ]
    },
    {
      "cell_type": "code",
      "execution_count": 50,
      "metadata": {},
      "outputs": [
        {
          "data": {
            "text/plain": [
              "np.int64(2753)"
            ]
          },
          "execution_count": 50,
          "metadata": {},
          "output_type": "execute_result"
        }
      ],
      "source": [
        "data['Mileage'].isna().sum()"
      ]
    },
    {
      "cell_type": "code",
      "execution_count": 51,
      "metadata": {},
      "outputs": [],
      "source": [
        "def average_mileage(model, year, data, window=1):\n",
        "    year_range = (year-window, year+window)\n",
        "    relevant_data = data[(data['Model'] == model) & (data['Year'].between(year_range[0], year_range[1]))]\n",
        "    avg_mlg = relevant_data['Mileage'].mean()\n",
        "    if pd.isna(avg_mlg):\n",
        "        return np.nan\n",
        "    noise = avg_mlg*0.05\n",
        "    return np.random.normal(avg_mlg, noise)"
      ]
    },
    {
      "cell_type": "code",
      "execution_count": 52,
      "metadata": {},
      "outputs": [],
      "source": [
        "def fill_nan_with_miles(row):\n",
        "  if pd.isna(row['Mileage']):\n",
        "    return average_mileage(row['Model'], row['Year'], data)\n",
        "  return row['Mileage']"
      ]
    },
    {
      "cell_type": "code",
      "execution_count": 53,
      "metadata": {},
      "outputs": [],
      "source": [
        "data['Mileage'] = data.apply(fill_nan_with_miles, axis=1)"
      ]
    },
    {
      "cell_type": "code",
      "execution_count": 54,
      "metadata": {},
      "outputs": [
        {
          "data": {
            "text/plain": [
              "np.int64(56)"
            ]
          },
          "execution_count": 54,
          "metadata": {},
          "output_type": "execute_result"
        }
      ],
      "source": [
        "data['Mileage'].isna().sum()"
      ]
    },
    {
      "cell_type": "markdown",
      "metadata": {},
      "source": [
        "## Fixing Incorrect Colors"
      ]
    },
    {
      "cell_type": "code",
      "execution_count": 55,
      "metadata": {},
      "outputs": [],
      "source": [
        "def is_number(s):\n",
        "    s = str(s)\n",
        "    return not s.isdigit()"
      ]
    },
    {
      "cell_type": "code",
      "execution_count": 56,
      "metadata": {},
      "outputs": [],
      "source": [
        "mask = data['Color'].apply(is_number)\n",
        "data = data[mask]"
      ]
    },
    {
      "cell_type": "code",
      "execution_count": 57,
      "metadata": {},
      "outputs": [],
      "source": [
        "data = data[data['Color']!='--']"
      ]
    },
    {
      "cell_type": "code",
      "execution_count": 58,
      "metadata": {},
      "outputs": [],
      "source": [
        "def remove_square_brackets(s):\n",
        "    s = str(s)\n",
        "    return re.sub(r'\\[.*?\\]', '', s).strip()"
      ]
    },
    {
      "cell_type": "code",
      "execution_count": 59,
      "metadata": {},
      "outputs": [],
      "source": [
        "data['Color'] = data['Color'].apply(remove_square_brackets)"
      ]
    },
    {
      "cell_type": "markdown",
      "metadata": {
        "id": "Wi6C4nI4GrH2"
      },
      "source": [
        "## Removing Final Null/Incorrect Values"
      ]
    },
    {
      "cell_type": "code",
      "execution_count": 60,
      "metadata": {},
      "outputs": [
        {
          "data": {
            "text/html": [
              "<div>\n",
              "<style scoped>\n",
              "    .dataframe tbody tr th:only-of-type {\n",
              "        vertical-align: middle;\n",
              "    }\n",
              "\n",
              "    .dataframe tbody tr th {\n",
              "        vertical-align: top;\n",
              "    }\n",
              "\n",
              "    .dataframe thead th {\n",
              "        text-align: right;\n",
              "    }\n",
              "</style>\n",
              "<table border=\"1\" class=\"dataframe\">\n",
              "  <thead>\n",
              "    <tr style=\"text-align: right;\">\n",
              "      <th></th>\n",
              "      <th>Make</th>\n",
              "      <th>Model</th>\n",
              "      <th>Year</th>\n",
              "      <th>Trim</th>\n",
              "      <th>Location</th>\n",
              "      <th>Price</th>\n",
              "      <th>Mileage</th>\n",
              "      <th>Transmission</th>\n",
              "      <th>Color</th>\n",
              "      <th>Engine_Size</th>\n",
              "      <th>Fuel_Type</th>\n",
              "      <th>Gas_Mileage</th>\n",
              "      <th>Seats</th>\n",
              "      <th>Drive_Type</th>\n",
              "    </tr>\n",
              "  </thead>\n",
              "  <tbody>\n",
              "    <tr>\n",
              "      <th>43283</th>\n",
              "      <td>Mazda</td>\n",
              "      <td>Truck</td>\n",
              "      <td>2002</td>\n",
              "      <td>B3000 Dual Sport</td>\n",
              "      <td>29512</td>\n",
              "      <td>4599.0</td>\n",
              "      <td>124700.0</td>\n",
              "      <td>Automatic</td>\n",
              "      <td>Red</td>\n",
              "      <td>6.0</td>\n",
              "      <td>Flex fuel</td>\n",
              "      <td>NaN</td>\n",
              "      <td>5.0</td>\n",
              "      <td>RWD</td>\n",
              "    </tr>\n",
              "  </tbody>\n",
              "</table>\n",
              "</div>"
            ],
            "text/plain": [
              "        Make  Model  Year              Trim Location   Price   Mileage  \\\n",
              "43283  Mazda  Truck  2002  B3000 Dual Sport    29512  4599.0  124700.0   \n",
              "\n",
              "      Transmission Color  Engine_Size  Fuel_Type  Gas_Mileage  Seats  \\\n",
              "43283    Automatic   Red          6.0  Flex fuel          NaN    5.0   \n",
              "\n",
              "      Drive_Type  \n",
              "43283        RWD  "
            ]
          },
          "execution_count": 60,
          "metadata": {},
          "output_type": "execute_result"
        }
      ],
      "source": [
        "data.sample()"
      ]
    },
    {
      "cell_type": "code",
      "execution_count": 61,
      "metadata": {
        "id": "U35g9cqzy_uJ"
      },
      "outputs": [
        {
          "name": "stdout",
          "output_type": "stream",
          "text": [
            "Price:  6421\n",
            "Mileage:  56\n",
            "Transmission:  201\n",
            "Color:  0\n",
            "Engine_Size:  624\n",
            "Fuel_Type:  85\n",
            "Gas Mileage:  8244\n",
            "Drive_Type:  532\n"
          ]
        }
      ],
      "source": [
        "print(\"Price: \", data['Price'].isna().sum())\n",
        "print(\"Mileage: \", data['Mileage'].isna().sum())\n",
        "print(\"Transmission: \", data['Transmission'].isna().sum())\n",
        "print(\"Color: \", data['Color'].isna().sum())\n",
        "print(\"Engine_Size: \", data['Engine_Size'].isna().sum())\n",
        "print(\"Fuel_Type: \", data['Fuel_Type'].isna().sum())\n",
        "print(\"Gas Mileage: \", data['Gas_Mileage'].isna().sum())\n",
        "print(\"Drive_Type: \", data['Drive_Type'].isna().sum())"
      ]
    },
    {
      "cell_type": "code",
      "execution_count": 62,
      "metadata": {},
      "outputs": [
        {
          "data": {
            "text/plain": [
              "np.int64(16498)"
            ]
          },
          "execution_count": 62,
          "metadata": {},
          "output_type": "execute_result"
        }
      ],
      "source": [
        "data.isna().sum().sum()"
      ]
    },
    {
      "cell_type": "code",
      "execution_count": 63,
      "metadata": {},
      "outputs": [],
      "source": [
        "data = data.dropna()"
      ]
    },
    {
      "cell_type": "code",
      "execution_count": 64,
      "metadata": {},
      "outputs": [
        {
          "data": {
            "text/plain": [
              "45897"
            ]
          },
          "execution_count": 64,
          "metadata": {},
          "output_type": "execute_result"
        }
      ],
      "source": [
        "len(data.index)"
      ]
    },
    {
      "cell_type": "code",
      "execution_count": 65,
      "metadata": {},
      "outputs": [
        {
          "data": {
            "text/plain": [
              "np.int64(0)"
            ]
          },
          "execution_count": 65,
          "metadata": {},
          "output_type": "execute_result"
        }
      ],
      "source": [
        "data.isna().sum().sum()"
      ]
    },
    {
      "cell_type": "code",
      "execution_count": 66,
      "metadata": {},
      "outputs": [],
      "source": [
        "# removing seats drops MAE\n",
        "data = data.drop(columns=['Seats'])"
      ]
    },
    {
      "cell_type": "code",
      "execution_count": 67,
      "metadata": {},
      "outputs": [
        {
          "data": {
            "text/html": [
              "<div>\n",
              "<style scoped>\n",
              "    .dataframe tbody tr th:only-of-type {\n",
              "        vertical-align: middle;\n",
              "    }\n",
              "\n",
              "    .dataframe tbody tr th {\n",
              "        vertical-align: top;\n",
              "    }\n",
              "\n",
              "    .dataframe thead th {\n",
              "        text-align: right;\n",
              "    }\n",
              "</style>\n",
              "<table border=\"1\" class=\"dataframe\">\n",
              "  <thead>\n",
              "    <tr style=\"text-align: right;\">\n",
              "      <th></th>\n",
              "      <th>Make</th>\n",
              "      <th>Model</th>\n",
              "      <th>Year</th>\n",
              "      <th>Trim</th>\n",
              "      <th>Location</th>\n",
              "      <th>Price</th>\n",
              "      <th>Mileage</th>\n",
              "      <th>Transmission</th>\n",
              "      <th>Color</th>\n",
              "      <th>Engine_Size</th>\n",
              "      <th>Fuel_Type</th>\n",
              "      <th>Gas_Mileage</th>\n",
              "      <th>Drive_Type</th>\n",
              "    </tr>\n",
              "  </thead>\n",
              "  <tbody>\n",
              "    <tr>\n",
              "      <th>55741</th>\n",
              "      <td>Tesla</td>\n",
              "      <td>Model 3</td>\n",
              "      <td>2019</td>\n",
              "      <td>Standard Range Plus</td>\n",
              "      <td>18076</td>\n",
              "      <td>21998.0</td>\n",
              "      <td>58397.0</td>\n",
              "      <td>Automatic</td>\n",
              "      <td>Black</td>\n",
              "      <td>0.0</td>\n",
              "      <td>Electric</td>\n",
              "      <td>127.0</td>\n",
              "      <td>RWD</td>\n",
              "    </tr>\n",
              "  </tbody>\n",
              "</table>\n",
              "</div>"
            ],
            "text/plain": [
              "        Make    Model  Year                 Trim Location    Price  Mileage  \\\n",
              "55741  Tesla  Model 3  2019  Standard Range Plus    18076  21998.0  58397.0   \n",
              "\n",
              "      Transmission  Color  Engine_Size Fuel_Type  Gas_Mileage Drive_Type  \n",
              "55741    Automatic  Black          0.0  Electric        127.0        RWD  "
            ]
          },
          "execution_count": 67,
          "metadata": {},
          "output_type": "execute_result"
        }
      ],
      "source": [
        "data.sample()"
      ]
    },
    {
      "cell_type": "markdown",
      "metadata": {
        "id": "AJ5EZdr3GzDZ"
      },
      "source": [
        "## Add Coordinates From Zip Code"
      ]
    },
    {
      "cell_type": "code",
      "execution_count": 68,
      "metadata": {},
      "outputs": [],
      "source": [
        "nomi = pgeocode.Nominatim('us')\n",
        "\n",
        "\n",
        "latitudes = []\n",
        "longitudes = []\n",
        "\n",
        "for zip_code in data['Location']:\n",
        "    location = nomi.query_postal_code(zip_code)\n",
        "    latitudes.append(location.latitude if location is not None else None)\n",
        "    longitudes.append(location.longitude if location is not None else None)\n",
        "\n",
        "data['Latitude'] = latitudes\n",
        "data['Longitude'] = longitudes\n",
        "data['Latitude'] = data['Latitude'].apply(radians)\n",
        "data['Longitude'] = data['Longitude'].apply(radians)\n"
      ]
    },
    {
      "cell_type": "code",
      "execution_count": 69,
      "metadata": {},
      "outputs": [],
      "source": [
        "data = data.drop(columns=['Location'])"
      ]
    },
    {
      "cell_type": "markdown",
      "metadata": {},
      "source": [
        "## Replace Year Column"
      ]
    },
    {
      "cell_type": "code",
      "execution_count": 70,
      "metadata": {
        "id": "qmTgqQ5_1HTK"
      },
      "outputs": [],
      "source": [
        "current_year = datetime.datetime.now().year\n",
        "data['Age'] = current_year - data['Year'].astype(int)\n",
        "data = data.drop(columns='Year')"
      ]
    },
    {
      "cell_type": "code",
      "execution_count": 71,
      "metadata": {
        "colab": {
          "base_uri": "https://localhost:8080/",
          "height": 204
        },
        "id": "HvXOdYR5ZAUD",
        "outputId": "7db69ff6-2b08-4f8c-961a-96be894905c5"
      },
      "outputs": [
        {
          "data": {
            "text/html": [
              "<div>\n",
              "<style scoped>\n",
              "    .dataframe tbody tr th:only-of-type {\n",
              "        vertical-align: middle;\n",
              "    }\n",
              "\n",
              "    .dataframe tbody tr th {\n",
              "        vertical-align: top;\n",
              "    }\n",
              "\n",
              "    .dataframe thead th {\n",
              "        text-align: right;\n",
              "    }\n",
              "</style>\n",
              "<table border=\"1\" class=\"dataframe\">\n",
              "  <thead>\n",
              "    <tr style=\"text-align: right;\">\n",
              "      <th></th>\n",
              "      <th>Make</th>\n",
              "      <th>Model</th>\n",
              "      <th>Trim</th>\n",
              "      <th>Price</th>\n",
              "      <th>Mileage</th>\n",
              "      <th>Transmission</th>\n",
              "      <th>Color</th>\n",
              "      <th>Engine_Size</th>\n",
              "      <th>Fuel_Type</th>\n",
              "      <th>Gas_Mileage</th>\n",
              "      <th>Drive_Type</th>\n",
              "      <th>Latitude</th>\n",
              "      <th>Longitude</th>\n",
              "      <th>Age</th>\n",
              "    </tr>\n",
              "  </thead>\n",
              "  <tbody>\n",
              "    <tr>\n",
              "      <th>30107</th>\n",
              "      <td>Infiniti</td>\n",
              "      <td>QX60</td>\n",
              "      <td>Base</td>\n",
              "      <td>10385.0</td>\n",
              "      <td>123921.0</td>\n",
              "      <td>CVT</td>\n",
              "      <td>Liquid Platinum</td>\n",
              "      <td>6.0</td>\n",
              "      <td>Gas</td>\n",
              "      <td>22.0</td>\n",
              "      <td>AWD</td>\n",
              "      <td>0.707173</td>\n",
              "      <td>-1.306297</td>\n",
              "      <td>9</td>\n",
              "    </tr>\n",
              "    <tr>\n",
              "      <th>62820</th>\n",
              "      <td>Volvo</td>\n",
              "      <td>XC90</td>\n",
              "      <td>T6 First Edition</td>\n",
              "      <td>14995.0</td>\n",
              "      <td>116040.0</td>\n",
              "      <td>Automatic</td>\n",
              "      <td>Onyx Black Metallic</td>\n",
              "      <td>4.0</td>\n",
              "      <td>Gas</td>\n",
              "      <td>23.0</td>\n",
              "      <td>AWD</td>\n",
              "      <td>0.714662</td>\n",
              "      <td>-1.295848</td>\n",
              "      <td>8</td>\n",
              "    </tr>\n",
              "    <tr>\n",
              "      <th>14690</th>\n",
              "      <td>Chrysler</td>\n",
              "      <td>Pacifica</td>\n",
              "      <td>Touring L</td>\n",
              "      <td>26985.0</td>\n",
              "      <td>60745.0</td>\n",
              "      <td>Automatic</td>\n",
              "      <td>Granite Crystal Metallic Clearcoat</td>\n",
              "      <td>6.0</td>\n",
              "      <td>Gas</td>\n",
              "      <td>22.0</td>\n",
              "      <td>FWD</td>\n",
              "      <td>0.696924</td>\n",
              "      <td>-1.309302</td>\n",
              "      <td>2</td>\n",
              "    </tr>\n",
              "    <tr>\n",
              "      <th>32257</th>\n",
              "      <td>Jeep</td>\n",
              "      <td>Renegade</td>\n",
              "      <td>Limited</td>\n",
              "      <td>18988.0</td>\n",
              "      <td>17691.0</td>\n",
              "      <td>Automatic</td>\n",
              "      <td>Black Clearcoat</td>\n",
              "      <td>4.0</td>\n",
              "      <td>Gas</td>\n",
              "      <td>26.0</td>\n",
              "      <td>AWD</td>\n",
              "      <td>0.708961</td>\n",
              "      <td>-1.290215</td>\n",
              "      <td>4</td>\n",
              "    </tr>\n",
              "    <tr>\n",
              "      <th>19992</th>\n",
              "      <td>Ford</td>\n",
              "      <td>Fiesta</td>\n",
              "      <td>ST</td>\n",
              "      <td>8698.0</td>\n",
              "      <td>115145.0</td>\n",
              "      <td>Manual</td>\n",
              "      <td>Orange</td>\n",
              "      <td>4.0</td>\n",
              "      <td>Gas</td>\n",
              "      <td>29.0</td>\n",
              "      <td>FWD</td>\n",
              "      <td>0.702282</td>\n",
              "      <td>-1.314154</td>\n",
              "      <td>10</td>\n",
              "    </tr>\n",
              "  </tbody>\n",
              "</table>\n",
              "</div>"
            ],
            "text/plain": [
              "           Make     Model              Trim    Price   Mileage Transmission  \\\n",
              "30107  Infiniti      QX60              Base  10385.0  123921.0          CVT   \n",
              "62820     Volvo      XC90  T6 First Edition  14995.0  116040.0    Automatic   \n",
              "14690  Chrysler  Pacifica         Touring L  26985.0   60745.0    Automatic   \n",
              "32257      Jeep  Renegade           Limited  18988.0   17691.0    Automatic   \n",
              "19992      Ford    Fiesta                ST   8698.0  115145.0       Manual   \n",
              "\n",
              "                                    Color  Engine_Size Fuel_Type  Gas_Mileage  \\\n",
              "30107                     Liquid Platinum          6.0       Gas         22.0   \n",
              "62820                 Onyx Black Metallic          4.0       Gas         23.0   \n",
              "14690  Granite Crystal Metallic Clearcoat          6.0       Gas         22.0   \n",
              "32257                     Black Clearcoat          4.0       Gas         26.0   \n",
              "19992                              Orange          4.0       Gas         29.0   \n",
              "\n",
              "      Drive_Type  Latitude  Longitude  Age  \n",
              "30107        AWD  0.707173  -1.306297    9  \n",
              "62820        AWD  0.714662  -1.295848    8  \n",
              "14690        FWD  0.696924  -1.309302    2  \n",
              "32257        AWD  0.708961  -1.290215    4  \n",
              "19992        FWD  0.702282  -1.314154   10  "
            ]
          },
          "execution_count": 71,
          "metadata": {},
          "output_type": "execute_result"
        }
      ],
      "source": [
        "data.sample(5)"
      ]
    },
    {
      "cell_type": "code",
      "execution_count": 72,
      "metadata": {},
      "outputs": [],
      "source": [
        "data = data.dropna()"
      ]
    },
    {
      "cell_type": "code",
      "execution_count": 73,
      "metadata": {},
      "outputs": [
        {
          "data": {
            "text/plain": [
              "45853"
            ]
          },
          "execution_count": 73,
          "metadata": {},
          "output_type": "execute_result"
        }
      ],
      "source": [
        "len(data.index)"
      ]
    },
    {
      "cell_type": "markdown",
      "metadata": {},
      "source": [
        "## Format Dataframe"
      ]
    },
    {
      "cell_type": "code",
      "execution_count": 74,
      "metadata": {},
      "outputs": [],
      "source": [
        "price = data.pop('Price')\n",
        "data.insert(13, 'Price', price)"
      ]
    },
    {
      "cell_type": "code",
      "execution_count": 75,
      "metadata": {},
      "outputs": [],
      "source": [
        "age = data.pop('Age')\n",
        "data.insert(2, 'Age', age)"
      ]
    },
    {
      "cell_type": "code",
      "execution_count": 76,
      "metadata": {},
      "outputs": [
        {
          "data": {
            "text/html": [
              "<div>\n",
              "<style scoped>\n",
              "    .dataframe tbody tr th:only-of-type {\n",
              "        vertical-align: middle;\n",
              "    }\n",
              "\n",
              "    .dataframe tbody tr th {\n",
              "        vertical-align: top;\n",
              "    }\n",
              "\n",
              "    .dataframe thead th {\n",
              "        text-align: right;\n",
              "    }\n",
              "</style>\n",
              "<table border=\"1\" class=\"dataframe\">\n",
              "  <thead>\n",
              "    <tr style=\"text-align: right;\">\n",
              "      <th></th>\n",
              "      <th>Make</th>\n",
              "      <th>Model</th>\n",
              "      <th>Age</th>\n",
              "      <th>Trim</th>\n",
              "      <th>Mileage</th>\n",
              "      <th>Transmission</th>\n",
              "      <th>Color</th>\n",
              "      <th>Engine_Size</th>\n",
              "      <th>Fuel_Type</th>\n",
              "      <th>Gas_Mileage</th>\n",
              "      <th>Drive_Type</th>\n",
              "      <th>Latitude</th>\n",
              "      <th>Longitude</th>\n",
              "      <th>Price</th>\n",
              "    </tr>\n",
              "  </thead>\n",
              "  <tbody>\n",
              "    <tr>\n",
              "      <th>54003</th>\n",
              "      <td>Scion</td>\n",
              "      <td>iA</td>\n",
              "      <td>8</td>\n",
              "      <td>Base</td>\n",
              "      <td>184140.0</td>\n",
              "      <td>Manual</td>\n",
              "      <td>Sterling</td>\n",
              "      <td>4.0</td>\n",
              "      <td>Gas</td>\n",
              "      <td>35.0</td>\n",
              "      <td>FWD</td>\n",
              "      <td>0.754501</td>\n",
              "      <td>-2.150844</td>\n",
              "      <td>5400.0</td>\n",
              "    </tr>\n",
              "  </tbody>\n",
              "</table>\n",
              "</div>"
            ],
            "text/plain": [
              "        Make Model  Age  Trim   Mileage Transmission     Color  Engine_Size  \\\n",
              "54003  Scion    iA    8  Base  184140.0       Manual  Sterling          4.0   \n",
              "\n",
              "      Fuel_Type  Gas_Mileage Drive_Type  Latitude  Longitude   Price  \n",
              "54003       Gas         35.0        FWD  0.754501  -2.150844  5400.0  "
            ]
          },
          "execution_count": 76,
          "metadata": {},
          "output_type": "execute_result"
        }
      ],
      "source": [
        "data.sample()"
      ]
    },
    {
      "cell_type": "markdown",
      "metadata": {
        "id": "F8ubAH6yOP5W"
      },
      "source": [
        "# 2) Exploratory Data Analysis"
      ]
    },
    {
      "cell_type": "code",
      "execution_count": null,
      "metadata": {
        "id": "_-u4znybKrz9"
      },
      "outputs": [],
      "source": [
        "# Find the total number of cars per manufacturer in the dataset\n",
        "plt.figure(figsize=(20, 15))\n",
        "sns.countplot(y=data['Make'])\n",
        "plt.title(\"Manufacturer Distribution\")\n",
        "plt.show()"
      ]
    },
    {
      "cell_type": "code",
      "execution_count": null,
      "metadata": {
        "id": "HHUcaNGdOj4i"
      },
      "outputs": [],
      "source": [
        "# Find the number of cars made in each year in the dataset\n",
        "plt.figure(figsize=(20, 15))\n",
        "sns.countplot(y=data.Year, palette='viridis')\n",
        "plt.title(\"Year Distribution\")\n",
        "plt.show()"
      ]
    },
    {
      "cell_type": "code",
      "execution_count": null,
      "metadata": {
        "id": "X-CNtaphTFhy"
      },
      "outputs": [],
      "source": [
        "# Number of cars per transmission type\n",
        "plt.figure(figsize=(20, 15))\n",
        "sns.countplot(x=data.Transmission, palette='Paired')\n",
        "plt.title(\"Transmission Distribution\")\n",
        "plt.show()"
      ]
    },
    {
      "cell_type": "code",
      "execution_count": null,
      "metadata": {
        "id": "Lic_CH_FTbJ9"
      },
      "outputs": [],
      "source": [
        "# unique elements in data\n",
        "data.nunique()"
      ]
    },
    {
      "cell_type": "code",
      "execution_count": null,
      "metadata": {
        "id": "E7Hy4i9mUNGh"
      },
      "outputs": [],
      "source": [
        "# fuel type distribution\n",
        "plt.figure(figsize=(20, 15))\n",
        "sns.countplot(y=data.Fuel_Type.sort_values(ascending=False), palette='Dark2')\n"
      ]
    },
    {
      "cell_type": "code",
      "execution_count": null,
      "metadata": {
        "id": "h-DMNpGrVPa5"
      },
      "outputs": [],
      "source": [
        "# Group rows by make\n",
        "data.groupby('Make')[['Engine_Size','Gas_Mileage', 'Price']].agg(['min','max','mean','median'])"
      ]
    },
    {
      "cell_type": "code",
      "execution_count": null,
      "metadata": {
        "id": "BKTwOMN2VTaD"
      },
      "outputs": [],
      "source": [
        "# average price by year\n",
        "plt.figure(figsize=(20, 10))\n",
        "data.groupby('Year')['Price'].mean().plot(kind='bar',color='g')\n",
        "plt.title('Average Price by Year')\n",
        "plt.show()"
      ]
    },
    {
      "cell_type": "code",
      "execution_count": null,
      "metadata": {
        "id": "YUVwe0B_ixYI"
      },
      "outputs": [],
      "source": [
        "plt.figure(figsize = (10, 10))\n",
        "data.groupby('Transmission')['Price'].mean().plot(kind = 'bar', color = 'y')\n",
        "plt.title(\"Average Price by Transmission\", fontsize = 20)\n",
        "plt.show()"
      ]
    },
    {
      "cell_type": "code",
      "execution_count": null,
      "metadata": {
        "id": "vOPZ5HOpjSbV"
      },
      "outputs": [],
      "source": [
        "plt.figure(figsize = (20, 15))\n",
        "data.groupby(['Make'])['Price'].mean().sort_values(ascending = False).plot(kind = 'bar', fontsize = 15, color = 'black')\n",
        "plt.title(\"Average Price per Manufacturer\", fontsize = 20)\n",
        "plt.show()"
      ]
    },
    {
      "cell_type": "code",
      "execution_count": null,
      "metadata": {
        "id": "rJYdfqN3jaZX"
      },
      "outputs": [],
      "source": [
        "# Group by Drive Type\n",
        "plt.figure(figsize = (20, 15))\n",
        "data.groupby(['Drive_Type'])['Price'].mean().sort_values(ascending = False).plot(kind = 'bar', fontsize = 15, color = 'orange')"
      ]
    },
    {
      "cell_type": "code",
      "execution_count": null,
      "metadata": {
        "id": "GdI55ANEzwHM"
      },
      "outputs": [],
      "source": [
        "sns.scatterplot(x='Engine_Size',y='Gas_Mileage', data=data, color='r')\n",
        "plt.show()"
      ]
    },
    {
      "cell_type": "code",
      "execution_count": null,
      "metadata": {
        "id": "665RHKb01-ZA"
      },
      "outputs": [],
      "source": [
        "# Boxplot of MPG\n",
        "sns.boxplot(x='Gas_Mileage', data=data,color='r')"
      ]
    },
    {
      "cell_type": "code",
      "execution_count": null,
      "metadata": {
        "id": "CY7hf3gd6Vnn"
      },
      "outputs": [],
      "source": [
        "sns.scatterplot(x='Fuel_Type',y='Gas_Mileage', data=data, color='r')\n",
        "plt.show()"
      ]
    },
    {
      "cell_type": "code",
      "execution_count": null,
      "metadata": {
        "colab": {
          "base_uri": "https://localhost:8080/",
          "height": 1000
        },
        "id": "2o-KiYJj9MHx",
        "outputId": "19f5fd92-a903-4215-8815-47b5612eb798"
      },
      "outputs": [],
      "source": [
        "plt.figure(figsize = (20, 15))\n",
        "numeric_columns = ['Age', 'Mileage', 'Engine_Size', 'Seats', 'Price']\n",
        "heatmap_data = data[numeric_columns].corr()\n",
        "sns.heatmap(heatmap_data, annot=True, cmap='BuPu')"
      ]
    },
    {
      "cell_type": "code",
      "execution_count": null,
      "metadata": {
        "colab": {
          "base_uri": "https://localhost:8080/",
          "height": 1000
        },
        "id": "7l7GcaXrdfrX",
        "outputId": "0dae7dd0-0e33-4f7d-806e-bfe47b0227d3"
      },
      "outputs": [],
      "source": [
        "# Gas Mileage by Year\n",
        "plt.figure(figsize = (20, 15))\n",
        "data.groupby('Year')['Gas_Mileage'].mean().plot(kind = 'bar', color = 'g')\n",
        "plt.title(\"Gas Mileage by Year\", fontsize = 20)\n",
        "plt.show()"
      ]
    },
    {
      "cell_type": "code",
      "execution_count": null,
      "metadata": {
        "colab": {
          "base_uri": "https://localhost:8080/",
          "height": 1000
        },
        "id": "7HqRMpgsd2ke",
        "outputId": "eee3ea38-3d10-4361-a02d-339027b19f50"
      },
      "outputs": [],
      "source": [
        "# Mileage by Year\n",
        "plt.figure(figsize = (20, 15))\n",
        "data.groupby('Year')['Mileage'].mean().plot(kind = 'bar', color = 'g')\n",
        "plt.title(\"Mileage by Year\", fontsize = 20)\n",
        "plt.show()"
      ]
    },
    {
      "cell_type": "code",
      "execution_count": null,
      "metadata": {
        "colab": {
          "base_uri": "https://localhost:8080/"
        },
        "id": "rti_BYUEerIB",
        "outputId": "0bd2babc-36a6-4aab-a470-9dae9fb69ed3"
      },
      "outputs": [],
      "source": [
        "data.info()"
      ]
    },
    {
      "cell_type": "markdown",
      "metadata": {
        "id": "vY60LO6Ah3D8"
      },
      "source": [
        "# 3) Data Manipulation"
      ]
    },
    {
      "cell_type": "code",
      "execution_count": null,
      "metadata": {
        "colab": {
          "base_uri": "https://localhost:8080/"
        },
        "id": "j7dgeShKlQbE",
        "outputId": "6bd7d55e-5825-4c88-cdad-af5d88f6c1ce"
      },
      "outputs": [],
      "source": [
        "print(len(data.index))"
      ]
    },
    {
      "cell_type": "code",
      "execution_count": null,
      "metadata": {},
      "outputs": [],
      "source": [
        "frame = data.copy()"
      ]
    },
    {
      "cell_type": "code",
      "execution_count": null,
      "metadata": {},
      "outputs": [],
      "source": [
        "frame.sample()"
      ]
    },
    {
      "cell_type": "markdown",
      "metadata": {},
      "source": [
        "## Split the Data"
      ]
    },
    {
      "cell_type": "code",
      "execution_count": null,
      "metadata": {
        "id": "2OmOQMB6hsTP"
      },
      "outputs": [],
      "source": [
        "shuffled_data = shuffle(frame, random_state=1)\n",
        "X = shuffled_data.drop('Price', axis=1)\n",
        "y = shuffled_data['Price']"
      ]
    },
    {
      "cell_type": "code",
      "execution_count": null,
      "metadata": {
        "id": "vKLlkXNMiEpw"
      },
      "outputs": [],
      "source": [
        "# Training and Test Set\n",
        "X_train, X_test, y_train, y_test = train_test_split(X, y, test_size=0.2, random_state=1)"
      ]
    },
    {
      "cell_type": "code",
      "execution_count": null,
      "metadata": {
        "colab": {
          "base_uri": "https://localhost:8080/"
        },
        "id": "rBou5xwOiJ3z",
        "outputId": "4e11be1e-9535-41f5-e9c1-730a14d93723"
      },
      "outputs": [],
      "source": [
        "print(\"The size of the input train data is: {}\".format(X_train.shape))\n",
        "print(\"The size of the output train data is: {}\".format(y_train.shape))\n",
        "print(\"The size of the input test data is: {}\".format(X_test.shape))\n",
        "print(\"The size of the output test data is: {}\".format(y_test.shape))"
      ]
    },
    {
      "cell_type": "code",
      "execution_count": null,
      "metadata": {},
      "outputs": [],
      "source": [
        "X_train.sample()"
      ]
    },
    {
      "cell_type": "markdown",
      "metadata": {},
      "source": [
        "## Encode Make"
      ]
    },
    {
      "cell_type": "code",
      "execution_count": null,
      "metadata": {},
      "outputs": [],
      "source": [
        "make_encoder = TargetEncoder(cols='Make')"
      ]
    },
    {
      "cell_type": "code",
      "execution_count": null,
      "metadata": {},
      "outputs": [],
      "source": [
        "make_encoder.fit(X_train['Make'], y_train.to_frame()['Price'])"
      ]
    },
    {
      "cell_type": "code",
      "execution_count": null,
      "metadata": {},
      "outputs": [],
      "source": [
        "X_train['Make'] = make_encoder.transform(X_train['Make'])"
      ]
    },
    {
      "cell_type": "code",
      "execution_count": null,
      "metadata": {},
      "outputs": [],
      "source": [
        "X_test['Make'] = make_encoder.transform(X_test['Make'])"
      ]
    },
    {
      "cell_type": "code",
      "execution_count": null,
      "metadata": {},
      "outputs": [],
      "source": [
        "X_train.sample()"
      ]
    },
    {
      "cell_type": "markdown",
      "metadata": {},
      "source": [
        "## Encode Model"
      ]
    },
    {
      "cell_type": "code",
      "execution_count": null,
      "metadata": {},
      "outputs": [],
      "source": [
        "model_encoder = TargetEncoder(cols='Model')\n",
        "model_encoder.fit(X_train['Model'], y_train.to_frame()['Price'])\n",
        "X_train['Model'] = model_encoder.transform(X_train['Model'])\n",
        "X_test['Model'] = model_encoder.transform(X_test['Model'])"
      ]
    },
    {
      "cell_type": "code",
      "execution_count": null,
      "metadata": {},
      "outputs": [],
      "source": [
        "X_train.sample()"
      ]
    },
    {
      "cell_type": "markdown",
      "metadata": {},
      "source": [
        "## Encode Trim"
      ]
    },
    {
      "cell_type": "code",
      "execution_count": null,
      "metadata": {},
      "outputs": [],
      "source": [
        "trim_encoder = TargetEncoder(cols='Trim')\n",
        "trim_encoder.fit(X_train['Trim'], y_train.to_frame()['Price'])\n",
        "X_train['Trim'] = trim_encoder.transform(X_train['Trim'])\n",
        "X_test['Trim'] = trim_encoder.transform(X_test['Trim'])"
      ]
    },
    {
      "cell_type": "code",
      "execution_count": null,
      "metadata": {},
      "outputs": [],
      "source": [
        "X_train.sample()"
      ]
    },
    {
      "cell_type": "markdown",
      "metadata": {},
      "source": [
        "## Encode Color"
      ]
    },
    {
      "cell_type": "code",
      "execution_count": null,
      "metadata": {},
      "outputs": [],
      "source": [
        "color_encoder = TargetEncoder(cols='Color')\n",
        "color_encoder.fit(X_train['Color'], y_train.to_frame()['Price'])\n",
        "X_train['Color'] = color_encoder.transform(X_train['Color'])\n",
        "X_test['Color'] = color_encoder.transform(X_test['Color'])"
      ]
    },
    {
      "cell_type": "code",
      "execution_count": null,
      "metadata": {},
      "outputs": [],
      "source": [
        "X_train.sample()"
      ]
    },
    {
      "cell_type": "markdown",
      "metadata": {},
      "source": [
        "## One Hot Encoding"
      ]
    },
    {
      "cell_type": "code",
      "execution_count": null,
      "metadata": {},
      "outputs": [],
      "source": [
        "X_train.sample()"
      ]
    },
    {
      "cell_type": "code",
      "execution_count": null,
      "metadata": {},
      "outputs": [],
      "source": [
        "encoder = OneHotEncoder()\n",
        "encoder.fit(X_train[['Transmission', 'Fuel_Type', 'Drive_Type']])\n",
        "one_hot_encoded_output_train = encoder.transform(X_train[['Transmission', 'Fuel_Type', 'Drive_Type']])\n",
        "one_hot_encoded_output_test = encoder.transform(X_test[['Transmission', 'Fuel_Type', 'Drive_Type']])"
      ]
    },
    {
      "cell_type": "code",
      "execution_count": null,
      "metadata": {},
      "outputs": [],
      "source": [
        "X_train = pd.concat([X_train, one_hot_encoded_output_train], axis=1)\n",
        "X_test = pd.concat([X_test, one_hot_encoded_output_test], axis=1)"
      ]
    },
    {
      "cell_type": "code",
      "execution_count": null,
      "metadata": {},
      "outputs": [],
      "source": [
        "X_train = X_train.drop(['Transmission', 'Fuel_Type', 'Drive_Type'],axis=1)\n",
        "X_test = X_test.drop(['Transmission', 'Fuel_Type', 'Drive_Type'],axis=1)"
      ]
    },
    {
      "cell_type": "code",
      "execution_count": null,
      "metadata": {},
      "outputs": [],
      "source": [
        "X_train.sample()"
      ]
    },
    {
      "cell_type": "code",
      "execution_count": null,
      "metadata": {},
      "outputs": [],
      "source": [
        "X_train.info()"
      ]
    },
    {
      "cell_type": "markdown",
      "metadata": {},
      "source": [
        "## Standardization/Normalization"
      ]
    },
    {
      "cell_type": "code",
      "execution_count": null,
      "metadata": {},
      "outputs": [],
      "source": [
        "X_train.sample()"
      ]
    },
    {
      "cell_type": "code",
      "execution_count": null,
      "metadata": {},
      "outputs": [],
      "source": [
        "cols_to_scale = ['Age', 'Mileage', 'Engine_Size', 'Gas_Mileage', 'Latitude', 'Longitude']"
      ]
    },
    {
      "cell_type": "code",
      "execution_count": null,
      "metadata": {},
      "outputs": [],
      "source": [
        "scaler = StandardScaler()\n",
        "X_train[cols_to_scale] = scaler.fit_transform(X_train[cols_to_scale])\n",
        "X_test[cols_to_scale] = scaler.fit_transform(X_test[cols_to_scale])"
      ]
    },
    {
      "cell_type": "code",
      "execution_count": null,
      "metadata": {},
      "outputs": [],
      "source": [
        "X_train.shape"
      ]
    },
    {
      "cell_type": "markdown",
      "metadata": {},
      "source": [
        "# 4) Machine Learning Analysis"
      ]
    },
    {
      "cell_type": "code",
      "execution_count": null,
      "metadata": {},
      "outputs": [],
      "source": [
        "mse = []\n",
        "mae = []"
      ]
    },
    {
      "cell_type": "markdown",
      "metadata": {},
      "source": [
        "## K-Neighbors Regressor"
      ]
    },
    {
      "cell_type": "code",
      "execution_count": null,
      "metadata": {},
      "outputs": [],
      "source": [
        "knn = KNeighborsRegressor(n_neighbors=2)\n",
        "knn.fit(X_train, y_train)\n",
        "y_pred = knn.predict(X_test)\n",
        "y_pred = pd.DataFrame(y_pred, columns=['Predicted Price'])\n",
        "results = pd.concat([y_pred, y_test.to_frame().reset_index(drop=True)], axis=1, ignore_index=False)\n",
        "mse.append(int(mean_squared_error(y_pred, y_test)))\n",
        "mae.append(int(mean_absolute_error(y_pred, y_test)))"
      ]
    },
    {
      "cell_type": "code",
      "execution_count": null,
      "metadata": {},
      "outputs": [],
      "source": [
        "plt.figure(figsize=(10,10))\n",
        "sns.regplot(data=results, y='Predicted Price', x='Price', color='darkslateblue', marker='o')\n",
        "plt.title('Predicted Prices vs Actual Prices')\n",
        "plt.show()"
      ]
    },
    {
      "cell_type": "markdown",
      "metadata": {},
      "source": [
        "## PLS Regression"
      ]
    },
    {
      "cell_type": "code",
      "execution_count": null,
      "metadata": {},
      "outputs": [],
      "source": [
        "pls = PLSRegression(n_components=10)\n",
        "pls.fit(X_train, y_train)\n",
        "y_pred = pls.predict(X_test)\n",
        "y_pred = pd.DataFrame(y_pred, columns=['Predicted Price'])\n",
        "results = pd.concat([y_pred, y_test.to_frame().reset_index(drop=True)], axis=1, ignore_index=False)\n",
        "mse.append(int(mean_squared_error(y_pred, y_test)))\n",
        "mae.append(int(mean_absolute_error(y_pred, y_test)))"
      ]
    },
    {
      "cell_type": "code",
      "execution_count": null,
      "metadata": {},
      "outputs": [],
      "source": [
        "plt.figure(figsize=(10,10))\n",
        "sns.regplot(data=results, y='Predicted Price', x='Price', color='firebrick', marker='o')\n",
        "plt.title('Predicted Prices vs Actual Prices')\n",
        "plt.show()"
      ]
    },
    {
      "cell_type": "markdown",
      "metadata": {},
      "source": [
        "## Decision Tree Regressor"
      ]
    },
    {
      "cell_type": "code",
      "execution_count": null,
      "metadata": {},
      "outputs": [],
      "source": [
        "dt = DecisionTreeRegressor(splitter='random')\n",
        "dt.fit(X_train, y_train)\n",
        "y_pred = dt.predict(X_test)\n",
        "y_pred = pd.DataFrame(y_pred, columns=['Predicted Price'])\n",
        "results = pd.concat([y_pred, y_test.to_frame().reset_index(drop=True)], axis=1, ignore_index=False)\n",
        "mse.append(int(mean_squared_error(y_pred, y_test)))\n",
        "mae.append(int(mean_absolute_error(y_pred, y_test)))"
      ]
    },
    {
      "cell_type": "code",
      "execution_count": null,
      "metadata": {},
      "outputs": [],
      "source": [
        "plt.figure(figsize=(10,10))\n",
        "sns.regplot(data=results, y='Predicted Price', x='Price', color='coral', marker='o')\n",
        "plt.title('Predicted Prices vs Actual Prices')\n",
        "plt.show()"
      ]
    },
    {
      "cell_type": "markdown",
      "metadata": {},
      "source": [
        "## Random Forest Regressor"
      ]
    },
    {
      "cell_type": "code",
      "execution_count": null,
      "metadata": {},
      "outputs": [],
      "source": [
        "rf = RandomForestRegressor()\n",
        "rf.fit(X_train, y_train)\n",
        "y_pred = rf.predict(X_test)\n",
        "y_pred = pd.DataFrame(y_pred, columns=['Predicted Price'])\n",
        "results = pd.concat([y_pred, y_test.to_frame().reset_index(drop=True)], axis=1, ignore_index=False)\n",
        "mse.append(int(mean_squared_error(y_pred, y_test)))\n",
        "mae.append(int(mean_absolute_error(y_pred, y_test)))"
      ]
    },
    {
      "cell_type": "code",
      "execution_count": null,
      "metadata": {},
      "outputs": [],
      "source": [
        "plt.figure(figsize=(10,10))\n",
        "sns.regplot(data=results, y='Predicted Price', x='Price', color='coral', marker='o')\n",
        "plt.title('Predicted Prices vs Actual Prices')\n",
        "plt.show()"
      ]
    },
    {
      "cell_type": "markdown",
      "metadata": {},
      "source": [
        "## Gradient Boosting Regressor"
      ]
    },
    {
      "cell_type": "code",
      "execution_count": null,
      "metadata": {},
      "outputs": [],
      "source": [
        "gb = GradientBoostingRegressor()\n",
        "gb.fit(X_train, y_train)\n",
        "y_pred = gb.predict(X_test)\n",
        "y_pred = pd.DataFrame(y_pred, columns=['Predicted Price'])\n",
        "results = pd.concat([y_pred, y_test.to_frame().reset_index(drop=True)], axis=1, ignore_index=False)\n",
        "mse.append(int(mean_squared_error(y_pred, y_test)))\n",
        "mae.append(int(mean_absolute_error(y_pred, y_test)))"
      ]
    },
    {
      "cell_type": "code",
      "execution_count": null,
      "metadata": {},
      "outputs": [],
      "source": [
        "plt.figure(figsize=(10,10))\n",
        "sns.regplot(data=results, y='Predicted Price', x='Price', color='darkmagenta', marker='o')\n",
        "plt.title('Predicted Prices vs Actual Prices')\n",
        "plt.show()"
      ]
    },
    {
      "cell_type": "markdown",
      "metadata": {},
      "source": [
        "## MLP Regressor"
      ]
    },
    {
      "cell_type": "code",
      "execution_count": null,
      "metadata": {},
      "outputs": [],
      "source": [
        "mlp = MLPRegressor(hidden_layer_sizes=50, alpha=0.001, solver='lbfgs', learning_rate='adaptive')\n",
        "mlp.fit(X_train, y_train)\n",
        "y_pred = mlp.predict(X_test)\n",
        "y_pred = pd.DataFrame(y_pred, columns=['Predicted Price'])\n",
        "results = pd.concat([y_pred, y_test.to_frame().reset_index(drop=True)], axis=1, ignore_index=False)\n",
        "mse.append(int(mean_squared_error(y_pred, y_test)))\n",
        "mae.append(int(mean_absolute_error(y_pred, y_test)))"
      ]
    },
    {
      "cell_type": "code",
      "execution_count": null,
      "metadata": {},
      "outputs": [],
      "source": [
        "plt.figure(figsize=(10,10))\n",
        "sns.regplot(data=results, y='Predicted Price', x='Price', color='steelblue', marker='o')\n",
        "plt.title('Predicted Prices vs Actual Prices')\n",
        "plt.show()"
      ]
    },
    {
      "cell_type": "markdown",
      "metadata": {},
      "source": [
        "## Dataframe of Machine Learning Models"
      ]
    },
    {
      "cell_type": "code",
      "execution_count": null,
      "metadata": {},
      "outputs": [],
      "source": [
        "models = {'Models': ['K Nearest Regressor', 'PLS Regression', 'Decision Tree Regressor', 'Random Forest Regressor', 'Gradient Boosting Regressor', 'MLP Regressor'], 'Mean Absolute Error': mae, 'Mean Squared Error': mse}\n",
        "model_dataframe = pd.DataFrame(models)"
      ]
    },
    {
      "cell_type": "code",
      "execution_count": null,
      "metadata": {},
      "outputs": [],
      "source": [
        "model_dataframe"
      ]
    },
    {
      "cell_type": "markdown",
      "metadata": {},
      "source": [
        "## Barplot of Machine Learning Models"
      ]
    },
    {
      "cell_type": "code",
      "execution_count": null,
      "metadata": {},
      "outputs": [],
      "source": [
        "plt.figure(figsize=(20,10))\n",
        "splot = sns.barplot(data=model_dataframe, x='Models', y='Mean Absolute Error', palette='Paired')\n",
        "for p in splot.patches:\n",
        "    splot.annotate(format(p.get_height(), '.0f'), \n",
        "                   (p.get_x() + p.get_width() / 2., p.get_height()), \n",
        "                   ha = 'center', va = 'center', \n",
        "                   xytext = (0, 9), \n",
        "                   textcoords = 'offset points')\n",
        "plt.xticks(fontsize = 13)\n",
        "plt.yticks(fontsize = 13)\n",
        "plt.title(\"Barplot of Regression Models with MAE\", fontsize = 20)\n",
        "plt.show()"
      ]
    },
    {
      "cell_type": "code",
      "execution_count": null,
      "metadata": {},
      "outputs": [],
      "source": [
        "plt.figure(figsize=(20,10))\n",
        "splot = sns.barplot(data=model_dataframe, x='Models', y='Mean Squared Error', palette='Paired')\n",
        "for p in splot.patches:\n",
        "    splot.annotate(format(p.get_height(), '.0f'), \n",
        "                   (p.get_x() + p.get_width() / 2., p.get_height()), \n",
        "                   ha = 'center', va = 'center', \n",
        "                   xytext = (0, 9), \n",
        "                   textcoords = 'offset points')\n",
        "plt.xticks(fontsize = 13)\n",
        "plt.yticks(fontsize = 13)\n",
        "plt.title(\"Barplot of Regression Models with MSE\", fontsize = 20)\n",
        "plt.show()"
      ]
    },
    {
      "cell_type": "markdown",
      "metadata": {},
      "source": [
        "# 5) Predict "
      ]
    },
    {
      "cell_type": "markdown",
      "metadata": {},
      "source": [
        "Best Model: \n",
        "- Random Forest Regressor: 3598 MAE; 99988885 MSE\n",
        "- target encoding on make model trim color\n",
        "- onehot encoding on transmission fuel_type drive_type\n",
        "- no scaling on Mileage, Engine_Size, Gas_Mileage, Latitude, Longitude\n",
        "- coordinates in degrees"
      ]
    },
    {
      "cell_type": "code",
      "execution_count": null,
      "metadata": {},
      "outputs": [],
      "source": [
        "new_car = pd.DataFrame({\n",
        "    'Make':['Audi'],\n",
        "    'Model':['A8'],\n",
        "    'Age':['2023'],\n",
        "    'Trim':['quattro 55 TFSI'],\n",
        "    'Mileage':7800,\n",
        "    'Color':['Vesuvius Gray Metallic'],\n",
        "    'Engine_Size':6,\n",
        "    'Gas_Mileage':22,\n",
        "    'Location':['08550'],\n",
        "    'Transmission':['Automatic'],\n",
        "    'Fuel_Type':['Gas'],\n",
        "    'Drive_Type':['AWD'],\n",
        "})\n",
        "\n",
        "# replace year with age\n",
        "current_year = datetime.datetime.now().year\n",
        "new_car['Age'] = current_year - new_car['Age'].astype(int)\n",
        "\n",
        "# get coordinates from zip code\n",
        "nomi = pgeocode.Nominatim('us')\n",
        "location = nomi.query_postal_code(new_car['Location'][0])\n",
        "new_car['Latitude'] = location.latitude \n",
        "new_car['Longitude'] = location.longitude \n",
        "new_car = new_car.drop(columns=['Location'])\n",
        "\n",
        "# target encoding\n",
        "new_car['Make'] = make_encoder.transform(new_car['Make'])\n",
        "new_car['Model'] = model_encoder.transform(new_car['Model'])\n",
        "new_car['Trim'] = trim_encoder.transform(new_car['Trim'])\n",
        "new_car['Color'] = color_encoder.transform(new_car['Color'])\n",
        "\n",
        "# one hot encoding\n",
        "categorical_features = new_car[['Transmission', 'Fuel_Type', 'Drive_Type']]\n",
        "one_hot_encoded_new_car = encoder.transform(categorical_features)\n",
        "\n",
        "one_hot_encoded_new_car_df = pd.DataFrame(one_hot_encoded_new_car, columns=encoder.get_feature_names_out())\n",
        "new_car = pd.concat([new_car.drop(columns=['Transmission', 'Fuel_Type', 'Drive_Type']), one_hot_encoded_new_car_df], axis=1)\n",
        "\n"
      ]
    },
    {
      "cell_type": "code",
      "execution_count": null,
      "metadata": {},
      "outputs": [],
      "source": [
        "new_car"
      ]
    },
    {
      "cell_type": "code",
      "execution_count": null,
      "metadata": {},
      "outputs": [],
      "source": [
        "predicted_price = rf.predict(new_car)\n",
        "print(predicted_price)"
      ]
    },
    {
      "cell_type": "markdown",
      "metadata": {},
      "source": [
        "# 6) Export Required Information"
      ]
    },
    {
      "cell_type": "markdown",
      "metadata": {},
      "source": [
        "## Export Model"
      ]
    },
    {
      "cell_type": "code",
      "execution_count": null,
      "metadata": {},
      "outputs": [],
      "source": [
        "joblib.dump(rf, 'random_forest_model.pkl')"
      ]
    },
    {
      "cell_type": "markdown",
      "metadata": {},
      "source": [
        "## Export Makes and Models"
      ]
    },
    {
      "cell_type": "code",
      "execution_count": null,
      "metadata": {},
      "outputs": [],
      "source": [
        "makes_to_models = data.groupby('Make')['Model'].apply(lambda x: sorted(set(x))).to_dict()"
      ]
    },
    {
      "cell_type": "code",
      "execution_count": null,
      "metadata": {},
      "outputs": [],
      "source": [
        "print(makes_to_models)"
      ]
    },
    {
      "cell_type": "code",
      "execution_count": null,
      "metadata": {},
      "outputs": [],
      "source": [
        "with open('makes_models.json', 'w') as f:\n",
        "    json.dump(makes_to_models, f, indent=4)"
      ]
    },
    {
      "cell_type": "code",
      "execution_count": null,
      "metadata": {},
      "outputs": [],
      "source": [
        "models_to_trims = data.groupby('Model')['Trim'].apply(lambda x: sorted(set(x))).to_dict()"
      ]
    },
    {
      "cell_type": "code",
      "execution_count": null,
      "metadata": {},
      "outputs": [],
      "source": [
        "print(models_to_trims)"
      ]
    },
    {
      "cell_type": "code",
      "execution_count": null,
      "metadata": {},
      "outputs": [],
      "source": [
        "with open('models_to_trims', 'w') as f:\n",
        "    json.dump(models_to_trims, f, indent=4)"
      ]
    },
    {
      "cell_type": "code",
      "execution_count": null,
      "metadata": {},
      "outputs": [],
      "source": [
        "makes_models_trims = data.groupby(['Make', 'Model'])['Trim'].apply(lambda x: sorted(set(x))).to_dict()"
      ]
    },
    {
      "cell_type": "code",
      "execution_count": null,
      "metadata": {},
      "outputs": [],
      "source": [
        "print(makes_models_trims)"
      ]
    },
    {
      "cell_type": "code",
      "execution_count": null,
      "metadata": {},
      "outputs": [],
      "source": [
        "json_compatible = {f\"{make}_{model}\": trims for (make, model), trims in makes_models_trims.items()}"
      ]
    },
    {
      "cell_type": "code",
      "execution_count": null,
      "metadata": {},
      "outputs": [],
      "source": [
        "with open('makes_models_to_trims', 'w') as f:\n",
        "    json.dump(json_compatible, f, indent=4)"
      ]
    },
    {
      "cell_type": "code",
      "execution_count": null,
      "metadata": {},
      "outputs": [],
      "source": [
        "makes_models_colors = data.groupby(['Make', 'Model'])['Color'].apply(lambda x: sorted(set(x))).to_dict()"
      ]
    },
    {
      "cell_type": "code",
      "execution_count": null,
      "metadata": {},
      "outputs": [],
      "source": [
        "print(makes_models_colors)"
      ]
    },
    {
      "cell_type": "code",
      "execution_count": null,
      "metadata": {},
      "outputs": [],
      "source": [
        "json_compatible = {f\"{make}_{model}\": colors for (make, model), colors in makes_models_colors.items()}"
      ]
    },
    {
      "cell_type": "code",
      "execution_count": null,
      "metadata": {},
      "outputs": [],
      "source": [
        "with open('makes_models_to_colors', 'w') as f:\n",
        "    json.dump(json_compatible, f, indent=4)"
      ]
    },
    {
      "cell_type": "code",
      "execution_count": null,
      "metadata": {},
      "outputs": [],
      "source": [
        "joblib.dump(make_encoder, 'encoders/make_encoder.pkl')\n",
        "joblib.dump(model_encoder, 'encoders/model_encoder.pkl')\n",
        "joblib.dump(trim_encoder, 'encoders/trim_encoder.pkl')\n",
        "joblib.dump(color_encoder, 'encoders/color_encoder.pkl')\n",
        "joblib.dump(encoder, 'encoders/onehotencoder.pkl')"
      ]
    }
  ],
  "metadata": {
    "colab": {
      "provenance": []
    },
    "kernelspec": {
      "display_name": "Python 3",
      "name": "python3"
    },
    "language_info": {
      "codemirror_mode": {
        "name": "ipython",
        "version": 3
      },
      "file_extension": ".py",
      "mimetype": "text/x-python",
      "name": "python",
      "nbconvert_exporter": "python",
      "pygments_lexer": "ipython3",
      "version": "3.11.3"
    }
  },
  "nbformat": 4,
  "nbformat_minor": 0
}
