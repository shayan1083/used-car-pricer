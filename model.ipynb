{
  "cells": [
    {
      "cell_type": "code",
      "execution_count": 1,
      "metadata": {
        "id": "L5dbtt8luYkO"
      },
      "outputs": [],
      "source": [
        "import pandas as pd\n",
        "import re\n",
        "import seaborn as sns\n",
        "import matplotlib.pyplot as plt\n",
        "import numpy as np\n",
        "from sklearn.preprocessing import OneHotEncoder, StandardScaler, MinMaxScaler\n",
        "from sklearn.model_selection import train_test_split, KFold, cross_val_score\n",
        "from sklearn.metrics import mean_squared_error, mean_absolute_error, mean_squared_error\n",
        "from sklearn.ensemble import GradientBoostingRegressor, RandomForestRegressor\n",
        "from sklearn.neural_network import MLPRegressor\n",
        "from sklearn.neighbors import KNeighborsRegressor\n",
        "from sklearn.cross_decomposition import PLSRegression\n",
        "from sklearn.tree import DecisionTreeRegressor\n",
        "from sklearn.utils import shuffle\n",
        "from category_encoders import TargetEncoder, OneHotEncoder\n",
        "import warnings\n",
        "import pgeocode\n",
        "import datetime\n",
        "from math import radians\n",
        "import joblib\n",
        "import json\n",
        "warnings.filterwarnings(\"ignore\")\n",
        "%matplotlib inline"
      ]
    },
    {
      "cell_type": "markdown",
      "metadata": {
        "id": "yFpVWgxMOMK6"
      },
      "source": [
        "# 1) Data Formatting"
      ]
    },
    {
      "cell_type": "markdown",
      "metadata": {
        "id": "JV2YkJbU_GSR"
      },
      "source": [
        "## Open Excel File in DataFrame"
      ]
    },
    {
      "cell_type": "code",
      "execution_count": 2,
      "metadata": {
        "id": "Qi15LGIruiP3"
      },
      "outputs": [],
      "source": [
        "df = pd.read_excel('CarData.xlsx')"
      ]
    },
    {
      "cell_type": "code",
      "execution_count": 3,
      "metadata": {
        "id": "0v3SBhBby5Qy"
      },
      "outputs": [],
      "source": [
        "data = df.copy()"
      ]
    },
    {
      "cell_type": "code",
      "execution_count": 4,
      "metadata": {
        "colab": {
          "base_uri": "https://localhost:8080/"
        },
        "id": "4gLXacZEy6x6",
        "outputId": "94ab9eb4-348c-4b82-8043-761d9fc16f95"
      },
      "outputs": [
        {
          "name": "stdout",
          "output_type": "stream",
          "text": [
            "62962\n"
          ]
        }
      ],
      "source": [
        "print(len(data.index))"
      ]
    },
    {
      "cell_type": "markdown",
      "metadata": {
        "id": "3pQncg9Z_Lzd"
      },
      "source": [
        "## Remove Incorrect Records"
      ]
    },
    {
      "cell_type": "code",
      "execution_count": 5,
      "metadata": {
        "id": "NaEXJaCwhWdi"
      },
      "outputs": [],
      "source": [
        "def find_incorrect_records(make, trim):\n",
        "  if make in trim:\n",
        "    return False\n",
        "  return True"
      ]
    },
    {
      "cell_type": "code",
      "execution_count": 6,
      "metadata": {
        "id": "xCbgqW55hhpb"
      },
      "outputs": [],
      "source": [
        "for i, row in data.iterrows():\n",
        "  if find_incorrect_records(row['Make'], row['Trim']):\n",
        "    data = data.drop(i)"
      ]
    },
    {
      "cell_type": "markdown",
      "metadata": {
        "id": "X3m9PVpt_PRE"
      },
      "source": [
        "## Remove Duplicates"
      ]
    },
    {
      "cell_type": "code",
      "execution_count": 7,
      "metadata": {
        "id": "VNrLaSJjuiup"
      },
      "outputs": [],
      "source": [
        "data = data.drop_duplicates(subset=['VIN'])"
      ]
    },
    {
      "cell_type": "code",
      "execution_count": 8,
      "metadata": {
        "id": "rC9wXmOzKYTI"
      },
      "outputs": [],
      "source": [
        "data = data.drop('VIN', axis=1)"
      ]
    },
    {
      "cell_type": "code",
      "execution_count": 9,
      "metadata": {
        "colab": {
          "base_uri": "https://localhost:8080/"
        },
        "id": "tqMtQjcCui5h",
        "outputId": "05f391a3-3a8f-4d6f-adf2-bc000e606f46"
      },
      "outputs": [
        {
          "name": "stdout",
          "output_type": "stream",
          "text": [
            "61379\n"
          ]
        }
      ],
      "source": [
        "print(len(data.index))"
      ]
    },
    {
      "cell_type": "markdown",
      "metadata": {
        "id": "DD20O-Ta_W1L"
      },
      "source": [
        "## Parse Column Information"
      ]
    },
    {
      "cell_type": "code",
      "execution_count": 10,
      "metadata": {
        "id": "DNhhAXMFujvb"
      },
      "outputs": [],
      "source": [
        "def parse_year(car_string):\n",
        "  match = re.search(r'\\b(19|20)\\d{2}\\b', car_string)\n",
        "  return int(match.group(0)) if match else None\n",
        "\n",
        "def parse_trim(car_string, make, model):\n",
        "  if make in car_string:\n",
        "    trim = car_string.split(make, 1)[1]\n",
        "    if model in trim:\n",
        "      trim = trim.split(model, 1)[1]\n",
        "      trim = trim.replace('for Sale', '')\n",
        "      return str(trim.strip())\n",
        "    else:\n",
        "      return None\n",
        "  else:\n",
        "    return None\n",
        "\n",
        "def parse_zip_code(location):\n",
        "  if type(location) == str:\n",
        "    zip = location.split(' ')[-1]\n",
        "    return str(zip)\n",
        "  return None\n",
        "\n",
        "def parse_price(price):\n",
        "  if type(price) == str:\n",
        "    num = price.replace('$','')\n",
        "    num = num.replace(',','')\n",
        "    return int(num)\n",
        "  return None\n",
        "\n",
        "def parse_miles(miles):\n",
        "  if type(miles) == str:\n",
        "    mileage = miles.replace(' miles', '')\n",
        "    mileage = mileage.replace(',','')\n",
        "    return int(mileage.strip())\n",
        "  return None\n",
        "\n",
        "def parse_engine_size(engine):\n",
        "  if type(engine) == str and '-cylinder' in engine:\n",
        "    size = engine.replace('-cylinder','')\n",
        "    return int(size.strip())\n",
        "  return None\n",
        "\n",
        "def parse_seats(seats):\n",
        "  if type(seats) == str and 'seater' in seats:\n",
        "    seats = seats.replace('seater','')\n",
        "    return int(seats.strip())\n",
        "  return None"
      ]
    },
    {
      "cell_type": "code",
      "execution_count": 11,
      "metadata": {
        "id": "3MLIB41BupHe"
      },
      "outputs": [],
      "source": [
        "data['Year'] = data['Year'].apply(parse_year)\n",
        "\n",
        "data['Trim'] = data.apply(lambda row: parse_trim(row['Trim'], row['Make'], row['Model']), axis=1)\n",
        "\n",
        "data['Location'] = data['Location'].apply(parse_zip_code)\n",
        "\n",
        "data['Price'] = data['Price'].apply(parse_price)\n",
        "\n",
        "data['Mileage'] = data['Mileage'].apply(parse_miles)\n",
        "\n",
        "data['Engine_Size'] = data['Engine_Size'].apply(parse_engine_size)\n",
        "\n",
        "data['Seats'] = data['Seats'].apply(parse_seats)\n",
        "\n",
        "data.loc[data['Fuel_Type'] == 'Electric', 'Engine_Size'] = 0\n",
        "\n",
        "data.loc[data['Fuel_Type'] == 'Natural Gas', 'Fuel_Type'] = 'Gas'"
      ]
    },
    {
      "cell_type": "markdown",
      "metadata": {
        "id": "OWXa0VFQ0Cf5"
      },
      "source": [
        "## Remove Some Null Values"
      ]
    },
    {
      "cell_type": "code",
      "execution_count": 12,
      "metadata": {
        "colab": {
          "base_uri": "https://localhost:8080/"
        },
        "id": "6roGPYtR0H7V",
        "outputId": "8c703943-3798-43d9-cc0d-f20520a07035"
      },
      "outputs": [
        {
          "data": {
            "text/plain": [
              "61379"
            ]
          },
          "execution_count": 12,
          "metadata": {},
          "output_type": "execute_result"
        }
      ],
      "source": [
        "len(data.index)"
      ]
    },
    {
      "cell_type": "code",
      "execution_count": 13,
      "metadata": {
        "colab": {
          "base_uri": "https://localhost:8080/",
          "height": 80
        },
        "id": "c2-aJ8RU066_",
        "outputId": "77ef45b4-7a41-4891-f432-c054c1b39368"
      },
      "outputs": [
        {
          "data": {
            "text/html": [
              "<div>\n",
              "<style scoped>\n",
              "    .dataframe tbody tr th:only-of-type {\n",
              "        vertical-align: middle;\n",
              "    }\n",
              "\n",
              "    .dataframe tbody tr th {\n",
              "        vertical-align: top;\n",
              "    }\n",
              "\n",
              "    .dataframe thead th {\n",
              "        text-align: right;\n",
              "    }\n",
              "</style>\n",
              "<table border=\"1\" class=\"dataframe\">\n",
              "  <thead>\n",
              "    <tr style=\"text-align: right;\">\n",
              "      <th></th>\n",
              "      <th>Make</th>\n",
              "      <th>Model</th>\n",
              "      <th>Year</th>\n",
              "      <th>Trim</th>\n",
              "      <th>Location</th>\n",
              "      <th>Price</th>\n",
              "      <th>Mileage</th>\n",
              "      <th>Transmission</th>\n",
              "      <th>Color</th>\n",
              "      <th>Engine_Size</th>\n",
              "      <th>Fuel_Type</th>\n",
              "      <th>Gas_Mileage</th>\n",
              "      <th>Seats</th>\n",
              "      <th>Drive_Type</th>\n",
              "    </tr>\n",
              "  </thead>\n",
              "  <tbody>\n",
              "    <tr>\n",
              "      <th>49105</th>\n",
              "      <td>Nissan</td>\n",
              "      <td>Maxima</td>\n",
              "      <td>2012</td>\n",
              "      <td>3.5 S</td>\n",
              "      <td>08312</td>\n",
              "      <td>2495.0</td>\n",
              "      <td>223724.0</td>\n",
              "      <td>CVT</td>\n",
              "      <td>Silver</td>\n",
              "      <td>6.0</td>\n",
              "      <td>Gas</td>\n",
              "      <td>22.0</td>\n",
              "      <td>5.0</td>\n",
              "      <td>FWD</td>\n",
              "    </tr>\n",
              "  </tbody>\n",
              "</table>\n",
              "</div>"
            ],
            "text/plain": [
              "         Make   Model  Year   Trim Location   Price   Mileage Transmission  \\\n",
              "49105  Nissan  Maxima  2012  3.5 S    08312  2495.0  223724.0          CVT   \n",
              "\n",
              "        Color  Engine_Size Fuel_Type  Gas_Mileage  Seats Drive_Type  \n",
              "49105  Silver          6.0       Gas         22.0    5.0        FWD  "
            ]
          },
          "execution_count": 13,
          "metadata": {},
          "output_type": "execute_result"
        }
      ],
      "source": [
        "data.sample(1)"
      ]
    },
    {
      "cell_type": "code",
      "execution_count": 14,
      "metadata": {
        "id": "dzmKwKOb0FDB"
      },
      "outputs": [],
      "source": [
        "data = data.drop(data[data['Trim'].isna()].index)"
      ]
    },
    {
      "cell_type": "code",
      "execution_count": 15,
      "metadata": {},
      "outputs": [],
      "source": [
        "data = data.drop(data[data['Trim']==''].index)"
      ]
    },
    {
      "cell_type": "code",
      "execution_count": 16,
      "metadata": {
        "colab": {
          "base_uri": "https://localhost:8080/"
        },
        "id": "xT5gEAaZ0K-u",
        "outputId": "a0f60189-42e7-483c-bf89-ec1a3ac7fecb"
      },
      "outputs": [
        {
          "data": {
            "text/plain": [
              "59749"
            ]
          },
          "execution_count": 16,
          "metadata": {},
          "output_type": "execute_result"
        }
      ],
      "source": [
        "len(data.index)"
      ]
    },
    {
      "cell_type": "code",
      "execution_count": 17,
      "metadata": {},
      "outputs": [
        {
          "data": {
            "text/plain": [
              "np.int64(28568)"
            ]
          },
          "execution_count": 17,
          "metadata": {},
          "output_type": "execute_result"
        }
      ],
      "source": [
        "data.isna().sum().sum()"
      ]
    },
    {
      "cell_type": "markdown",
      "metadata": {
        "id": "rgbOD-9dC5in"
      },
      "source": [
        "## Replace Missing Engine Size"
      ]
    },
    {
      "cell_type": "code",
      "execution_count": 18,
      "metadata": {
        "colab": {
          "base_uri": "https://localhost:8080/"
        },
        "id": "LFDUYh8SDTZQ",
        "outputId": "cd196e29-657b-49cd-8156-2ff5520f7451"
      },
      "outputs": [
        {
          "name": "stdout",
          "output_type": "stream",
          "text": [
            "Engine Size:  [ 6.  4.  0. nan  8. 12.  5. 10.  3. 16.]\n"
          ]
        }
      ],
      "source": [
        "print(\"Engine Size: \", data['Engine_Size'].unique())"
      ]
    },
    {
      "cell_type": "code",
      "execution_count": 19,
      "metadata": {
        "colab": {
          "base_uri": "https://localhost:8080/"
        },
        "id": "r9fiPmBfKRC0",
        "outputId": "6b62389b-96e3-42db-c2bd-882db71f99b5"
      },
      "outputs": [
        {
          "data": {
            "text/plain": [
              "np.int64(758)"
            ]
          },
          "execution_count": 19,
          "metadata": {},
          "output_type": "execute_result"
        }
      ],
      "source": [
        "data['Engine_Size'].isna().sum()"
      ]
    },
    {
      "cell_type": "code",
      "execution_count": 20,
      "metadata": {
        "id": "lbYObwff-UQM"
      },
      "outputs": [],
      "source": [
        "def med_engine_size(model, year, trim, data, window=2):\n",
        "  year_range = (year-window, year+window)\n",
        "  relevant_data = data[(data['Model'] == model) & (data['Year'].between(year_range[0], year_range[1])) & (data['Trim'] == trim)]\n",
        "  median_engine_size = relevant_data['Engine_Size'].median()\n",
        "  return median_engine_size if not pd.isna(median_engine_size) else np.nan"
      ]
    },
    {
      "cell_type": "code",
      "execution_count": 21,
      "metadata": {
        "id": "c-uMxXtw-LAD"
      },
      "outputs": [],
      "source": [
        "def fill_nan_with_median(row):\n",
        "  if pd.isna(row['Engine_Size']):\n",
        "    return med_engine_size(row['Model'], row['Year'], row['Trim'], data)\n",
        "  return row['Engine_Size']"
      ]
    },
    {
      "cell_type": "code",
      "execution_count": 22,
      "metadata": {
        "id": "ThrVh3QG4-ZO"
      },
      "outputs": [],
      "source": [
        "data['Engine_Size'] = data.apply(fill_nan_with_median, axis=1)"
      ]
    },
    {
      "cell_type": "code",
      "execution_count": 23,
      "metadata": {
        "colab": {
          "base_uri": "https://localhost:8080/"
        },
        "id": "GX9erCSrPURJ",
        "outputId": "f920117e-b92d-404b-b611-54069507a0cc"
      },
      "outputs": [
        {
          "data": {
            "text/plain": [
              "np.int64(624)"
            ]
          },
          "execution_count": 23,
          "metadata": {},
          "output_type": "execute_result"
        }
      ],
      "source": [
        "data['Engine_Size'].isna().sum()"
      ]
    },
    {
      "cell_type": "markdown",
      "metadata": {
        "id": "h0wiB3EvFohM"
      },
      "source": [
        "## Replace Missing Fuel Type"
      ]
    },
    {
      "cell_type": "code",
      "execution_count": 24,
      "metadata": {
        "colab": {
          "base_uri": "https://localhost:8080/"
        },
        "id": "ofqyavm5FrI4",
        "outputId": "935ae3ff-0977-4c3c-c7b3-bef52c8b0948"
      },
      "outputs": [
        {
          "name": "stdout",
          "output_type": "stream",
          "text": [
            "Fuel Type:  ['Gas' 'Hybrid' 'Electric' 'Plug-in Hybrid' 'Diesel' 'Flex fuel' nan]\n"
          ]
        }
      ],
      "source": [
        "print(\"Fuel Type: \", data['Fuel_Type'].unique())"
      ]
    },
    {
      "cell_type": "code",
      "execution_count": 25,
      "metadata": {
        "colab": {
          "base_uri": "https://localhost:8080/"
        },
        "id": "ZUlxBnIfPctr",
        "outputId": "583c4945-27a9-4b5c-edb1-eb73cf039c59"
      },
      "outputs": [
        {
          "data": {
            "text/plain": [
              "np.int64(538)"
            ]
          },
          "execution_count": 25,
          "metadata": {},
          "output_type": "execute_result"
        }
      ],
      "source": [
        "data['Fuel_Type'].isna().sum()"
      ]
    },
    {
      "cell_type": "code",
      "execution_count": 26,
      "metadata": {
        "id": "zuFhuq8EF5A7"
      },
      "outputs": [],
      "source": [
        "def most_common_fuel_type(model, year, data, window=5):\n",
        "  year_range = (year-window, year+window)\n",
        "  relevant_data = data[(data['Model'] == model) & (data['Year'].between(year_range[0], year_range[1]))]\n",
        "  common_fuel_type = relevant_data['Fuel_Type'].mode()\n",
        "  return common_fuel_type[0] if not common_fuel_type.empty else np.nan"
      ]
    },
    {
      "cell_type": "code",
      "execution_count": 27,
      "metadata": {
        "id": "-x-HVY_4GbRB"
      },
      "outputs": [],
      "source": [
        "def fill_nan_with_fuel_type(row):\n",
        "  if pd.isna(row['Fuel_Type']):\n",
        "    return most_common_fuel_type(row['Model'], row['Year'], data)\n",
        "  return row['Fuel_Type']"
      ]
    },
    {
      "cell_type": "code",
      "execution_count": 28,
      "metadata": {
        "id": "YxgPktR3G6T-"
      },
      "outputs": [],
      "source": [
        "data['Fuel_Type'] = data.apply(fill_nan_with_fuel_type, axis=1)"
      ]
    },
    {
      "cell_type": "code",
      "execution_count": 29,
      "metadata": {
        "colab": {
          "base_uri": "https://localhost:8080/"
        },
        "id": "FGnmYapAPfjR",
        "outputId": "cd9169a3-fcdc-425d-8567-f7b67ab24a16"
      },
      "outputs": [
        {
          "data": {
            "text/plain": [
              "np.int64(85)"
            ]
          },
          "execution_count": 29,
          "metadata": {},
          "output_type": "execute_result"
        }
      ],
      "source": [
        "data['Fuel_Type'].isna().sum()"
      ]
    },
    {
      "cell_type": "markdown",
      "metadata": {
        "id": "bIHslXUqI0PU"
      },
      "source": [
        "## Replace Missing Transmission"
      ]
    },
    {
      "cell_type": "code",
      "execution_count": 30,
      "metadata": {
        "colab": {
          "base_uri": "https://localhost:8080/"
        },
        "id": "iEOT7IJ9I2n5",
        "outputId": "52fb9d6f-6af1-4e22-c22b-b2e46f5d00fe"
      },
      "outputs": [
        {
          "name": "stdout",
          "output_type": "stream",
          "text": [
            "Transmission:  ['Automatic' 'Manual' 'CVT' 'Red' nan]\n"
          ]
        }
      ],
      "source": [
        "print(\"Transmission: \", data['Transmission'].unique())"
      ]
    },
    {
      "cell_type": "code",
      "execution_count": 31,
      "metadata": {
        "id": "om2IjrAGPy7l"
      },
      "outputs": [],
      "source": [
        "data = data[data['Transmission'] != 'Red']"
      ]
    },
    {
      "cell_type": "code",
      "execution_count": 32,
      "metadata": {
        "colab": {
          "base_uri": "https://localhost:8080/"
        },
        "id": "7ujV5sQnT3lK",
        "outputId": "670095c3-ae5f-4dcd-83ec-9698d6668f0f"
      },
      "outputs": [
        {
          "data": {
            "text/plain": [
              "np.int64(1418)"
            ]
          },
          "execution_count": 32,
          "metadata": {},
          "output_type": "execute_result"
        }
      ],
      "source": [
        "data['Transmission'].isna().sum()"
      ]
    },
    {
      "cell_type": "code",
      "execution_count": 33,
      "metadata": {
        "id": "imDDV0NMTz1X"
      },
      "outputs": [],
      "source": [
        "def most_common_transmission(model, year, trim, data, window=5):\n",
        "  year_range = (year-window, year+window)\n",
        "  relevant_data = data[(data['Model'] == model) & (data['Year'].between(year_range[0], year_range[1])) & (data['Trim'] == trim)]\n",
        "  common_transmission = relevant_data['Transmission'].mode()\n",
        "  return common_transmission[0] if not common_transmission.empty else np.nan"
      ]
    },
    {
      "cell_type": "code",
      "execution_count": 34,
      "metadata": {
        "id": "splqm6WST1EZ"
      },
      "outputs": [],
      "source": [
        "def fill_nan_with_transmission(row):\n",
        "  if pd.isna(row['Transmission']):\n",
        "    return most_common_transmission(row['Model'], row['Year'], row['Trim'], data)\n",
        "  return row['Transmission']"
      ]
    },
    {
      "cell_type": "code",
      "execution_count": 35,
      "metadata": {
        "id": "YqdcEE_XT1_I"
      },
      "outputs": [],
      "source": [
        "data['Transmission'] = data.apply(fill_nan_with_transmission, axis=1)"
      ]
    },
    {
      "cell_type": "code",
      "execution_count": 36,
      "metadata": {
        "colab": {
          "base_uri": "https://localhost:8080/"
        },
        "id": "n8-iMF7mc4tQ",
        "outputId": "169e7a38-5fdb-418a-bb5c-cf7a93d4ce92"
      },
      "outputs": [
        {
          "data": {
            "text/plain": [
              "np.int64(201)"
            ]
          },
          "execution_count": 36,
          "metadata": {},
          "output_type": "execute_result"
        }
      ],
      "source": [
        "data['Transmission'].isna().sum()"
      ]
    },
    {
      "cell_type": "markdown",
      "metadata": {
        "id": "rxUZXfU0PrbU"
      },
      "source": [
        "## Replace Missing Gas Mileage"
      ]
    },
    {
      "cell_type": "code",
      "execution_count": 37,
      "metadata": {
        "colab": {
          "base_uri": "https://localhost:8080/"
        },
        "id": "AC-WmdRVPtKO",
        "outputId": "9217a25a-697d-476c-b722-bb1c86ba2d6c"
      },
      "outputs": [
        {
          "name": "stdout",
          "output_type": "stream",
          "text": [
            "Gas Mileage:  [ 20.  21.  22.  28.  29.  25.  24.  32.  33.  30.  18.  19.  17.  nan\n",
            "  23.  15.  27.  26.  87.  77.  13.  14.  16.  12.  34.  83.  31.  68.\n",
            "  54.  78.  74.  79.  85.  82.  75.  95.  93. 100.  61.  50.  60.  81.\n",
            "  73.  11.  47.  10.   9.  46.  67.  36.  71.  62.  65.  64. 124. 117.\n",
            " 113. 111. 118.  96. 109. 120.  91. 105.  90.  76.  69.  86.  56.  89.\n",
            "  88.  92. 115. 119.  35. 108.  98. 106.  94.  84.  44.  51. 112. 116.\n",
            "  40.  41.  39. 102.  70.  66. 107.  97. 103.  42.  37.  99.  53.  48.\n",
            "  43.  45. 110.  38.  52. 114. 121. 127.  55.  58.  59.  80.  49. 101.\n",
            " 104. 123. 125. 122.  57.  63.]\n"
          ]
        }
      ],
      "source": [
        "print(\"Gas Mileage: \", data['Gas_Mileage'].unique())"
      ]
    },
    {
      "cell_type": "code",
      "execution_count": 38,
      "metadata": {
        "colab": {
          "base_uri": "https://localhost:8080/"
        },
        "id": "MJtHi6J-kto_",
        "outputId": "445b02ff-4994-4a20-8c20-09733b36cbbe"
      },
      "outputs": [
        {
          "data": {
            "text/plain": [
              "np.int64(12800)"
            ]
          },
          "execution_count": 38,
          "metadata": {},
          "output_type": "execute_result"
        }
      ],
      "source": [
        "data['Gas_Mileage'].isna().sum()"
      ]
    },
    {
      "cell_type": "code",
      "execution_count": 39,
      "metadata": {
        "id": "8-H6c1CtkzK8"
      },
      "outputs": [],
      "source": [
        "def most_common_gas_mileage(model, year, trim, data, window=4):\n",
        "  year_range = (year-window, year+window)\n",
        "  relevant_data = data[(data['Model'] == model) & (data['Year'].between(year_range[0], year_range[1])) & (data['Trim'] == trim)]\n",
        "  common_gas_mileage = relevant_data['Gas_Mileage'].mode()\n",
        "  return common_gas_mileage[0] if not common_gas_mileage.empty else np.nan"
      ]
    },
    {
      "cell_type": "code",
      "execution_count": 40,
      "metadata": {
        "id": "0clhEWNQk0IA"
      },
      "outputs": [],
      "source": [
        "def fill_nan_with_gas_mileage(row):\n",
        "  if pd.isna(row['Gas_Mileage']):\n",
        "    return most_common_gas_mileage(row['Model'], row['Year'], row['Trim'], data)\n",
        "  return row['Gas_Mileage']"
      ]
    },
    {
      "cell_type": "code",
      "execution_count": 41,
      "metadata": {
        "id": "iGFCwnwbk1o2"
      },
      "outputs": [],
      "source": [
        "data['Gas_Mileage'] = data.apply(fill_nan_with_gas_mileage, axis=1)"
      ]
    },
    {
      "cell_type": "code",
      "execution_count": 42,
      "metadata": {
        "colab": {
          "base_uri": "https://localhost:8080/"
        },
        "id": "vcB8clw-nL26",
        "outputId": "cbebb1c6-05ac-4ab2-aa75-5e2a921bcfcc"
      },
      "outputs": [
        {
          "data": {
            "text/plain": [
              "np.int64(8262)"
            ]
          },
          "execution_count": 42,
          "metadata": {},
          "output_type": "execute_result"
        }
      ],
      "source": [
        "data['Gas_Mileage'].isna().sum()"
      ]
    },
    {
      "cell_type": "markdown",
      "metadata": {
        "id": "mwYg5pDvnZaf"
      },
      "source": [
        "## Replace Missing Drive Type"
      ]
    },
    {
      "cell_type": "code",
      "execution_count": 43,
      "metadata": {
        "colab": {
          "base_uri": "https://localhost:8080/"
        },
        "id": "3vlwBSkCncVK",
        "outputId": "10602dc2-94eb-46d5-d934-ee0c94e5d111"
      },
      "outputs": [
        {
          "name": "stdout",
          "output_type": "stream",
          "text": [
            "Drive Type:  ['FWD' 'AWD' 'RWD' 'FOUR_WD' nan '4 seater' 'FOUR_X_FOUR' '7 seater'\n",
            " 'FOUR_X_TWO' 'JTJBC1BA4D2050855']\n"
          ]
        }
      ],
      "source": [
        "print(\"Drive Type: \", data['Drive_Type'].unique())"
      ]
    },
    {
      "cell_type": "code",
      "execution_count": 44,
      "metadata": {
        "id": "dkkAyEanyO_P"
      },
      "outputs": [],
      "source": [
        "data = data.drop(data[data['Drive_Type'] == 'JTJBC1BA4D2050855'].index)\n",
        "data = data.drop(data[data['Drive_Type'] == '4 seater'].index)\n",
        "data = data.drop(data[data['Drive_Type'] == '7 seater'].index)\n",
        "replacements = {\n",
        "    'FOUR_WD': 'AWD',\n",
        "    'FOUR_X_FOUR': 'AWD',\n",
        "    'FOUR_X_TWO': 'RWD'\n",
        "}\n",
        "\n",
        "data['Drive_Type'] = data['Drive_Type'].replace(replacements)"
      ]
    },
    {
      "cell_type": "code",
      "execution_count": 45,
      "metadata": {
        "colab": {
          "base_uri": "https://localhost:8080/"
        },
        "id": "cBddkdbWy1tj",
        "outputId": "da6db2e8-a480-4c5f-df5a-010f7b674b1e"
      },
      "outputs": [
        {
          "data": {
            "text/plain": [
              "np.int64(704)"
            ]
          },
          "execution_count": 45,
          "metadata": {},
          "output_type": "execute_result"
        }
      ],
      "source": [
        "data['Drive_Type'].isna().sum()"
      ]
    },
    {
      "cell_type": "code",
      "execution_count": 46,
      "metadata": {
        "id": "rV5VCwQznpTk"
      },
      "outputs": [],
      "source": [
        "def most_common_drive_type(model, year, trim, data, window=4):\n",
        "  year_range = (year-window, year+window)\n",
        "  relevant_data = data[(data['Model'] == model) & (data['Year'].between(year_range[0], year_range[1])) & (data['Trim'] == trim)]\n",
        "  common_drive_type = relevant_data['Drive_Type'].mode()\n",
        "  return common_drive_type[0] if not common_drive_type.empty else np.nan"
      ]
    },
    {
      "cell_type": "code",
      "execution_count": 47,
      "metadata": {
        "id": "cQtszE22nzB1"
      },
      "outputs": [],
      "source": [
        "def fill_nan_with_drive_type(row):\n",
        "  if pd.isna(row['Drive_Type']):\n",
        "    return most_common_drive_type(row['Model'], row['Year'], row['Trim'], data)\n",
        "  return row['Drive_Type']"
      ]
    },
    {
      "cell_type": "code",
      "execution_count": 48,
      "metadata": {
        "id": "AhzOQFAGn4fs"
      },
      "outputs": [],
      "source": [
        "data['Drive_Type'] = data.apply(fill_nan_with_drive_type, axis=1)"
      ]
    },
    {
      "cell_type": "code",
      "execution_count": 49,
      "metadata": {
        "colab": {
          "base_uri": "https://localhost:8080/"
        },
        "id": "DyNwZ-Kwn6lj",
        "outputId": "dfca50dc-f6ed-4e45-be0c-1607ced2a189"
      },
      "outputs": [
        {
          "data": {
            "text/plain": [
              "np.int64(533)"
            ]
          },
          "execution_count": 49,
          "metadata": {},
          "output_type": "execute_result"
        }
      ],
      "source": [
        "data['Drive_Type'].isna().sum()"
      ]
    },
    {
      "cell_type": "markdown",
      "metadata": {},
      "source": [
        "## Replace Missing Mileage"
      ]
    },
    {
      "cell_type": "code",
      "execution_count": 50,
      "metadata": {},
      "outputs": [
        {
          "data": {
            "text/plain": [
              "np.int64(2753)"
            ]
          },
          "execution_count": 50,
          "metadata": {},
          "output_type": "execute_result"
        }
      ],
      "source": [
        "data['Mileage'].isna().sum()"
      ]
    },
    {
      "cell_type": "code",
      "execution_count": 51,
      "metadata": {},
      "outputs": [],
      "source": [
        "def average_mileage(model, year, data, window=1):\n",
        "    year_range = (year-window, year+window)\n",
        "    relevant_data = data[(data['Model'] == model) & (data['Year'].between(year_range[0], year_range[1]))]\n",
        "    avg_mlg = relevant_data['Mileage'].mean()\n",
        "    if pd.isna(avg_mlg):\n",
        "        return np.nan\n",
        "    noise = avg_mlg*0.05\n",
        "    return np.random.normal(avg_mlg, noise)"
      ]
    },
    {
      "cell_type": "code",
      "execution_count": 52,
      "metadata": {},
      "outputs": [],
      "source": [
        "def fill_nan_with_miles(row):\n",
        "  if pd.isna(row['Mileage']):\n",
        "    return average_mileage(row['Model'], row['Year'], data)\n",
        "  return row['Mileage']"
      ]
    },
    {
      "cell_type": "code",
      "execution_count": 53,
      "metadata": {},
      "outputs": [],
      "source": [
        "data['Mileage'] = data.apply(fill_nan_with_miles, axis=1)"
      ]
    },
    {
      "cell_type": "code",
      "execution_count": 54,
      "metadata": {},
      "outputs": [
        {
          "data": {
            "text/plain": [
              "np.int64(56)"
            ]
          },
          "execution_count": 54,
          "metadata": {},
          "output_type": "execute_result"
        }
      ],
      "source": [
        "data['Mileage'].isna().sum()"
      ]
    },
    {
      "cell_type": "markdown",
      "metadata": {},
      "source": [
        "## Fixing Incorrect Colors"
      ]
    },
    {
      "cell_type": "code",
      "execution_count": 55,
      "metadata": {},
      "outputs": [],
      "source": [
        "def is_number(s):\n",
        "    s = str(s)\n",
        "    return not s.isdigit()"
      ]
    },
    {
      "cell_type": "code",
      "execution_count": 56,
      "metadata": {},
      "outputs": [],
      "source": [
        "mask = data['Color'].apply(is_number)\n",
        "data = data[mask]"
      ]
    },
    {
      "cell_type": "code",
      "execution_count": 57,
      "metadata": {},
      "outputs": [],
      "source": [
        "data = data[data['Color']!='--']"
      ]
    },
    {
      "cell_type": "code",
      "execution_count": 58,
      "metadata": {},
      "outputs": [],
      "source": [
        "def remove_square_brackets(s):\n",
        "    s = str(s)\n",
        "    return re.sub(r'\\[.*?\\]', '', s).strip()"
      ]
    },
    {
      "cell_type": "code",
      "execution_count": 59,
      "metadata": {},
      "outputs": [],
      "source": [
        "data['Color'] = data['Color'].apply(remove_square_brackets)"
      ]
    },
    {
      "cell_type": "markdown",
      "metadata": {
        "id": "Wi6C4nI4GrH2"
      },
      "source": [
        "## Removing Final Null/Incorrect Values"
      ]
    },
    {
      "cell_type": "code",
      "execution_count": 60,
      "metadata": {},
      "outputs": [
        {
          "data": {
            "text/html": [
              "<div>\n",
              "<style scoped>\n",
              "    .dataframe tbody tr th:only-of-type {\n",
              "        vertical-align: middle;\n",
              "    }\n",
              "\n",
              "    .dataframe tbody tr th {\n",
              "        vertical-align: top;\n",
              "    }\n",
              "\n",
              "    .dataframe thead th {\n",
              "        text-align: right;\n",
              "    }\n",
              "</style>\n",
              "<table border=\"1\" class=\"dataframe\">\n",
              "  <thead>\n",
              "    <tr style=\"text-align: right;\">\n",
              "      <th></th>\n",
              "      <th>Make</th>\n",
              "      <th>Model</th>\n",
              "      <th>Year</th>\n",
              "      <th>Trim</th>\n",
              "      <th>Location</th>\n",
              "      <th>Price</th>\n",
              "      <th>Mileage</th>\n",
              "      <th>Transmission</th>\n",
              "      <th>Color</th>\n",
              "      <th>Engine_Size</th>\n",
              "      <th>Fuel_Type</th>\n",
              "      <th>Gas_Mileage</th>\n",
              "      <th>Seats</th>\n",
              "      <th>Drive_Type</th>\n",
              "    </tr>\n",
              "  </thead>\n",
              "  <tbody>\n",
              "    <tr>\n",
              "      <th>32494</th>\n",
              "      <td>Jeep</td>\n",
              "      <td>Wagoneer L</td>\n",
              "      <td>2024</td>\n",
              "      <td>Series III</td>\n",
              "      <td>27948</td>\n",
              "      <td>85432.0</td>\n",
              "      <td>10.0</td>\n",
              "      <td>Automatic</td>\n",
              "      <td>White</td>\n",
              "      <td>6.0</td>\n",
              "      <td>Gas</td>\n",
              "      <td>19.0</td>\n",
              "      <td>7.0</td>\n",
              "      <td>AWD</td>\n",
              "    </tr>\n",
              "  </tbody>\n",
              "</table>\n",
              "</div>"
            ],
            "text/plain": [
              "       Make       Model  Year        Trim Location    Price  Mileage  \\\n",
              "32494  Jeep  Wagoneer L  2024  Series III    27948  85432.0     10.0   \n",
              "\n",
              "      Transmission  Color  Engine_Size Fuel_Type  Gas_Mileage  Seats  \\\n",
              "32494    Automatic  White          6.0       Gas         19.0    7.0   \n",
              "\n",
              "      Drive_Type  \n",
              "32494        AWD  "
            ]
          },
          "execution_count": 60,
          "metadata": {},
          "output_type": "execute_result"
        }
      ],
      "source": [
        "data.sample()"
      ]
    },
    {
      "cell_type": "code",
      "execution_count": 61,
      "metadata": {
        "id": "U35g9cqzy_uJ"
      },
      "outputs": [
        {
          "name": "stdout",
          "output_type": "stream",
          "text": [
            "Price:  6421\n",
            "Mileage:  56\n",
            "Transmission:  201\n",
            "Color:  0\n",
            "Engine_Size:  624\n",
            "Fuel_Type:  85\n",
            "Gas Mileage:  8244\n",
            "Drive_Type:  532\n"
          ]
        }
      ],
      "source": [
        "print(\"Price: \", data['Price'].isna().sum())\n",
        "print(\"Mileage: \", data['Mileage'].isna().sum())\n",
        "print(\"Transmission: \", data['Transmission'].isna().sum())\n",
        "print(\"Color: \", data['Color'].isna().sum())\n",
        "print(\"Engine_Size: \", data['Engine_Size'].isna().sum())\n",
        "print(\"Fuel_Type: \", data['Fuel_Type'].isna().sum())\n",
        "print(\"Gas Mileage: \", data['Gas_Mileage'].isna().sum())\n",
        "print(\"Drive_Type: \", data['Drive_Type'].isna().sum())"
      ]
    },
    {
      "cell_type": "code",
      "execution_count": 62,
      "metadata": {},
      "outputs": [
        {
          "data": {
            "text/plain": [
              "np.int64(16498)"
            ]
          },
          "execution_count": 62,
          "metadata": {},
          "output_type": "execute_result"
        }
      ],
      "source": [
        "data.isna().sum().sum()"
      ]
    },
    {
      "cell_type": "code",
      "execution_count": 63,
      "metadata": {},
      "outputs": [],
      "source": [
        "data = data.dropna()"
      ]
    },
    {
      "cell_type": "code",
      "execution_count": 64,
      "metadata": {},
      "outputs": [
        {
          "data": {
            "text/plain": [
              "45897"
            ]
          },
          "execution_count": 64,
          "metadata": {},
          "output_type": "execute_result"
        }
      ],
      "source": [
        "len(data.index)"
      ]
    },
    {
      "cell_type": "code",
      "execution_count": 65,
      "metadata": {},
      "outputs": [
        {
          "data": {
            "text/plain": [
              "np.int64(0)"
            ]
          },
          "execution_count": 65,
          "metadata": {},
          "output_type": "execute_result"
        }
      ],
      "source": [
        "data.isna().sum().sum()"
      ]
    },
    {
      "cell_type": "code",
      "execution_count": 66,
      "metadata": {},
      "outputs": [],
      "source": [
        "# removing seats drops MAE\n",
        "data = data.drop(columns=['Seats'])"
      ]
    },
    {
      "cell_type": "code",
      "execution_count": 67,
      "metadata": {},
      "outputs": [
        {
          "data": {
            "text/html": [
              "<div>\n",
              "<style scoped>\n",
              "    .dataframe tbody tr th:only-of-type {\n",
              "        vertical-align: middle;\n",
              "    }\n",
              "\n",
              "    .dataframe tbody tr th {\n",
              "        vertical-align: top;\n",
              "    }\n",
              "\n",
              "    .dataframe thead th {\n",
              "        text-align: right;\n",
              "    }\n",
              "</style>\n",
              "<table border=\"1\" class=\"dataframe\">\n",
              "  <thead>\n",
              "    <tr style=\"text-align: right;\">\n",
              "      <th></th>\n",
              "      <th>Make</th>\n",
              "      <th>Model</th>\n",
              "      <th>Year</th>\n",
              "      <th>Trim</th>\n",
              "      <th>Location</th>\n",
              "      <th>Price</th>\n",
              "      <th>Mileage</th>\n",
              "      <th>Transmission</th>\n",
              "      <th>Color</th>\n",
              "      <th>Engine_Size</th>\n",
              "      <th>Fuel_Type</th>\n",
              "      <th>Gas_Mileage</th>\n",
              "      <th>Drive_Type</th>\n",
              "    </tr>\n",
              "  </thead>\n",
              "  <tbody>\n",
              "    <tr>\n",
              "      <th>18037</th>\n",
              "      <td>Ford</td>\n",
              "      <td>Crown Victoria</td>\n",
              "      <td>2011</td>\n",
              "      <td>Police Interceptor</td>\n",
              "      <td>08322</td>\n",
              "      <td>7995.0</td>\n",
              "      <td>137298.0</td>\n",
              "      <td>Automatic</td>\n",
              "      <td>White</td>\n",
              "      <td>8.0</td>\n",
              "      <td>Flex fuel</td>\n",
              "      <td>14.0</td>\n",
              "      <td>RWD</td>\n",
              "    </tr>\n",
              "  </tbody>\n",
              "</table>\n",
              "</div>"
            ],
            "text/plain": [
              "       Make           Model  Year                Trim Location   Price  \\\n",
              "18037  Ford  Crown Victoria  2011  Police Interceptor    08322  7995.0   \n",
              "\n",
              "        Mileage Transmission  Color  Engine_Size  Fuel_Type  Gas_Mileage  \\\n",
              "18037  137298.0    Automatic  White          8.0  Flex fuel         14.0   \n",
              "\n",
              "      Drive_Type  \n",
              "18037        RWD  "
            ]
          },
          "execution_count": 67,
          "metadata": {},
          "output_type": "execute_result"
        }
      ],
      "source": [
        "data.sample()"
      ]
    },
    {
      "cell_type": "markdown",
      "metadata": {
        "id": "AJ5EZdr3GzDZ"
      },
      "source": [
        "## Add Coordinates From Zip Code"
      ]
    },
    {
      "cell_type": "code",
      "execution_count": 68,
      "metadata": {},
      "outputs": [],
      "source": [
        "nomi = pgeocode.Nominatim('us')\n",
        "\n",
        "\n",
        "latitudes = []\n",
        "longitudes = []\n",
        "\n",
        "for zip_code in data['Location']:\n",
        "    location = nomi.query_postal_code(zip_code)\n",
        "    latitudes.append(location.latitude if location is not None else None)\n",
        "    longitudes.append(location.longitude if location is not None else None)\n",
        "\n",
        "data['Latitude'] = latitudes\n",
        "data['Longitude'] = longitudes\n",
        "data['Latitude'] = data['Latitude'].apply(radians)\n",
        "data['Longitude'] = data['Longitude'].apply(radians)\n"
      ]
    },
    {
      "cell_type": "code",
      "execution_count": 69,
      "metadata": {},
      "outputs": [],
      "source": [
        "data = data.drop(columns=['Location'])"
      ]
    },
    {
      "cell_type": "markdown",
      "metadata": {},
      "source": [
        "## Replace Year Column"
      ]
    },
    {
      "cell_type": "code",
      "execution_count": 70,
      "metadata": {
        "id": "qmTgqQ5_1HTK"
      },
      "outputs": [],
      "source": [
        "current_year = datetime.datetime.now().year\n",
        "data['Age'] = current_year - data['Year'].astype(int)\n",
        "data = data.drop(columns='Year')"
      ]
    },
    {
      "cell_type": "code",
      "execution_count": 71,
      "metadata": {
        "colab": {
          "base_uri": "https://localhost:8080/",
          "height": 204
        },
        "id": "HvXOdYR5ZAUD",
        "outputId": "7db69ff6-2b08-4f8c-961a-96be894905c5"
      },
      "outputs": [
        {
          "data": {
            "text/html": [
              "<div>\n",
              "<style scoped>\n",
              "    .dataframe tbody tr th:only-of-type {\n",
              "        vertical-align: middle;\n",
              "    }\n",
              "\n",
              "    .dataframe tbody tr th {\n",
              "        vertical-align: top;\n",
              "    }\n",
              "\n",
              "    .dataframe thead th {\n",
              "        text-align: right;\n",
              "    }\n",
              "</style>\n",
              "<table border=\"1\" class=\"dataframe\">\n",
              "  <thead>\n",
              "    <tr style=\"text-align: right;\">\n",
              "      <th></th>\n",
              "      <th>Make</th>\n",
              "      <th>Model</th>\n",
              "      <th>Trim</th>\n",
              "      <th>Price</th>\n",
              "      <th>Mileage</th>\n",
              "      <th>Transmission</th>\n",
              "      <th>Color</th>\n",
              "      <th>Engine_Size</th>\n",
              "      <th>Fuel_Type</th>\n",
              "      <th>Gas_Mileage</th>\n",
              "      <th>Drive_Type</th>\n",
              "      <th>Latitude</th>\n",
              "      <th>Longitude</th>\n",
              "      <th>Age</th>\n",
              "    </tr>\n",
              "  </thead>\n",
              "  <tbody>\n",
              "    <tr>\n",
              "      <th>60556</th>\n",
              "      <td>Volkswagen</td>\n",
              "      <td>ID.4</td>\n",
              "      <td>Pro S Plus</td>\n",
              "      <td>57651.0</td>\n",
              "      <td>10.0</td>\n",
              "      <td>Automatic</td>\n",
              "      <td>Deep Black Pearl</td>\n",
              "      <td>0.0</td>\n",
              "      <td>Electric</td>\n",
              "      <td>99.0</td>\n",
              "      <td>AWD</td>\n",
              "      <td>0.708557</td>\n",
              "      <td>-1.292884</td>\n",
              "      <td>1</td>\n",
              "    </tr>\n",
              "    <tr>\n",
              "      <th>53761</th>\n",
              "      <td>Saturn</td>\n",
              "      <td>Sky</td>\n",
              "      <td>Red Line</td>\n",
              "      <td>6500.0</td>\n",
              "      <td>102865.0</td>\n",
              "      <td>Automatic</td>\n",
              "      <td>Blue</td>\n",
              "      <td>4.0</td>\n",
              "      <td>Gas</td>\n",
              "      <td>21.0</td>\n",
              "      <td>RWD</td>\n",
              "      <td>0.588440</td>\n",
              "      <td>-2.059623</td>\n",
              "      <td>15</td>\n",
              "    </tr>\n",
              "    <tr>\n",
              "      <th>3530</th>\n",
              "      <td>Audi</td>\n",
              "      <td>SQ5</td>\n",
              "      <td>3.0T quattro Premium Plus</td>\n",
              "      <td>35990.0</td>\n",
              "      <td>47198.0</td>\n",
              "      <td>Automatic</td>\n",
              "      <td>Ibis White</td>\n",
              "      <td>6.0</td>\n",
              "      <td>Gas</td>\n",
              "      <td>20.0</td>\n",
              "      <td>AWD</td>\n",
              "      <td>0.705830</td>\n",
              "      <td>-1.315118</td>\n",
              "      <td>3</td>\n",
              "    </tr>\n",
              "    <tr>\n",
              "      <th>7693</th>\n",
              "      <td>Buick</td>\n",
              "      <td>Riviera</td>\n",
              "      <td>Base</td>\n",
              "      <td>10500.0</td>\n",
              "      <td>56954.0</td>\n",
              "      <td>Automatic</td>\n",
              "      <td>White</td>\n",
              "      <td>8.0</td>\n",
              "      <td>Gas</td>\n",
              "      <td>17.0</td>\n",
              "      <td>RWD</td>\n",
              "      <td>0.726162</td>\n",
              "      <td>-1.906423</td>\n",
              "      <td>39</td>\n",
              "    </tr>\n",
              "    <tr>\n",
              "      <th>30546</th>\n",
              "      <td>Jaguar</td>\n",
              "      <td>F-TYPE</td>\n",
              "      <td>R</td>\n",
              "      <td>34999.0</td>\n",
              "      <td>101528.0</td>\n",
              "      <td>Automatic</td>\n",
              "      <td>White</td>\n",
              "      <td>8.0</td>\n",
              "      <td>Gas</td>\n",
              "      <td>18.0</td>\n",
              "      <td>AWD</td>\n",
              "      <td>0.700373</td>\n",
              "      <td>-1.310056</td>\n",
              "      <td>8</td>\n",
              "    </tr>\n",
              "  </tbody>\n",
              "</table>\n",
              "</div>"
            ],
            "text/plain": [
              "             Make    Model                       Trim    Price   Mileage  \\\n",
              "60556  Volkswagen     ID.4                 Pro S Plus  57651.0      10.0   \n",
              "53761      Saturn      Sky                   Red Line   6500.0  102865.0   \n",
              "3530         Audi      SQ5  3.0T quattro Premium Plus  35990.0   47198.0   \n",
              "7693        Buick  Riviera                       Base  10500.0   56954.0   \n",
              "30546      Jaguar   F-TYPE                          R  34999.0  101528.0   \n",
              "\n",
              "      Transmission             Color  Engine_Size Fuel_Type  Gas_Mileage  \\\n",
              "60556    Automatic  Deep Black Pearl          0.0  Electric         99.0   \n",
              "53761    Automatic              Blue          4.0       Gas         21.0   \n",
              "3530     Automatic        Ibis White          6.0       Gas         20.0   \n",
              "7693     Automatic             White          8.0       Gas         17.0   \n",
              "30546    Automatic             White          8.0       Gas         18.0   \n",
              "\n",
              "      Drive_Type  Latitude  Longitude  Age  \n",
              "60556        AWD  0.708557  -1.292884    1  \n",
              "53761        RWD  0.588440  -2.059623   15  \n",
              "3530         AWD  0.705830  -1.315118    3  \n",
              "7693         RWD  0.726162  -1.906423   39  \n",
              "30546        AWD  0.700373  -1.310056    8  "
            ]
          },
          "execution_count": 71,
          "metadata": {},
          "output_type": "execute_result"
        }
      ],
      "source": [
        "data.sample(5)"
      ]
    },
    {
      "cell_type": "code",
      "execution_count": 72,
      "metadata": {},
      "outputs": [],
      "source": [
        "data = data.dropna()"
      ]
    },
    {
      "cell_type": "code",
      "execution_count": 73,
      "metadata": {},
      "outputs": [
        {
          "data": {
            "text/plain": [
              "45853"
            ]
          },
          "execution_count": 73,
          "metadata": {},
          "output_type": "execute_result"
        }
      ],
      "source": [
        "len(data.index)"
      ]
    },
    {
      "cell_type": "markdown",
      "metadata": {},
      "source": [
        "## Format Dataframe"
      ]
    },
    {
      "cell_type": "code",
      "execution_count": 74,
      "metadata": {},
      "outputs": [],
      "source": [
        "price = data.pop('Price')\n",
        "data.insert(13, 'Price', price)"
      ]
    },
    {
      "cell_type": "code",
      "execution_count": 75,
      "metadata": {},
      "outputs": [],
      "source": [
        "age = data.pop('Age')\n",
        "data.insert(2, 'Age', age)"
      ]
    },
    {
      "cell_type": "code",
      "execution_count": 76,
      "metadata": {},
      "outputs": [
        {
          "data": {
            "text/html": [
              "<div>\n",
              "<style scoped>\n",
              "    .dataframe tbody tr th:only-of-type {\n",
              "        vertical-align: middle;\n",
              "    }\n",
              "\n",
              "    .dataframe tbody tr th {\n",
              "        vertical-align: top;\n",
              "    }\n",
              "\n",
              "    .dataframe thead th {\n",
              "        text-align: right;\n",
              "    }\n",
              "</style>\n",
              "<table border=\"1\" class=\"dataframe\">\n",
              "  <thead>\n",
              "    <tr style=\"text-align: right;\">\n",
              "      <th></th>\n",
              "      <th>Make</th>\n",
              "      <th>Model</th>\n",
              "      <th>Age</th>\n",
              "      <th>Trim</th>\n",
              "      <th>Mileage</th>\n",
              "      <th>Transmission</th>\n",
              "      <th>Color</th>\n",
              "      <th>Engine_Size</th>\n",
              "      <th>Fuel_Type</th>\n",
              "      <th>Gas_Mileage</th>\n",
              "      <th>Drive_Type</th>\n",
              "      <th>Latitude</th>\n",
              "      <th>Longitude</th>\n",
              "      <th>Price</th>\n",
              "    </tr>\n",
              "  </thead>\n",
              "  <tbody>\n",
              "    <tr>\n",
              "      <th>4852</th>\n",
              "      <td>BMW</td>\n",
              "      <td>7 Series</td>\n",
              "      <td>10</td>\n",
              "      <td>750Li xDrive</td>\n",
              "      <td>88084.0</td>\n",
              "      <td>Automatic</td>\n",
              "      <td>Black</td>\n",
              "      <td>8.0</td>\n",
              "      <td>Gas</td>\n",
              "      <td>19.0</td>\n",
              "      <td>AWD</td>\n",
              "      <td>0.698868</td>\n",
              "      <td>-1.309423</td>\n",
              "      <td>16399.0</td>\n",
              "    </tr>\n",
              "  </tbody>\n",
              "</table>\n",
              "</div>"
            ],
            "text/plain": [
              "     Make     Model  Age          Trim  Mileage Transmission  Color  \\\n",
              "4852  BMW  7 Series   10  750Li xDrive  88084.0    Automatic  Black   \n",
              "\n",
              "      Engine_Size Fuel_Type  Gas_Mileage Drive_Type  Latitude  Longitude  \\\n",
              "4852          8.0       Gas         19.0        AWD  0.698868  -1.309423   \n",
              "\n",
              "        Price  \n",
              "4852  16399.0  "
            ]
          },
          "execution_count": 76,
          "metadata": {},
          "output_type": "execute_result"
        }
      ],
      "source": [
        "data.sample()"
      ]
    },
    {
      "cell_type": "markdown",
      "metadata": {
        "id": "F8ubAH6yOP5W"
      },
      "source": [
        "# 2) Exploratory Data Analysis"
      ]
    },
    {
      "cell_type": "code",
      "execution_count": null,
      "metadata": {
        "id": "_-u4znybKrz9"
      },
      "outputs": [],
      "source": [
        "# Find the total number of cars per manufacturer in the dataset\n",
        "plt.figure(figsize=(20, 15))\n",
        "sns.countplot(y=data['Make'])\n",
        "plt.title(\"Manufacturer Distribution\")\n",
        "plt.show()"
      ]
    },
    {
      "cell_type": "code",
      "execution_count": null,
      "metadata": {
        "id": "HHUcaNGdOj4i"
      },
      "outputs": [],
      "source": [
        "# Find the number of cars made in each year in the dataset\n",
        "plt.figure(figsize=(20, 15))\n",
        "sns.countplot(y=data.Year, palette='viridis')\n",
        "plt.title(\"Year Distribution\")\n",
        "plt.show()"
      ]
    },
    {
      "cell_type": "code",
      "execution_count": null,
      "metadata": {
        "id": "X-CNtaphTFhy"
      },
      "outputs": [],
      "source": [
        "# Number of cars per transmission type\n",
        "plt.figure(figsize=(20, 15))\n",
        "sns.countplot(x=data.Transmission, palette='Paired')\n",
        "plt.title(\"Transmission Distribution\")\n",
        "plt.show()"
      ]
    },
    {
      "cell_type": "code",
      "execution_count": null,
      "metadata": {
        "id": "Lic_CH_FTbJ9"
      },
      "outputs": [],
      "source": [
        "# unique elements in data\n",
        "data.nunique()"
      ]
    },
    {
      "cell_type": "code",
      "execution_count": null,
      "metadata": {
        "id": "E7Hy4i9mUNGh"
      },
      "outputs": [],
      "source": [
        "# fuel type distribution\n",
        "plt.figure(figsize=(20, 15))\n",
        "sns.countplot(y=data.Fuel_Type.sort_values(ascending=False), palette='Dark2')\n"
      ]
    },
    {
      "cell_type": "code",
      "execution_count": null,
      "metadata": {
        "id": "h-DMNpGrVPa5"
      },
      "outputs": [],
      "source": [
        "# Group rows by make\n",
        "data.groupby('Make')[['Engine_Size','Gas_Mileage', 'Price']].agg(['min','max','mean','median'])"
      ]
    },
    {
      "cell_type": "code",
      "execution_count": null,
      "metadata": {
        "id": "BKTwOMN2VTaD"
      },
      "outputs": [],
      "source": [
        "# average price by year\n",
        "plt.figure(figsize=(20, 10))\n",
        "data.groupby('Year')['Price'].mean().plot(kind='bar',color='g')\n",
        "plt.title('Average Price by Year')\n",
        "plt.show()"
      ]
    },
    {
      "cell_type": "code",
      "execution_count": null,
      "metadata": {
        "id": "YUVwe0B_ixYI"
      },
      "outputs": [],
      "source": [
        "plt.figure(figsize = (10, 10))\n",
        "data.groupby('Transmission')['Price'].mean().plot(kind = 'bar', color = 'y')\n",
        "plt.title(\"Average Price by Transmission\", fontsize = 20)\n",
        "plt.show()"
      ]
    },
    {
      "cell_type": "code",
      "execution_count": null,
      "metadata": {
        "id": "vOPZ5HOpjSbV"
      },
      "outputs": [],
      "source": [
        "plt.figure(figsize = (20, 15))\n",
        "data.groupby(['Make'])['Price'].mean().sort_values(ascending = False).plot(kind = 'bar', fontsize = 15, color = 'black')\n",
        "plt.title(\"Average Price per Manufacturer\", fontsize = 20)\n",
        "plt.show()"
      ]
    },
    {
      "cell_type": "code",
      "execution_count": null,
      "metadata": {
        "id": "rJYdfqN3jaZX"
      },
      "outputs": [],
      "source": [
        "# Group by Drive Type\n",
        "plt.figure(figsize = (20, 15))\n",
        "data.groupby(['Drive_Type'])['Price'].mean().sort_values(ascending = False).plot(kind = 'bar', fontsize = 15, color = 'orange')"
      ]
    },
    {
      "cell_type": "code",
      "execution_count": null,
      "metadata": {
        "id": "GdI55ANEzwHM"
      },
      "outputs": [],
      "source": [
        "sns.scatterplot(x='Engine_Size',y='Gas_Mileage', data=data, color='r')\n",
        "plt.show()"
      ]
    },
    {
      "cell_type": "code",
      "execution_count": null,
      "metadata": {
        "id": "665RHKb01-ZA"
      },
      "outputs": [],
      "source": [
        "# Boxplot of MPG\n",
        "sns.boxplot(x='Gas_Mileage', data=data,color='r')"
      ]
    },
    {
      "cell_type": "code",
      "execution_count": null,
      "metadata": {
        "id": "CY7hf3gd6Vnn"
      },
      "outputs": [],
      "source": [
        "sns.scatterplot(x='Fuel_Type',y='Gas_Mileage', data=data, color='r')\n",
        "plt.show()"
      ]
    },
    {
      "cell_type": "code",
      "execution_count": null,
      "metadata": {
        "colab": {
          "base_uri": "https://localhost:8080/",
          "height": 1000
        },
        "id": "2o-KiYJj9MHx",
        "outputId": "19f5fd92-a903-4215-8815-47b5612eb798"
      },
      "outputs": [],
      "source": [
        "plt.figure(figsize = (20, 15))\n",
        "numeric_columns = ['Age', 'Mileage', 'Engine_Size', 'Seats', 'Price']\n",
        "heatmap_data = data[numeric_columns].corr()\n",
        "sns.heatmap(heatmap_data, annot=True, cmap='BuPu')"
      ]
    },
    {
      "cell_type": "code",
      "execution_count": null,
      "metadata": {
        "colab": {
          "base_uri": "https://localhost:8080/",
          "height": 1000
        },
        "id": "7l7GcaXrdfrX",
        "outputId": "0dae7dd0-0e33-4f7d-806e-bfe47b0227d3"
      },
      "outputs": [],
      "source": [
        "# Gas Mileage by Year\n",
        "plt.figure(figsize = (20, 15))\n",
        "data.groupby('Year')['Gas_Mileage'].mean().plot(kind = 'bar', color = 'g')\n",
        "plt.title(\"Gas Mileage by Year\", fontsize = 20)\n",
        "plt.show()"
      ]
    },
    {
      "cell_type": "code",
      "execution_count": null,
      "metadata": {
        "colab": {
          "base_uri": "https://localhost:8080/",
          "height": 1000
        },
        "id": "7HqRMpgsd2ke",
        "outputId": "eee3ea38-3d10-4361-a02d-339027b19f50"
      },
      "outputs": [],
      "source": [
        "# Mileage by Year\n",
        "plt.figure(figsize = (20, 15))\n",
        "data.groupby('Year')['Mileage'].mean().plot(kind = 'bar', color = 'g')\n",
        "plt.title(\"Mileage by Year\", fontsize = 20)\n",
        "plt.show()"
      ]
    },
    {
      "cell_type": "code",
      "execution_count": null,
      "metadata": {
        "colab": {
          "base_uri": "https://localhost:8080/"
        },
        "id": "rti_BYUEerIB",
        "outputId": "0bd2babc-36a6-4aab-a470-9dae9fb69ed3"
      },
      "outputs": [],
      "source": [
        "data.info()"
      ]
    },
    {
      "cell_type": "markdown",
      "metadata": {
        "id": "vY60LO6Ah3D8"
      },
      "source": [
        "# 3) Data Manipulation"
      ]
    },
    {
      "cell_type": "code",
      "execution_count": 116,
      "metadata": {
        "colab": {
          "base_uri": "https://localhost:8080/"
        },
        "id": "j7dgeShKlQbE",
        "outputId": "6bd7d55e-5825-4c88-cdad-af5d88f6c1ce"
      },
      "outputs": [
        {
          "name": "stdout",
          "output_type": "stream",
          "text": [
            "45853\n"
          ]
        }
      ],
      "source": [
        "print(len(data.index))"
      ]
    },
    {
      "cell_type": "code",
      "execution_count": 117,
      "metadata": {},
      "outputs": [],
      "source": [
        "frame = data.copy()"
      ]
    },
    {
      "cell_type": "code",
      "execution_count": 118,
      "metadata": {},
      "outputs": [
        {
          "data": {
            "text/html": [
              "<div>\n",
              "<style scoped>\n",
              "    .dataframe tbody tr th:only-of-type {\n",
              "        vertical-align: middle;\n",
              "    }\n",
              "\n",
              "    .dataframe tbody tr th {\n",
              "        vertical-align: top;\n",
              "    }\n",
              "\n",
              "    .dataframe thead th {\n",
              "        text-align: right;\n",
              "    }\n",
              "</style>\n",
              "<table border=\"1\" class=\"dataframe\">\n",
              "  <thead>\n",
              "    <tr style=\"text-align: right;\">\n",
              "      <th></th>\n",
              "      <th>Make</th>\n",
              "      <th>Model</th>\n",
              "      <th>Age</th>\n",
              "      <th>Trim</th>\n",
              "      <th>Mileage</th>\n",
              "      <th>Transmission</th>\n",
              "      <th>Color</th>\n",
              "      <th>Engine_Size</th>\n",
              "      <th>Fuel_Type</th>\n",
              "      <th>Gas_Mileage</th>\n",
              "      <th>Drive_Type</th>\n",
              "      <th>Latitude</th>\n",
              "      <th>Longitude</th>\n",
              "      <th>Price</th>\n",
              "    </tr>\n",
              "  </thead>\n",
              "  <tbody>\n",
              "    <tr>\n",
              "      <th>3035</th>\n",
              "      <td>Audi</td>\n",
              "      <td>RS Q8</td>\n",
              "      <td>0</td>\n",
              "      <td>4.0T quattro</td>\n",
              "      <td>10.0</td>\n",
              "      <td>Automatic</td>\n",
              "      <td>Glacier White Metallic</td>\n",
              "      <td>8.0</td>\n",
              "      <td>Gas</td>\n",
              "      <td>15.0</td>\n",
              "      <td>AWD</td>\n",
              "      <td>0.711937</td>\n",
              "      <td>-1.29265</td>\n",
              "      <td>135880.0</td>\n",
              "    </tr>\n",
              "  </tbody>\n",
              "</table>\n",
              "</div>"
            ],
            "text/plain": [
              "      Make  Model  Age          Trim  Mileage Transmission  \\\n",
              "3035  Audi  RS Q8    0  4.0T quattro     10.0    Automatic   \n",
              "\n",
              "                       Color  Engine_Size Fuel_Type  Gas_Mileage Drive_Type  \\\n",
              "3035  Glacier White Metallic          8.0       Gas         15.0        AWD   \n",
              "\n",
              "      Latitude  Longitude     Price  \n",
              "3035  0.711937   -1.29265  135880.0  "
            ]
          },
          "execution_count": 118,
          "metadata": {},
          "output_type": "execute_result"
        }
      ],
      "source": [
        "frame.sample()"
      ]
    },
    {
      "cell_type": "markdown",
      "metadata": {},
      "source": [
        "## Split the Data"
      ]
    },
    {
      "cell_type": "code",
      "execution_count": 119,
      "metadata": {
        "id": "2OmOQMB6hsTP"
      },
      "outputs": [],
      "source": [
        "shuffled_data = shuffle(frame, random_state=1)\n",
        "X = shuffled_data.drop('Price', axis=1)\n",
        "y = shuffled_data['Price']"
      ]
    },
    {
      "cell_type": "code",
      "execution_count": 120,
      "metadata": {
        "id": "vKLlkXNMiEpw"
      },
      "outputs": [],
      "source": [
        "# Training and Test Set\n",
        "X_train, X_test, y_train, y_test = train_test_split(X, y, test_size=0.2, random_state=1)"
      ]
    },
    {
      "cell_type": "code",
      "execution_count": 121,
      "metadata": {
        "colab": {
          "base_uri": "https://localhost:8080/"
        },
        "id": "rBou5xwOiJ3z",
        "outputId": "4e11be1e-9535-41f5-e9c1-730a14d93723"
      },
      "outputs": [
        {
          "name": "stdout",
          "output_type": "stream",
          "text": [
            "The size of the input train data is: (36682, 13)\n",
            "The size of the output train data is: (36682,)\n",
            "The size of the input test data is: (9171, 13)\n",
            "The size of the output test data is: (9171,)\n"
          ]
        }
      ],
      "source": [
        "print(\"The size of the input train data is: {}\".format(X_train.shape))\n",
        "print(\"The size of the output train data is: {}\".format(y_train.shape))\n",
        "print(\"The size of the input test data is: {}\".format(X_test.shape))\n",
        "print(\"The size of the output test data is: {}\".format(y_test.shape))"
      ]
    },
    {
      "cell_type": "code",
      "execution_count": 122,
      "metadata": {},
      "outputs": [
        {
          "data": {
            "text/html": [
              "<div>\n",
              "<style scoped>\n",
              "    .dataframe tbody tr th:only-of-type {\n",
              "        vertical-align: middle;\n",
              "    }\n",
              "\n",
              "    .dataframe tbody tr th {\n",
              "        vertical-align: top;\n",
              "    }\n",
              "\n",
              "    .dataframe thead th {\n",
              "        text-align: right;\n",
              "    }\n",
              "</style>\n",
              "<table border=\"1\" class=\"dataframe\">\n",
              "  <thead>\n",
              "    <tr style=\"text-align: right;\">\n",
              "      <th></th>\n",
              "      <th>Make</th>\n",
              "      <th>Model</th>\n",
              "      <th>Age</th>\n",
              "      <th>Trim</th>\n",
              "      <th>Mileage</th>\n",
              "      <th>Transmission</th>\n",
              "      <th>Color</th>\n",
              "      <th>Engine_Size</th>\n",
              "      <th>Fuel_Type</th>\n",
              "      <th>Gas_Mileage</th>\n",
              "      <th>Drive_Type</th>\n",
              "      <th>Latitude</th>\n",
              "      <th>Longitude</th>\n",
              "    </tr>\n",
              "  </thead>\n",
              "  <tbody>\n",
              "    <tr>\n",
              "      <th>26707</th>\n",
              "      <td>Hyundai</td>\n",
              "      <td>Ioniq 5</td>\n",
              "      <td>0</td>\n",
              "      <td>SEL</td>\n",
              "      <td>5.0</td>\n",
              "      <td>Automatic</td>\n",
              "      <td>Digital Teal</td>\n",
              "      <td>0.0</td>\n",
              "      <td>Electric</td>\n",
              "      <td>99.0</td>\n",
              "      <td>AWD</td>\n",
              "      <td>0.704884</td>\n",
              "      <td>-1.301244</td>\n",
              "    </tr>\n",
              "  </tbody>\n",
              "</table>\n",
              "</div>"
            ],
            "text/plain": [
              "          Make    Model  Age Trim  Mileage Transmission         Color  \\\n",
              "26707  Hyundai  Ioniq 5    0  SEL      5.0    Automatic  Digital Teal   \n",
              "\n",
              "       Engine_Size Fuel_Type  Gas_Mileage Drive_Type  Latitude  Longitude  \n",
              "26707          0.0  Electric         99.0        AWD  0.704884  -1.301244  "
            ]
          },
          "execution_count": 122,
          "metadata": {},
          "output_type": "execute_result"
        }
      ],
      "source": [
        "X_train.sample()"
      ]
    },
    {
      "cell_type": "markdown",
      "metadata": {},
      "source": [
        "## Encode Make"
      ]
    },
    {
      "cell_type": "code",
      "execution_count": 123,
      "metadata": {},
      "outputs": [],
      "source": [
        "make_encoder = TargetEncoder(cols='Make')"
      ]
    },
    {
      "cell_type": "code",
      "execution_count": 124,
      "metadata": {},
      "outputs": [
        {
          "data": {
            "text/html": [
              "<style>#sk-container-id-1 {\n",
              "  /* Definition of color scheme common for light and dark mode */\n",
              "  --sklearn-color-text: black;\n",
              "  --sklearn-color-line: gray;\n",
              "  /* Definition of color scheme for unfitted estimators */\n",
              "  --sklearn-color-unfitted-level-0: #fff5e6;\n",
              "  --sklearn-color-unfitted-level-1: #f6e4d2;\n",
              "  --sklearn-color-unfitted-level-2: #ffe0b3;\n",
              "  --sklearn-color-unfitted-level-3: chocolate;\n",
              "  /* Definition of color scheme for fitted estimators */\n",
              "  --sklearn-color-fitted-level-0: #f0f8ff;\n",
              "  --sklearn-color-fitted-level-1: #d4ebff;\n",
              "  --sklearn-color-fitted-level-2: #b3dbfd;\n",
              "  --sklearn-color-fitted-level-3: cornflowerblue;\n",
              "\n",
              "  /* Specific color for light theme */\n",
              "  --sklearn-color-text-on-default-background: var(--sg-text-color, var(--theme-code-foreground, var(--jp-content-font-color1, black)));\n",
              "  --sklearn-color-background: var(--sg-background-color, var(--theme-background, var(--jp-layout-color0, white)));\n",
              "  --sklearn-color-border-box: var(--sg-text-color, var(--theme-code-foreground, var(--jp-content-font-color1, black)));\n",
              "  --sklearn-color-icon: #696969;\n",
              "\n",
              "  @media (prefers-color-scheme: dark) {\n",
              "    /* Redefinition of color scheme for dark theme */\n",
              "    --sklearn-color-text-on-default-background: var(--sg-text-color, var(--theme-code-foreground, var(--jp-content-font-color1, white)));\n",
              "    --sklearn-color-background: var(--sg-background-color, var(--theme-background, var(--jp-layout-color0, #111)));\n",
              "    --sklearn-color-border-box: var(--sg-text-color, var(--theme-code-foreground, var(--jp-content-font-color1, white)));\n",
              "    --sklearn-color-icon: #878787;\n",
              "  }\n",
              "}\n",
              "\n",
              "#sk-container-id-1 {\n",
              "  color: var(--sklearn-color-text);\n",
              "}\n",
              "\n",
              "#sk-container-id-1 pre {\n",
              "  padding: 0;\n",
              "}\n",
              "\n",
              "#sk-container-id-1 input.sk-hidden--visually {\n",
              "  border: 0;\n",
              "  clip: rect(1px 1px 1px 1px);\n",
              "  clip: rect(1px, 1px, 1px, 1px);\n",
              "  height: 1px;\n",
              "  margin: -1px;\n",
              "  overflow: hidden;\n",
              "  padding: 0;\n",
              "  position: absolute;\n",
              "  width: 1px;\n",
              "}\n",
              "\n",
              "#sk-container-id-1 div.sk-dashed-wrapped {\n",
              "  border: 1px dashed var(--sklearn-color-line);\n",
              "  margin: 0 0.4em 0.5em 0.4em;\n",
              "  box-sizing: border-box;\n",
              "  padding-bottom: 0.4em;\n",
              "  background-color: var(--sklearn-color-background);\n",
              "}\n",
              "\n",
              "#sk-container-id-1 div.sk-container {\n",
              "  /* jupyter's `normalize.less` sets `[hidden] { display: none; }`\n",
              "     but bootstrap.min.css set `[hidden] { display: none !important; }`\n",
              "     so we also need the `!important` here to be able to override the\n",
              "     default hidden behavior on the sphinx rendered scikit-learn.org.\n",
              "     See: https://github.com/scikit-learn/scikit-learn/issues/21755 */\n",
              "  display: inline-block !important;\n",
              "  position: relative;\n",
              "}\n",
              "\n",
              "#sk-container-id-1 div.sk-text-repr-fallback {\n",
              "  display: none;\n",
              "}\n",
              "\n",
              "div.sk-parallel-item,\n",
              "div.sk-serial,\n",
              "div.sk-item {\n",
              "  /* draw centered vertical line to link estimators */\n",
              "  background-image: linear-gradient(var(--sklearn-color-text-on-default-background), var(--sklearn-color-text-on-default-background));\n",
              "  background-size: 2px 100%;\n",
              "  background-repeat: no-repeat;\n",
              "  background-position: center center;\n",
              "}\n",
              "\n",
              "/* Parallel-specific style estimator block */\n",
              "\n",
              "#sk-container-id-1 div.sk-parallel-item::after {\n",
              "  content: \"\";\n",
              "  width: 100%;\n",
              "  border-bottom: 2px solid var(--sklearn-color-text-on-default-background);\n",
              "  flex-grow: 1;\n",
              "}\n",
              "\n",
              "#sk-container-id-1 div.sk-parallel {\n",
              "  display: flex;\n",
              "  align-items: stretch;\n",
              "  justify-content: center;\n",
              "  background-color: var(--sklearn-color-background);\n",
              "  position: relative;\n",
              "}\n",
              "\n",
              "#sk-container-id-1 div.sk-parallel-item {\n",
              "  display: flex;\n",
              "  flex-direction: column;\n",
              "}\n",
              "\n",
              "#sk-container-id-1 div.sk-parallel-item:first-child::after {\n",
              "  align-self: flex-end;\n",
              "  width: 50%;\n",
              "}\n",
              "\n",
              "#sk-container-id-1 div.sk-parallel-item:last-child::after {\n",
              "  align-self: flex-start;\n",
              "  width: 50%;\n",
              "}\n",
              "\n",
              "#sk-container-id-1 div.sk-parallel-item:only-child::after {\n",
              "  width: 0;\n",
              "}\n",
              "\n",
              "/* Serial-specific style estimator block */\n",
              "\n",
              "#sk-container-id-1 div.sk-serial {\n",
              "  display: flex;\n",
              "  flex-direction: column;\n",
              "  align-items: center;\n",
              "  background-color: var(--sklearn-color-background);\n",
              "  padding-right: 1em;\n",
              "  padding-left: 1em;\n",
              "}\n",
              "\n",
              "\n",
              "/* Toggleable style: style used for estimator/Pipeline/ColumnTransformer box that is\n",
              "clickable and can be expanded/collapsed.\n",
              "- Pipeline and ColumnTransformer use this feature and define the default style\n",
              "- Estimators will overwrite some part of the style using the `sk-estimator` class\n",
              "*/\n",
              "\n",
              "/* Pipeline and ColumnTransformer style (default) */\n",
              "\n",
              "#sk-container-id-1 div.sk-toggleable {\n",
              "  /* Default theme specific background. It is overwritten whether we have a\n",
              "  specific estimator or a Pipeline/ColumnTransformer */\n",
              "  background-color: var(--sklearn-color-background);\n",
              "}\n",
              "\n",
              "/* Toggleable label */\n",
              "#sk-container-id-1 label.sk-toggleable__label {\n",
              "  cursor: pointer;\n",
              "  display: block;\n",
              "  width: 100%;\n",
              "  margin-bottom: 0;\n",
              "  padding: 0.5em;\n",
              "  box-sizing: border-box;\n",
              "  text-align: center;\n",
              "}\n",
              "\n",
              "#sk-container-id-1 label.sk-toggleable__label-arrow:before {\n",
              "  /* Arrow on the left of the label */\n",
              "  content: \"▸\";\n",
              "  float: left;\n",
              "  margin-right: 0.25em;\n",
              "  color: var(--sklearn-color-icon);\n",
              "}\n",
              "\n",
              "#sk-container-id-1 label.sk-toggleable__label-arrow:hover:before {\n",
              "  color: var(--sklearn-color-text);\n",
              "}\n",
              "\n",
              "/* Toggleable content - dropdown */\n",
              "\n",
              "#sk-container-id-1 div.sk-toggleable__content {\n",
              "  max-height: 0;\n",
              "  max-width: 0;\n",
              "  overflow: hidden;\n",
              "  text-align: left;\n",
              "  /* unfitted */\n",
              "  background-color: var(--sklearn-color-unfitted-level-0);\n",
              "}\n",
              "\n",
              "#sk-container-id-1 div.sk-toggleable__content.fitted {\n",
              "  /* fitted */\n",
              "  background-color: var(--sklearn-color-fitted-level-0);\n",
              "}\n",
              "\n",
              "#sk-container-id-1 div.sk-toggleable__content pre {\n",
              "  margin: 0.2em;\n",
              "  border-radius: 0.25em;\n",
              "  color: var(--sklearn-color-text);\n",
              "  /* unfitted */\n",
              "  background-color: var(--sklearn-color-unfitted-level-0);\n",
              "}\n",
              "\n",
              "#sk-container-id-1 div.sk-toggleable__content.fitted pre {\n",
              "  /* unfitted */\n",
              "  background-color: var(--sklearn-color-fitted-level-0);\n",
              "}\n",
              "\n",
              "#sk-container-id-1 input.sk-toggleable__control:checked~div.sk-toggleable__content {\n",
              "  /* Expand drop-down */\n",
              "  max-height: 200px;\n",
              "  max-width: 100%;\n",
              "  overflow: auto;\n",
              "}\n",
              "\n",
              "#sk-container-id-1 input.sk-toggleable__control:checked~label.sk-toggleable__label-arrow:before {\n",
              "  content: \"▾\";\n",
              "}\n",
              "\n",
              "/* Pipeline/ColumnTransformer-specific style */\n",
              "\n",
              "#sk-container-id-1 div.sk-label input.sk-toggleable__control:checked~label.sk-toggleable__label {\n",
              "  color: var(--sklearn-color-text);\n",
              "  background-color: var(--sklearn-color-unfitted-level-2);\n",
              "}\n",
              "\n",
              "#sk-container-id-1 div.sk-label.fitted input.sk-toggleable__control:checked~label.sk-toggleable__label {\n",
              "  background-color: var(--sklearn-color-fitted-level-2);\n",
              "}\n",
              "\n",
              "/* Estimator-specific style */\n",
              "\n",
              "/* Colorize estimator box */\n",
              "#sk-container-id-1 div.sk-estimator input.sk-toggleable__control:checked~label.sk-toggleable__label {\n",
              "  /* unfitted */\n",
              "  background-color: var(--sklearn-color-unfitted-level-2);\n",
              "}\n",
              "\n",
              "#sk-container-id-1 div.sk-estimator.fitted input.sk-toggleable__control:checked~label.sk-toggleable__label {\n",
              "  /* fitted */\n",
              "  background-color: var(--sklearn-color-fitted-level-2);\n",
              "}\n",
              "\n",
              "#sk-container-id-1 div.sk-label label.sk-toggleable__label,\n",
              "#sk-container-id-1 div.sk-label label {\n",
              "  /* The background is the default theme color */\n",
              "  color: var(--sklearn-color-text-on-default-background);\n",
              "}\n",
              "\n",
              "/* On hover, darken the color of the background */\n",
              "#sk-container-id-1 div.sk-label:hover label.sk-toggleable__label {\n",
              "  color: var(--sklearn-color-text);\n",
              "  background-color: var(--sklearn-color-unfitted-level-2);\n",
              "}\n",
              "\n",
              "/* Label box, darken color on hover, fitted */\n",
              "#sk-container-id-1 div.sk-label.fitted:hover label.sk-toggleable__label.fitted {\n",
              "  color: var(--sklearn-color-text);\n",
              "  background-color: var(--sklearn-color-fitted-level-2);\n",
              "}\n",
              "\n",
              "/* Estimator label */\n",
              "\n",
              "#sk-container-id-1 div.sk-label label {\n",
              "  font-family: monospace;\n",
              "  font-weight: bold;\n",
              "  display: inline-block;\n",
              "  line-height: 1.2em;\n",
              "}\n",
              "\n",
              "#sk-container-id-1 div.sk-label-container {\n",
              "  text-align: center;\n",
              "}\n",
              "\n",
              "/* Estimator-specific */\n",
              "#sk-container-id-1 div.sk-estimator {\n",
              "  font-family: monospace;\n",
              "  border: 1px dotted var(--sklearn-color-border-box);\n",
              "  border-radius: 0.25em;\n",
              "  box-sizing: border-box;\n",
              "  margin-bottom: 0.5em;\n",
              "  /* unfitted */\n",
              "  background-color: var(--sklearn-color-unfitted-level-0);\n",
              "}\n",
              "\n",
              "#sk-container-id-1 div.sk-estimator.fitted {\n",
              "  /* fitted */\n",
              "  background-color: var(--sklearn-color-fitted-level-0);\n",
              "}\n",
              "\n",
              "/* on hover */\n",
              "#sk-container-id-1 div.sk-estimator:hover {\n",
              "  /* unfitted */\n",
              "  background-color: var(--sklearn-color-unfitted-level-2);\n",
              "}\n",
              "\n",
              "#sk-container-id-1 div.sk-estimator.fitted:hover {\n",
              "  /* fitted */\n",
              "  background-color: var(--sklearn-color-fitted-level-2);\n",
              "}\n",
              "\n",
              "/* Specification for estimator info (e.g. \"i\" and \"?\") */\n",
              "\n",
              "/* Common style for \"i\" and \"?\" */\n",
              "\n",
              ".sk-estimator-doc-link,\n",
              "a:link.sk-estimator-doc-link,\n",
              "a:visited.sk-estimator-doc-link {\n",
              "  float: right;\n",
              "  font-size: smaller;\n",
              "  line-height: 1em;\n",
              "  font-family: monospace;\n",
              "  background-color: var(--sklearn-color-background);\n",
              "  border-radius: 1em;\n",
              "  height: 1em;\n",
              "  width: 1em;\n",
              "  text-decoration: none !important;\n",
              "  margin-left: 1ex;\n",
              "  /* unfitted */\n",
              "  border: var(--sklearn-color-unfitted-level-1) 1pt solid;\n",
              "  color: var(--sklearn-color-unfitted-level-1);\n",
              "}\n",
              "\n",
              ".sk-estimator-doc-link.fitted,\n",
              "a:link.sk-estimator-doc-link.fitted,\n",
              "a:visited.sk-estimator-doc-link.fitted {\n",
              "  /* fitted */\n",
              "  border: var(--sklearn-color-fitted-level-1) 1pt solid;\n",
              "  color: var(--sklearn-color-fitted-level-1);\n",
              "}\n",
              "\n",
              "/* On hover */\n",
              "div.sk-estimator:hover .sk-estimator-doc-link:hover,\n",
              ".sk-estimator-doc-link:hover,\n",
              "div.sk-label-container:hover .sk-estimator-doc-link:hover,\n",
              ".sk-estimator-doc-link:hover {\n",
              "  /* unfitted */\n",
              "  background-color: var(--sklearn-color-unfitted-level-3);\n",
              "  color: var(--sklearn-color-background);\n",
              "  text-decoration: none;\n",
              "}\n",
              "\n",
              "div.sk-estimator.fitted:hover .sk-estimator-doc-link.fitted:hover,\n",
              ".sk-estimator-doc-link.fitted:hover,\n",
              "div.sk-label-container:hover .sk-estimator-doc-link.fitted:hover,\n",
              ".sk-estimator-doc-link.fitted:hover {\n",
              "  /* fitted */\n",
              "  background-color: var(--sklearn-color-fitted-level-3);\n",
              "  color: var(--sklearn-color-background);\n",
              "  text-decoration: none;\n",
              "}\n",
              "\n",
              "/* Span, style for the box shown on hovering the info icon */\n",
              ".sk-estimator-doc-link span {\n",
              "  display: none;\n",
              "  z-index: 9999;\n",
              "  position: relative;\n",
              "  font-weight: normal;\n",
              "  right: .2ex;\n",
              "  padding: .5ex;\n",
              "  margin: .5ex;\n",
              "  width: min-content;\n",
              "  min-width: 20ex;\n",
              "  max-width: 50ex;\n",
              "  color: var(--sklearn-color-text);\n",
              "  box-shadow: 2pt 2pt 4pt #999;\n",
              "  /* unfitted */\n",
              "  background: var(--sklearn-color-unfitted-level-0);\n",
              "  border: .5pt solid var(--sklearn-color-unfitted-level-3);\n",
              "}\n",
              "\n",
              ".sk-estimator-doc-link.fitted span {\n",
              "  /* fitted */\n",
              "  background: var(--sklearn-color-fitted-level-0);\n",
              "  border: var(--sklearn-color-fitted-level-3);\n",
              "}\n",
              "\n",
              ".sk-estimator-doc-link:hover span {\n",
              "  display: block;\n",
              "}\n",
              "\n",
              "/* \"?\"-specific style due to the `<a>` HTML tag */\n",
              "\n",
              "#sk-container-id-1 a.estimator_doc_link {\n",
              "  float: right;\n",
              "  font-size: 1rem;\n",
              "  line-height: 1em;\n",
              "  font-family: monospace;\n",
              "  background-color: var(--sklearn-color-background);\n",
              "  border-radius: 1rem;\n",
              "  height: 1rem;\n",
              "  width: 1rem;\n",
              "  text-decoration: none;\n",
              "  /* unfitted */\n",
              "  color: var(--sklearn-color-unfitted-level-1);\n",
              "  border: var(--sklearn-color-unfitted-level-1) 1pt solid;\n",
              "}\n",
              "\n",
              "#sk-container-id-1 a.estimator_doc_link.fitted {\n",
              "  /* fitted */\n",
              "  border: var(--sklearn-color-fitted-level-1) 1pt solid;\n",
              "  color: var(--sklearn-color-fitted-level-1);\n",
              "}\n",
              "\n",
              "/* On hover */\n",
              "#sk-container-id-1 a.estimator_doc_link:hover {\n",
              "  /* unfitted */\n",
              "  background-color: var(--sklearn-color-unfitted-level-3);\n",
              "  color: var(--sklearn-color-background);\n",
              "  text-decoration: none;\n",
              "}\n",
              "\n",
              "#sk-container-id-1 a.estimator_doc_link.fitted:hover {\n",
              "  /* fitted */\n",
              "  background-color: var(--sklearn-color-fitted-level-3);\n",
              "}\n",
              "</style><div id=\"sk-container-id-1\" class=\"sk-top-container\"><div class=\"sk-text-repr-fallback\"><pre>TargetEncoder(cols=[&#x27;Make&#x27;])</pre><b>In a Jupyter environment, please rerun this cell to show the HTML representation or trust the notebook. <br />On GitHub, the HTML representation is unable to render, please try loading this page with nbviewer.org.</b></div><div class=\"sk-container\" hidden><div class=\"sk-item\"><div class=\"sk-estimator fitted sk-toggleable\"><input class=\"sk-toggleable__control sk-hidden--visually\" id=\"sk-estimator-id-1\" type=\"checkbox\" checked><label for=\"sk-estimator-id-1\" class=\"sk-toggleable__label fitted sk-toggleable__label-arrow fitted\">&nbsp;TargetEncoder<span class=\"sk-estimator-doc-link fitted\">i<span>Fitted</span></span></label><div class=\"sk-toggleable__content fitted\"><pre>TargetEncoder(cols=[&#x27;Make&#x27;])</pre></div> </div></div></div></div>"
            ],
            "text/plain": [
              "TargetEncoder(cols=['Make'])"
            ]
          },
          "execution_count": 124,
          "metadata": {},
          "output_type": "execute_result"
        }
      ],
      "source": [
        "make_encoder.fit(X_train['Make'], y_train.to_frame()['Price'])"
      ]
    },
    {
      "cell_type": "code",
      "execution_count": 125,
      "metadata": {},
      "outputs": [],
      "source": [
        "X_train['Make'] = make_encoder.transform(X_train['Make'])"
      ]
    },
    {
      "cell_type": "code",
      "execution_count": 126,
      "metadata": {},
      "outputs": [],
      "source": [
        "X_test['Make'] = make_encoder.transform(X_test['Make'])"
      ]
    },
    {
      "cell_type": "code",
      "execution_count": 127,
      "metadata": {},
      "outputs": [
        {
          "data": {
            "text/html": [
              "<div>\n",
              "<style scoped>\n",
              "    .dataframe tbody tr th:only-of-type {\n",
              "        vertical-align: middle;\n",
              "    }\n",
              "\n",
              "    .dataframe tbody tr th {\n",
              "        vertical-align: top;\n",
              "    }\n",
              "\n",
              "    .dataframe thead th {\n",
              "        text-align: right;\n",
              "    }\n",
              "</style>\n",
              "<table border=\"1\" class=\"dataframe\">\n",
              "  <thead>\n",
              "    <tr style=\"text-align: right;\">\n",
              "      <th></th>\n",
              "      <th>Make</th>\n",
              "      <th>Model</th>\n",
              "      <th>Age</th>\n",
              "      <th>Trim</th>\n",
              "      <th>Mileage</th>\n",
              "      <th>Transmission</th>\n",
              "      <th>Color</th>\n",
              "      <th>Engine_Size</th>\n",
              "      <th>Fuel_Type</th>\n",
              "      <th>Gas_Mileage</th>\n",
              "      <th>Drive_Type</th>\n",
              "      <th>Latitude</th>\n",
              "      <th>Longitude</th>\n",
              "    </tr>\n",
              "  </thead>\n",
              "  <tbody>\n",
              "    <tr>\n",
              "      <th>43598</th>\n",
              "      <td>45350.320675</td>\n",
              "      <td>300-Class</td>\n",
              "      <td>33</td>\n",
              "      <td>300 SE</td>\n",
              "      <td>72052.0</td>\n",
              "      <td>Automatic</td>\n",
              "      <td>Blue</td>\n",
              "      <td>6.0</td>\n",
              "      <td>Gas</td>\n",
              "      <td>16.0</td>\n",
              "      <td>RWD</td>\n",
              "      <td>0.697629</td>\n",
              "      <td>-1.503156</td>\n",
              "    </tr>\n",
              "  </tbody>\n",
              "</table>\n",
              "</div>"
            ],
            "text/plain": [
              "               Make      Model  Age    Trim  Mileage Transmission Color  \\\n",
              "43598  45350.320675  300-Class   33  300 SE  72052.0    Automatic  Blue   \n",
              "\n",
              "       Engine_Size Fuel_Type  Gas_Mileage Drive_Type  Latitude  Longitude  \n",
              "43598          6.0       Gas         16.0        RWD  0.697629  -1.503156  "
            ]
          },
          "execution_count": 127,
          "metadata": {},
          "output_type": "execute_result"
        }
      ],
      "source": [
        "X_train.sample()"
      ]
    },
    {
      "cell_type": "markdown",
      "metadata": {},
      "source": [
        "## Encode Model"
      ]
    },
    {
      "cell_type": "code",
      "execution_count": 128,
      "metadata": {},
      "outputs": [],
      "source": [
        "model_encoder = TargetEncoder(cols='Model')\n",
        "model_encoder.fit(X_train['Model'], y_train.to_frame()['Price'])\n",
        "X_train['Model'] = model_encoder.transform(X_train['Model'])\n",
        "X_test['Model'] = model_encoder.transform(X_test['Model'])"
      ]
    },
    {
      "cell_type": "code",
      "execution_count": 129,
      "metadata": {},
      "outputs": [
        {
          "data": {
            "text/html": [
              "<div>\n",
              "<style scoped>\n",
              "    .dataframe tbody tr th:only-of-type {\n",
              "        vertical-align: middle;\n",
              "    }\n",
              "\n",
              "    .dataframe tbody tr th {\n",
              "        vertical-align: top;\n",
              "    }\n",
              "\n",
              "    .dataframe thead th {\n",
              "        text-align: right;\n",
              "    }\n",
              "</style>\n",
              "<table border=\"1\" class=\"dataframe\">\n",
              "  <thead>\n",
              "    <tr style=\"text-align: right;\">\n",
              "      <th></th>\n",
              "      <th>Make</th>\n",
              "      <th>Model</th>\n",
              "      <th>Age</th>\n",
              "      <th>Trim</th>\n",
              "      <th>Mileage</th>\n",
              "      <th>Transmission</th>\n",
              "      <th>Color</th>\n",
              "      <th>Engine_Size</th>\n",
              "      <th>Fuel_Type</th>\n",
              "      <th>Gas_Mileage</th>\n",
              "      <th>Drive_Type</th>\n",
              "      <th>Latitude</th>\n",
              "      <th>Longitude</th>\n",
              "    </tr>\n",
              "  </thead>\n",
              "  <tbody>\n",
              "    <tr>\n",
              "      <th>34687</th>\n",
              "      <td>25271.111593</td>\n",
              "      <td>11335.658368</td>\n",
              "      <td>16</td>\n",
              "      <td>EX</td>\n",
              "      <td>81787.0</td>\n",
              "      <td>Automatic</td>\n",
              "      <td>Silver</td>\n",
              "      <td>4.0</td>\n",
              "      <td>Gas</td>\n",
              "      <td>27.0</td>\n",
              "      <td>FWD</td>\n",
              "      <td>0.723175</td>\n",
              "      <td>-1.443497</td>\n",
              "    </tr>\n",
              "  </tbody>\n",
              "</table>\n",
              "</div>"
            ],
            "text/plain": [
              "               Make         Model  Age Trim  Mileage Transmission   Color  \\\n",
              "34687  25271.111593  11335.658368   16   EX  81787.0    Automatic  Silver   \n",
              "\n",
              "       Engine_Size Fuel_Type  Gas_Mileage Drive_Type  Latitude  Longitude  \n",
              "34687          4.0       Gas         27.0        FWD  0.723175  -1.443497  "
            ]
          },
          "execution_count": 129,
          "metadata": {},
          "output_type": "execute_result"
        }
      ],
      "source": [
        "X_train.sample()"
      ]
    },
    {
      "cell_type": "markdown",
      "metadata": {},
      "source": [
        "## Encode Trim"
      ]
    },
    {
      "cell_type": "code",
      "execution_count": 130,
      "metadata": {},
      "outputs": [],
      "source": [
        "trim_encoder = TargetEncoder(cols='Trim')\n",
        "trim_encoder.fit(X_train['Trim'], y_train.to_frame()['Price'])\n",
        "X_train['Trim'] = trim_encoder.transform(X_train['Trim'])\n",
        "X_test['Trim'] = trim_encoder.transform(X_test['Trim'])"
      ]
    },
    {
      "cell_type": "code",
      "execution_count": 131,
      "metadata": {},
      "outputs": [
        {
          "data": {
            "text/html": [
              "<div>\n",
              "<style scoped>\n",
              "    .dataframe tbody tr th:only-of-type {\n",
              "        vertical-align: middle;\n",
              "    }\n",
              "\n",
              "    .dataframe tbody tr th {\n",
              "        vertical-align: top;\n",
              "    }\n",
              "\n",
              "    .dataframe thead th {\n",
              "        text-align: right;\n",
              "    }\n",
              "</style>\n",
              "<table border=\"1\" class=\"dataframe\">\n",
              "  <thead>\n",
              "    <tr style=\"text-align: right;\">\n",
              "      <th></th>\n",
              "      <th>Make</th>\n",
              "      <th>Model</th>\n",
              "      <th>Age</th>\n",
              "      <th>Trim</th>\n",
              "      <th>Mileage</th>\n",
              "      <th>Transmission</th>\n",
              "      <th>Color</th>\n",
              "      <th>Engine_Size</th>\n",
              "      <th>Fuel_Type</th>\n",
              "      <th>Gas_Mileage</th>\n",
              "      <th>Drive_Type</th>\n",
              "      <th>Latitude</th>\n",
              "      <th>Longitude</th>\n",
              "    </tr>\n",
              "  </thead>\n",
              "  <tbody>\n",
              "    <tr>\n",
              "      <th>58838</th>\n",
              "      <td>27129.020114</td>\n",
              "      <td>54208.062712</td>\n",
              "      <td>0</td>\n",
              "      <td>45904.49691</td>\n",
              "      <td>16.0</td>\n",
              "      <td>Automatic</td>\n",
              "      <td>Magnetic Gray Metallic</td>\n",
              "      <td>6.0</td>\n",
              "      <td>Hybrid</td>\n",
              "      <td>20.0</td>\n",
              "      <td>AWD</td>\n",
              "      <td>0.713552</td>\n",
              "      <td>-1.295286</td>\n",
              "    </tr>\n",
              "  </tbody>\n",
              "</table>\n",
              "</div>"
            ],
            "text/plain": [
              "               Make         Model  Age         Trim  Mileage Transmission  \\\n",
              "58838  27129.020114  54208.062712    0  45904.49691     16.0    Automatic   \n",
              "\n",
              "                        Color  Engine_Size Fuel_Type  Gas_Mileage Drive_Type  \\\n",
              "58838  Magnetic Gray Metallic          6.0    Hybrid         20.0        AWD   \n",
              "\n",
              "       Latitude  Longitude  \n",
              "58838  0.713552  -1.295286  "
            ]
          },
          "execution_count": 131,
          "metadata": {},
          "output_type": "execute_result"
        }
      ],
      "source": [
        "X_train.sample()"
      ]
    },
    {
      "cell_type": "markdown",
      "metadata": {},
      "source": [
        "## Encode Color"
      ]
    },
    {
      "cell_type": "code",
      "execution_count": 132,
      "metadata": {},
      "outputs": [],
      "source": [
        "color_encoder = TargetEncoder(cols='Color')\n",
        "color_encoder.fit(X_train['Color'], y_train.to_frame()['Price'])\n",
        "X_train['Color'] = color_encoder.transform(X_train['Color'])\n",
        "X_test['Color'] = color_encoder.transform(X_test['Color'])"
      ]
    },
    {
      "cell_type": "code",
      "execution_count": 133,
      "metadata": {},
      "outputs": [
        {
          "data": {
            "text/html": [
              "<div>\n",
              "<style scoped>\n",
              "    .dataframe tbody tr th:only-of-type {\n",
              "        vertical-align: middle;\n",
              "    }\n",
              "\n",
              "    .dataframe tbody tr th {\n",
              "        vertical-align: top;\n",
              "    }\n",
              "\n",
              "    .dataframe thead th {\n",
              "        text-align: right;\n",
              "    }\n",
              "</style>\n",
              "<table border=\"1\" class=\"dataframe\">\n",
              "  <thead>\n",
              "    <tr style=\"text-align: right;\">\n",
              "      <th></th>\n",
              "      <th>Make</th>\n",
              "      <th>Model</th>\n",
              "      <th>Age</th>\n",
              "      <th>Trim</th>\n",
              "      <th>Mileage</th>\n",
              "      <th>Transmission</th>\n",
              "      <th>Color</th>\n",
              "      <th>Engine_Size</th>\n",
              "      <th>Fuel_Type</th>\n",
              "      <th>Gas_Mileage</th>\n",
              "      <th>Drive_Type</th>\n",
              "      <th>Latitude</th>\n",
              "      <th>Longitude</th>\n",
              "    </tr>\n",
              "  </thead>\n",
              "  <tbody>\n",
              "    <tr>\n",
              "      <th>5378</th>\n",
              "      <td>52518.833449</td>\n",
              "      <td>91270.412376</td>\n",
              "      <td>-1</td>\n",
              "      <td>90754.991911</td>\n",
              "      <td>7.0</td>\n",
              "      <td>Automatic</td>\n",
              "      <td>60675.194927</td>\n",
              "      <td>0.0</td>\n",
              "      <td>Electric</td>\n",
              "      <td>83.0</td>\n",
              "      <td>AWD</td>\n",
              "      <td>0.702352</td>\n",
              "      <td>-1.303695</td>\n",
              "    </tr>\n",
              "  </tbody>\n",
              "</table>\n",
              "</div>"
            ],
            "text/plain": [
              "              Make         Model  Age          Trim  Mileage Transmission  \\\n",
              "5378  52518.833449  91270.412376   -1  90754.991911      7.0    Automatic   \n",
              "\n",
              "             Color  Engine_Size Fuel_Type  Gas_Mileage Drive_Type  Latitude  \\\n",
              "5378  60675.194927          0.0  Electric         83.0        AWD  0.702352   \n",
              "\n",
              "      Longitude  \n",
              "5378  -1.303695  "
            ]
          },
          "execution_count": 133,
          "metadata": {},
          "output_type": "execute_result"
        }
      ],
      "source": [
        "X_train.sample()"
      ]
    },
    {
      "cell_type": "markdown",
      "metadata": {},
      "source": [
        "## One Hot Encoding"
      ]
    },
    {
      "cell_type": "code",
      "execution_count": 134,
      "metadata": {},
      "outputs": [
        {
          "data": {
            "text/html": [
              "<div>\n",
              "<style scoped>\n",
              "    .dataframe tbody tr th:only-of-type {\n",
              "        vertical-align: middle;\n",
              "    }\n",
              "\n",
              "    .dataframe tbody tr th {\n",
              "        vertical-align: top;\n",
              "    }\n",
              "\n",
              "    .dataframe thead th {\n",
              "        text-align: right;\n",
              "    }\n",
              "</style>\n",
              "<table border=\"1\" class=\"dataframe\">\n",
              "  <thead>\n",
              "    <tr style=\"text-align: right;\">\n",
              "      <th></th>\n",
              "      <th>Make</th>\n",
              "      <th>Model</th>\n",
              "      <th>Age</th>\n",
              "      <th>Trim</th>\n",
              "      <th>Mileage</th>\n",
              "      <th>Transmission</th>\n",
              "      <th>Color</th>\n",
              "      <th>Engine_Size</th>\n",
              "      <th>Fuel_Type</th>\n",
              "      <th>Gas_Mileage</th>\n",
              "      <th>Drive_Type</th>\n",
              "      <th>Latitude</th>\n",
              "      <th>Longitude</th>\n",
              "    </tr>\n",
              "  </thead>\n",
              "  <tbody>\n",
              "    <tr>\n",
              "      <th>28072</th>\n",
              "      <td>22983.941449</td>\n",
              "      <td>44927.170695</td>\n",
              "      <td>2</td>\n",
              "      <td>26755.050808</td>\n",
              "      <td>53134.0</td>\n",
              "      <td>Automatic</td>\n",
              "      <td>31483.382859</td>\n",
              "      <td>4.0</td>\n",
              "      <td>Plug-in Hybrid</td>\n",
              "      <td>80.0</td>\n",
              "      <td>AWD</td>\n",
              "      <td>0.715564</td>\n",
              "      <td>-1.29898</td>\n",
              "    </tr>\n",
              "  </tbody>\n",
              "</table>\n",
              "</div>"
            ],
            "text/plain": [
              "               Make         Model  Age          Trim  Mileage Transmission  \\\n",
              "28072  22983.941449  44927.170695    2  26755.050808  53134.0    Automatic   \n",
              "\n",
              "              Color  Engine_Size       Fuel_Type  Gas_Mileage Drive_Type  \\\n",
              "28072  31483.382859          4.0  Plug-in Hybrid         80.0        AWD   \n",
              "\n",
              "       Latitude  Longitude  \n",
              "28072  0.715564   -1.29898  "
            ]
          },
          "execution_count": 134,
          "metadata": {},
          "output_type": "execute_result"
        }
      ],
      "source": [
        "X_train.sample()"
      ]
    },
    {
      "cell_type": "code",
      "execution_count": 135,
      "metadata": {},
      "outputs": [],
      "source": [
        "encoder = OneHotEncoder()\n",
        "encoder.fit(X_train[['Transmission', 'Fuel_Type', 'Drive_Type']])\n",
        "one_hot_encoded_output_train = encoder.transform(X_train[['Transmission', 'Fuel_Type', 'Drive_Type']])\n",
        "one_hot_encoded_output_test = encoder.transform(X_test[['Transmission', 'Fuel_Type', 'Drive_Type']])"
      ]
    },
    {
      "cell_type": "code",
      "execution_count": 136,
      "metadata": {},
      "outputs": [],
      "source": [
        "X_train = pd.concat([X_train, one_hot_encoded_output_train], axis=1)\n",
        "X_test = pd.concat([X_test, one_hot_encoded_output_test], axis=1)"
      ]
    },
    {
      "cell_type": "code",
      "execution_count": 137,
      "metadata": {},
      "outputs": [],
      "source": [
        "X_train = X_train.drop(['Transmission', 'Fuel_Type', 'Drive_Type'],axis=1)\n",
        "X_test = X_test.drop(['Transmission', 'Fuel_Type', 'Drive_Type'],axis=1)"
      ]
    },
    {
      "cell_type": "code",
      "execution_count": 138,
      "metadata": {},
      "outputs": [
        {
          "data": {
            "text/html": [
              "<div>\n",
              "<style scoped>\n",
              "    .dataframe tbody tr th:only-of-type {\n",
              "        vertical-align: middle;\n",
              "    }\n",
              "\n",
              "    .dataframe tbody tr th {\n",
              "        vertical-align: top;\n",
              "    }\n",
              "\n",
              "    .dataframe thead th {\n",
              "        text-align: right;\n",
              "    }\n",
              "</style>\n",
              "<table border=\"1\" class=\"dataframe\">\n",
              "  <thead>\n",
              "    <tr style=\"text-align: right;\">\n",
              "      <th></th>\n",
              "      <th>Make</th>\n",
              "      <th>Model</th>\n",
              "      <th>Age</th>\n",
              "      <th>Trim</th>\n",
              "      <th>Mileage</th>\n",
              "      <th>Color</th>\n",
              "      <th>Engine_Size</th>\n",
              "      <th>Gas_Mileage</th>\n",
              "      <th>Latitude</th>\n",
              "      <th>Longitude</th>\n",
              "      <th>...</th>\n",
              "      <th>Transmission_3</th>\n",
              "      <th>Fuel_Type_1</th>\n",
              "      <th>Fuel_Type_2</th>\n",
              "      <th>Fuel_Type_3</th>\n",
              "      <th>Fuel_Type_4</th>\n",
              "      <th>Fuel_Type_5</th>\n",
              "      <th>Fuel_Type_6</th>\n",
              "      <th>Drive_Type_1</th>\n",
              "      <th>Drive_Type_2</th>\n",
              "      <th>Drive_Type_3</th>\n",
              "    </tr>\n",
              "  </thead>\n",
              "  <tbody>\n",
              "    <tr>\n",
              "      <th>42029</th>\n",
              "      <td>20055.201946</td>\n",
              "      <td>35400.536716</td>\n",
              "      <td>0</td>\n",
              "      <td>35747.953626</td>\n",
              "      <td>8804.0</td>\n",
              "      <td>35768.256166</td>\n",
              "      <td>4.0</td>\n",
              "      <td>25.0</td>\n",
              "      <td>0.695521</td>\n",
              "      <td>-1.308379</td>\n",
              "      <td>...</td>\n",
              "      <td>0</td>\n",
              "      <td>1</td>\n",
              "      <td>0</td>\n",
              "      <td>0</td>\n",
              "      <td>0</td>\n",
              "      <td>0</td>\n",
              "      <td>0</td>\n",
              "      <td>0</td>\n",
              "      <td>1</td>\n",
              "      <td>0</td>\n",
              "    </tr>\n",
              "  </tbody>\n",
              "</table>\n",
              "<p>1 rows × 22 columns</p>\n",
              "</div>"
            ],
            "text/plain": [
              "               Make         Model  Age          Trim  Mileage         Color  \\\n",
              "42029  20055.201946  35400.536716    0  35747.953626   8804.0  35768.256166   \n",
              "\n",
              "       Engine_Size  Gas_Mileage  Latitude  Longitude  ...  Transmission_3  \\\n",
              "42029          4.0         25.0  0.695521  -1.308379  ...               0   \n",
              "\n",
              "       Fuel_Type_1  Fuel_Type_2  Fuel_Type_3  Fuel_Type_4  Fuel_Type_5  \\\n",
              "42029            1            0            0            0            0   \n",
              "\n",
              "       Fuel_Type_6  Drive_Type_1  Drive_Type_2  Drive_Type_3  \n",
              "42029            0             0             1             0  \n",
              "\n",
              "[1 rows x 22 columns]"
            ]
          },
          "execution_count": 138,
          "metadata": {},
          "output_type": "execute_result"
        }
      ],
      "source": [
        "X_train.sample()"
      ]
    },
    {
      "cell_type": "code",
      "execution_count": 139,
      "metadata": {},
      "outputs": [
        {
          "name": "stdout",
          "output_type": "stream",
          "text": [
            "<class 'pandas.core.frame.DataFrame'>\n",
            "Index: 36682 entries, 60695 to 62221\n",
            "Data columns (total 22 columns):\n",
            " #   Column          Non-Null Count  Dtype  \n",
            "---  ------          --------------  -----  \n",
            " 0   Make            36682 non-null  float64\n",
            " 1   Model           36682 non-null  float64\n",
            " 2   Age             36682 non-null  int64  \n",
            " 3   Trim            36682 non-null  float64\n",
            " 4   Mileage         36682 non-null  float64\n",
            " 5   Color           36682 non-null  float64\n",
            " 6   Engine_Size     36682 non-null  float64\n",
            " 7   Gas_Mileage     36682 non-null  float64\n",
            " 8   Latitude        36682 non-null  float64\n",
            " 9   Longitude       36682 non-null  float64\n",
            " 10  Transmission_1  36682 non-null  int64  \n",
            " 11  Transmission_2  36682 non-null  int64  \n",
            " 12  Transmission_3  36682 non-null  int64  \n",
            " 13  Fuel_Type_1     36682 non-null  int64  \n",
            " 14  Fuel_Type_2     36682 non-null  int64  \n",
            " 15  Fuel_Type_3     36682 non-null  int64  \n",
            " 16  Fuel_Type_4     36682 non-null  int64  \n",
            " 17  Fuel_Type_5     36682 non-null  int64  \n",
            " 18  Fuel_Type_6     36682 non-null  int64  \n",
            " 19  Drive_Type_1    36682 non-null  int64  \n",
            " 20  Drive_Type_2    36682 non-null  int64  \n",
            " 21  Drive_Type_3    36682 non-null  int64  \n",
            "dtypes: float64(9), int64(13)\n",
            "memory usage: 6.4 MB\n"
          ]
        }
      ],
      "source": [
        "X_train.info()"
      ]
    },
    {
      "cell_type": "markdown",
      "metadata": {},
      "source": [
        "## Standardization/Normalization"
      ]
    },
    {
      "cell_type": "code",
      "execution_count": 140,
      "metadata": {},
      "outputs": [
        {
          "data": {
            "text/html": [
              "<div>\n",
              "<style scoped>\n",
              "    .dataframe tbody tr th:only-of-type {\n",
              "        vertical-align: middle;\n",
              "    }\n",
              "\n",
              "    .dataframe tbody tr th {\n",
              "        vertical-align: top;\n",
              "    }\n",
              "\n",
              "    .dataframe thead th {\n",
              "        text-align: right;\n",
              "    }\n",
              "</style>\n",
              "<table border=\"1\" class=\"dataframe\">\n",
              "  <thead>\n",
              "    <tr style=\"text-align: right;\">\n",
              "      <th></th>\n",
              "      <th>Make</th>\n",
              "      <th>Model</th>\n",
              "      <th>Age</th>\n",
              "      <th>Trim</th>\n",
              "      <th>Mileage</th>\n",
              "      <th>Color</th>\n",
              "      <th>Engine_Size</th>\n",
              "      <th>Gas_Mileage</th>\n",
              "      <th>Latitude</th>\n",
              "      <th>Longitude</th>\n",
              "      <th>...</th>\n",
              "      <th>Transmission_3</th>\n",
              "      <th>Fuel_Type_1</th>\n",
              "      <th>Fuel_Type_2</th>\n",
              "      <th>Fuel_Type_3</th>\n",
              "      <th>Fuel_Type_4</th>\n",
              "      <th>Fuel_Type_5</th>\n",
              "      <th>Fuel_Type_6</th>\n",
              "      <th>Drive_Type_1</th>\n",
              "      <th>Drive_Type_2</th>\n",
              "      <th>Drive_Type_3</th>\n",
              "    </tr>\n",
              "  </thead>\n",
              "  <tbody>\n",
              "    <tr>\n",
              "      <th>60025</th>\n",
              "      <td>20626.70388</td>\n",
              "      <td>12699.655081</td>\n",
              "      <td>3</td>\n",
              "      <td>32916.897404</td>\n",
              "      <td>53890.0</td>\n",
              "      <td>31931.881683</td>\n",
              "      <td>4.0</td>\n",
              "      <td>32.0</td>\n",
              "      <td>0.698282</td>\n",
              "      <td>-1.305325</td>\n",
              "      <td>...</td>\n",
              "      <td>0</td>\n",
              "      <td>1</td>\n",
              "      <td>0</td>\n",
              "      <td>0</td>\n",
              "      <td>0</td>\n",
              "      <td>0</td>\n",
              "      <td>0</td>\n",
              "      <td>1</td>\n",
              "      <td>0</td>\n",
              "      <td>0</td>\n",
              "    </tr>\n",
              "  </tbody>\n",
              "</table>\n",
              "<p>1 rows × 22 columns</p>\n",
              "</div>"
            ],
            "text/plain": [
              "              Make         Model  Age          Trim  Mileage         Color  \\\n",
              "60025  20626.70388  12699.655081    3  32916.897404  53890.0  31931.881683   \n",
              "\n",
              "       Engine_Size  Gas_Mileage  Latitude  Longitude  ...  Transmission_3  \\\n",
              "60025          4.0         32.0  0.698282  -1.305325  ...               0   \n",
              "\n",
              "       Fuel_Type_1  Fuel_Type_2  Fuel_Type_3  Fuel_Type_4  Fuel_Type_5  \\\n",
              "60025            1            0            0            0            0   \n",
              "\n",
              "       Fuel_Type_6  Drive_Type_1  Drive_Type_2  Drive_Type_3  \n",
              "60025            0             1             0             0  \n",
              "\n",
              "[1 rows x 22 columns]"
            ]
          },
          "execution_count": 140,
          "metadata": {},
          "output_type": "execute_result"
        }
      ],
      "source": [
        "X_train.sample()"
      ]
    },
    {
      "cell_type": "code",
      "execution_count": 141,
      "metadata": {},
      "outputs": [],
      "source": [
        "cols_to_scale = ['Age', 'Mileage', 'Engine_Size', 'Gas_Mileage', 'Latitude', 'Longitude']"
      ]
    },
    {
      "cell_type": "code",
      "execution_count": 142,
      "metadata": {},
      "outputs": [],
      "source": [
        "# scaler = StandardScaler()\n",
        "# X_train[cols_to_scale] = scaler.fit_transform(X_train[cols_to_scale])\n",
        "# X_test[cols_to_scale] = scaler.fit_transform(X_test[cols_to_scale])"
      ]
    },
    {
      "cell_type": "code",
      "execution_count": 143,
      "metadata": {},
      "outputs": [
        {
          "data": {
            "text/plain": [
              "(36682, 22)"
            ]
          },
          "execution_count": 143,
          "metadata": {},
          "output_type": "execute_result"
        }
      ],
      "source": [
        "X_train.shape"
      ]
    },
    {
      "cell_type": "markdown",
      "metadata": {},
      "source": [
        "# 4) Machine Learning Analysis"
      ]
    },
    {
      "cell_type": "code",
      "execution_count": 161,
      "metadata": {},
      "outputs": [],
      "source": [
        "mse = []\n",
        "mae = []"
      ]
    },
    {
      "cell_type": "markdown",
      "metadata": {},
      "source": [
        "## K-Neighbors Regressor"
      ]
    },
    {
      "cell_type": "code",
      "execution_count": 162,
      "metadata": {},
      "outputs": [],
      "source": [
        "knn = KNeighborsRegressor(n_neighbors=2)\n",
        "knn.fit(X_train, y_train)\n",
        "y_pred = knn.predict(X_test)\n",
        "y_pred = pd.DataFrame(y_pred, columns=['Predicted Price'])\n",
        "results = pd.concat([y_pred, y_test.to_frame().reset_index(drop=True)], axis=1, ignore_index=False)\n",
        "mse.append(int(mean_squared_error(y_pred, y_test)))\n",
        "mae.append(int(mean_absolute_error(y_pred, y_test)))"
      ]
    },
    {
      "cell_type": "code",
      "execution_count": 163,
      "metadata": {},
      "outputs": [
        {
          "data": {
            "image/png": "[encoded data removed]",
            "text/plain": [
              "<Figure size 1000x1000 with 1 Axes>"
            ]
          },
          "metadata": {},
          "output_type": "display_data"
        }
      ],
      "source": [
        "plt.figure(figsize=(10,10))\n",
        "sns.regplot(data=results, y='Predicted Price', x='Price', color='darkslateblue', marker='o')\n",
        "plt.title('Predicted Prices vs Actual Prices')\n",
        "plt.show()"
      ]
    },
    {
      "cell_type": "markdown",
      "metadata": {},
      "source": [
        "## PLS Regression"
      ]
    },
    {
      "cell_type": "code",
      "execution_count": 164,
      "metadata": {},
      "outputs": [],
      "source": [
        "pls = PLSRegression(n_components=10)\n",
        "pls.fit(X_train, y_train)\n",
        "y_pred = pls.predict(X_test)\n",
        "y_pred = pd.DataFrame(y_pred, columns=['Predicted Price'])\n",
        "results = pd.concat([y_pred, y_test.to_frame().reset_index(drop=True)], axis=1, ignore_index=False)\n",
        "mse.append(int(mean_squared_error(y_pred, y_test)))\n",
        "mae.append(int(mean_absolute_error(y_pred, y_test)))"
      ]
    },
    {
      "cell_type": "code",
      "execution_count": 165,
      "metadata": {},
      "outputs": [
        {
          "data": {
            "image/png": "[encoded data removed]",
            "text/plain": [
              "<Figure size 1000x1000 with 1 Axes>"
            ]
          },
          "metadata": {},
          "output_type": "display_data"
        }
      ],
      "source": [
        "plt.figure(figsize=(10,10))\n",
        "sns.regplot(data=results, y='Predicted Price', x='Price', color='firebrick', marker='o')\n",
        "plt.title('Predicted Prices vs Actual Prices')\n",
        "plt.show()"
      ]
    },
    {
      "cell_type": "markdown",
      "metadata": {},
      "source": [
        "## Decision Tree Regressor"
      ]
    },
    {
      "cell_type": "code",
      "execution_count": 166,
      "metadata": {},
      "outputs": [],
      "source": [
        "dt = DecisionTreeRegressor(splitter='random')\n",
        "dt.fit(X_train, y_train)\n",
        "y_pred = dt.predict(X_test)\n",
        "y_pred = pd.DataFrame(y_pred, columns=['Predicted Price'])\n",
        "results = pd.concat([y_pred, y_test.to_frame().reset_index(drop=True)], axis=1, ignore_index=False)\n",
        "mse.append(int(mean_squared_error(y_pred, y_test)))\n",
        "mae.append(int(mean_absolute_error(y_pred, y_test)))"
      ]
    },
    {
      "cell_type": "code",
      "execution_count": 167,
      "metadata": {},
      "outputs": [
        {
          "data": {
            "image/png": "[encoded data removed]",
            "text/plain": [
              "<Figure size 1000x1000 with 1 Axes>"
            ]
          },
          "metadata": {},
          "output_type": "display_data"
        }
      ],
      "source": [
        "plt.figure(figsize=(10,10))\n",
        "sns.regplot(data=results, y='Predicted Price', x='Price', color='coral', marker='o')\n",
        "plt.title('Predicted Prices vs Actual Prices')\n",
        "plt.show()"
      ]
    },
    {
      "cell_type": "markdown",
      "metadata": {},
      "source": [
        "## Random Forest Regressor"
      ]
    },
    {
      "cell_type": "code",
      "execution_count": 168,
      "metadata": {},
      "outputs": [],
      "source": [
        "rf = RandomForestRegressor()\n",
        "rf.fit(X_train, y_train)\n",
        "y_pred = rf.predict(X_test)\n",
        "y_pred = pd.DataFrame(y_pred, columns=['Predicted Price'])\n",
        "results = pd.concat([y_pred, y_test.to_frame().reset_index(drop=True)], axis=1, ignore_index=False)\n",
        "mse.append(int(mean_squared_error(y_pred, y_test)))\n",
        "mae.append(int(mean_absolute_error(y_pred, y_test)))"
      ]
    },
    {
      "cell_type": "code",
      "execution_count": 169,
      "metadata": {},
      "outputs": [
        {
          "data": {
            "image/png": "[encoded data removed]",
            "text/plain": [
              "<Figure size 1000x1000 with 1 Axes>"
            ]
          },
          "metadata": {},
          "output_type": "display_data"
        }
      ],
      "source": [
        "plt.figure(figsize=(10,10))\n",
        "sns.regplot(data=results, y='Predicted Price', x='Price', color='coral', marker='o')\n",
        "plt.title('Predicted Prices vs Actual Prices')\n",
        "plt.show()"
      ]
    },
    {
      "cell_type": "markdown",
      "metadata": {},
      "source": [
        "## Gradient Boosting Regressor"
      ]
    },
    {
      "cell_type": "code",
      "execution_count": 170,
      "metadata": {},
      "outputs": [],
      "source": [
        "gb = GradientBoostingRegressor()\n",
        "gb.fit(X_train, y_train)\n",
        "y_pred = gb.predict(X_test)\n",
        "y_pred = pd.DataFrame(y_pred, columns=['Predicted Price'])\n",
        "results = pd.concat([y_pred, y_test.to_frame().reset_index(drop=True)], axis=1, ignore_index=False)\n",
        "mse.append(int(mean_squared_error(y_pred, y_test)))\n",
        "mae.append(int(mean_absolute_error(y_pred, y_test)))"
      ]
    },
    {
      "cell_type": "code",
      "execution_count": 171,
      "metadata": {},
      "outputs": [
        {
          "data": {
            "image/png": "[encoded data removed]",
            "text/plain": [
              "<Figure size 1000x1000 with 1 Axes>"
            ]
          },
          "metadata": {},
          "output_type": "display_data"
        }
      ],
      "source": [
        "plt.figure(figsize=(10,10))\n",
        "sns.regplot(data=results, y='Predicted Price', x='Price', color='darkmagenta', marker='o')\n",
        "plt.title('Predicted Prices vs Actual Prices')\n",
        "plt.show()"
      ]
    },
    {
      "cell_type": "markdown",
      "metadata": {},
      "source": [
        "## MLP Regressor"
      ]
    },
    {
      "cell_type": "code",
      "execution_count": 172,
      "metadata": {},
      "outputs": [],
      "source": [
        "mlp = MLPRegressor(hidden_layer_sizes=50, alpha=0.001, solver='lbfgs', learning_rate='adaptive')\n",
        "mlp.fit(X_train, y_train)\n",
        "y_pred = mlp.predict(X_test)\n",
        "y_pred = pd.DataFrame(y_pred, columns=['Predicted Price'])\n",
        "results = pd.concat([y_pred, y_test.to_frame().reset_index(drop=True)], axis=1, ignore_index=False)\n",
        "mse.append(int(mean_squared_error(y_pred, y_test)))\n",
        "mae.append(int(mean_absolute_error(y_pred, y_test)))"
      ]
    },
    {
      "cell_type": "code",
      "execution_count": 173,
      "metadata": {},
      "outputs": [
        {
          "data": {
            "image/png": "[encoded data removed]",
            "text/plain": [
              "<Figure size 1000x1000 with 1 Axes>"
            ]
          },
          "metadata": {},
          "output_type": "display_data"
        }
      ],
      "source": [
        "plt.figure(figsize=(10,10))\n",
        "sns.regplot(data=results, y='Predicted Price', x='Price', color='steelblue', marker='o')\n",
        "plt.title('Predicted Prices vs Actual Prices')\n",
        "plt.show()"
      ]
    },
    {
      "cell_type": "markdown",
      "metadata": {},
      "source": [
        "## Dataframe of Machine Learning Models"
      ]
    },
    {
      "cell_type": "code",
      "execution_count": 174,
      "metadata": {},
      "outputs": [],
      "source": [
        "models = {'Models': ['K Nearest Regressor', 'PLS Regression', 'Decision Tree Regressor', 'Random Forest Regressor', 'Gradient Boosting Regressor', 'MLP Regressor'], 'Mean Absolute Error': mae, 'Mean Squared Error': mse}\n",
        "model_dataframe = pd.DataFrame(models)"
      ]
    },
    {
      "cell_type": "code",
      "execution_count": 175,
      "metadata": {},
      "outputs": [
        {
          "data": {
            "text/html": [
              "<div>\n",
              "<style scoped>\n",
              "    .dataframe tbody tr th:only-of-type {\n",
              "        vertical-align: middle;\n",
              "    }\n",
              "\n",
              "    .dataframe tbody tr th {\n",
              "        vertical-align: top;\n",
              "    }\n",
              "\n",
              "    .dataframe thead th {\n",
              "        text-align: right;\n",
              "    }\n",
              "</style>\n",
              "<table border=\"1\" class=\"dataframe\">\n",
              "  <thead>\n",
              "    <tr style=\"text-align: right;\">\n",
              "      <th></th>\n",
              "      <th>Models</th>\n",
              "      <th>Mean Absolute Error</th>\n",
              "      <th>Mean Squared Error</th>\n",
              "    </tr>\n",
              "  </thead>\n",
              "  <tbody>\n",
              "    <tr>\n",
              "      <th>0</th>\n",
              "      <td>K Nearest Regressor</td>\n",
              "      <td>6123</td>\n",
              "      <td>235971966</td>\n",
              "    </tr>\n",
              "    <tr>\n",
              "      <th>1</th>\n",
              "      <td>PLS Regression</td>\n",
              "      <td>10964</td>\n",
              "      <td>608383110</td>\n",
              "    </tr>\n",
              "    <tr>\n",
              "      <th>2</th>\n",
              "      <td>Decision Tree Regressor</td>\n",
              "      <td>5020</td>\n",
              "      <td>218839914</td>\n",
              "    </tr>\n",
              "    <tr>\n",
              "      <th>3</th>\n",
              "      <td>Random Forest Regressor</td>\n",
              "      <td>3826</td>\n",
              "      <td>147821428</td>\n",
              "    </tr>\n",
              "    <tr>\n",
              "      <th>4</th>\n",
              "      <td>Gradient Boosting Regressor</td>\n",
              "      <td>6325</td>\n",
              "      <td>229193981</td>\n",
              "    </tr>\n",
              "    <tr>\n",
              "      <th>5</th>\n",
              "      <td>MLP Regressor</td>\n",
              "      <td>8162</td>\n",
              "      <td>357005338</td>\n",
              "    </tr>\n",
              "  </tbody>\n",
              "</table>\n",
              "</div>"
            ],
            "text/plain": [
              "                        Models  Mean Absolute Error  Mean Squared Error\n",
              "0          K Nearest Regressor                 6123           235971966\n",
              "1               PLS Regression                10964           608383110\n",
              "2      Decision Tree Regressor                 5020           218839914\n",
              "3      Random Forest Regressor                 3826           147821428\n",
              "4  Gradient Boosting Regressor                 6325           229193981\n",
              "5                MLP Regressor                 8162           357005338"
            ]
          },
          "execution_count": 175,
          "metadata": {},
          "output_type": "execute_result"
        }
      ],
      "source": [
        "model_dataframe"
      ]
    },
    {
      "cell_type": "markdown",
      "metadata": {},
      "source": [
        "## Barplot of Machine Learning Models"
      ]
    },
    {
      "cell_type": "code",
      "execution_count": 176,
      "metadata": {},
      "outputs": [
        {
          "data": {
            "image/png": "[encoded data removed]",
            "text/plain": [
              "<Figure size 2000x1000 with 1 Axes>"
            ]
          },
          "metadata": {},
          "output_type": "display_data"
        }
      ],
      "source": [
        "plt.figure(figsize=(20,10))\n",
        "splot = sns.barplot(data=model_dataframe, x='Models', y='Mean Absolute Error', palette='Paired')\n",
        "for p in splot.patches:\n",
        "    splot.annotate(format(p.get_height(), '.0f'), \n",
        "                   (p.get_x() + p.get_width() / 2., p.get_height()), \n",
        "                   ha = 'center', va = 'center', \n",
        "                   xytext = (0, 9), \n",
        "                   textcoords = 'offset points')\n",
        "plt.xticks(fontsize = 13)\n",
        "plt.yticks(fontsize = 13)\n",
        "plt.title(\"Barplot of Regression Models with MAE\", fontsize = 20)\n",
        "plt.show()"
      ]
    },
    {
      "cell_type": "code",
      "execution_count": 177,
      "metadata": {},
      "outputs": [
        {
          "data": {
            "image/png": "[encoded data removed]",
            "text/plain": [
              "<Figure size 2000x1000 with 1 Axes>"
            ]
          },
          "metadata": {},
          "output_type": "display_data"
        }
      ],
      "source": [
        "plt.figure(figsize=(20,10))\n",
        "splot = sns.barplot(data=model_dataframe, x='Models', y='Mean Squared Error', palette='Paired')\n",
        "for p in splot.patches:\n",
        "    splot.annotate(format(p.get_height(), '.0f'), \n",
        "                   (p.get_x() + p.get_width() / 2., p.get_height()), \n",
        "                   ha = 'center', va = 'center', \n",
        "                   xytext = (0, 9), \n",
        "                   textcoords = 'offset points')\n",
        "plt.xticks(fontsize = 13)\n",
        "plt.yticks(fontsize = 13)\n",
        "plt.title(\"Barplot of Regression Models with MSE\", fontsize = 20)\n",
        "plt.show()"
      ]
    },
    {
      "cell_type": "markdown",
      "metadata": {},
      "source": [
        "# 4b) Data Manipulation + Machine Learning w/k-Fold"
      ]
    },
    {
      "cell_type": "markdown",
      "metadata": {},
      "source": [
        "## Data Manipulation"
      ]
    },
    {
      "cell_type": "code",
      "execution_count": 92,
      "metadata": {},
      "outputs": [],
      "source": [
        "frame = data.copy()"
      ]
    },
    {
      "cell_type": "code",
      "execution_count": 93,
      "metadata": {},
      "outputs": [],
      "source": [
        "shuffled_data = shuffle(frame, random_state=1)\n",
        "X = shuffled_data.drop('Price', axis=1)\n",
        "y = shuffled_data['Price']"
      ]
    },
    {
      "cell_type": "code",
      "execution_count": 94,
      "metadata": {},
      "outputs": [],
      "source": [
        "kf = KFold(n_splits=5, shuffle=True,random_state=1)"
      ]
    },
    {
      "cell_type": "code",
      "execution_count": 95,
      "metadata": {},
      "outputs": [],
      "source": [
        "target_encoder = TargetEncoder()\n",
        "one_hot_encoder = OneHotEncoder()"
      ]
    },
    {
      "cell_type": "code",
      "execution_count": 96,
      "metadata": {},
      "outputs": [],
      "source": [
        "target_encoding_features = ['Make', 'Model', 'Trim', 'Color']\n",
        "one_hot_encoding_features = ['Transmission', 'Fuel_Type', 'Drive_Type']"
      ]
    },
    {
      "cell_type": "markdown",
      "metadata": {},
      "source": [
        "## Machine Learning"
      ]
    },
    {
      "cell_type": "code",
      "execution_count": 97,
      "metadata": {},
      "outputs": [],
      "source": [
        "mse = []\n",
        "mae = []"
      ]
    },
    {
      "cell_type": "code",
      "execution_count": 98,
      "metadata": {},
      "outputs": [],
      "source": [
        "def train_evaluate(model,X_train,y_train,X_test,mse,mae):\n",
        "    model.fit(X_train, y_train)\n",
        "    y_pred = model.predict(X_test)\n",
        "    mse.append(int(mean_squared_error(y_pred, y_test)))\n",
        "    mae.append(int(mean_absolute_error(y_pred, y_test)))"
      ]
    },
    {
      "cell_type": "code",
      "execution_count": 99,
      "metadata": {},
      "outputs": [],
      "source": [
        "model_dict = {\n",
        "    'knn' : KNeighborsRegressor(),\n",
        "    'pls' : PLSRegression(),\n",
        "    'dt' : DecisionTreeRegressor(),\n",
        "    'rf' : RandomForestRegressor(),\n",
        "    'gb' : GradientBoostingRegressor(),\n",
        "    'mlp' : MLPRegressor(hidden_layer_sizes=50, alpha=0.001, solver='lbfgs', learning_rate='adaptive')\n",
        "}"
      ]
    },
    {
      "cell_type": "code",
      "execution_count": 100,
      "metadata": {},
      "outputs": [],
      "source": [
        "results = {model_name: {'mae': [], 'mse': []} for model_name in model_dict.keys()}"
      ]
    },
    {
      "cell_type": "code",
      "execution_count": 109,
      "metadata": {},
      "outputs": [],
      "source": [
        "for train_index, test_index in kf.split(X):\n",
        "    X_train, X_test = X.iloc[train_index], X.iloc[test_index]\n",
        "    y_train, y_test = y.iloc[train_index], y.iloc[test_index]\n",
        "\n",
        "    X_train[target_encoding_features] = target_encoder.fit_transform(X_train[target_encoding_features], y_train)\n",
        "    X_test[target_encoding_features] = target_encoder.transform(X_test[target_encoding_features])\n",
        "\n",
        "    one_hot_encoded_output_train = one_hot_encoder.fit_transform(X_train[one_hot_encoding_features])\n",
        "    one_hot_encoded_output_test = one_hot_encoder.transform(X_test[one_hot_encoding_features])\n",
        "    X_train = pd.concat([X_train, one_hot_encoded_output_train], axis=1)\n",
        "    X_test = pd.concat([X_test, one_hot_encoded_output_test], axis=1)  \n",
        "    X_train = X_train.drop(['Transmission', 'Fuel_Type', 'Drive_Type'],axis=1)\n",
        "    X_test = X_test.drop(['Transmission', 'Fuel_Type', 'Drive_Type'],axis=1)\n",
        "    \n",
        "    for model_name, metrics in results.items():\n",
        "        model = model_dict[model_name]\n",
        "        train_evaluate(model,X_train,y_train,X_test,results[model_name]['mse'], results[model_name]['mae'])"
      ]
    },
    {
      "cell_type": "code",
      "execution_count": null,
      "metadata": {},
      "outputs": [],
      "source": [
        "models = {'Models': ['K Nearest Regressor', 'PLS Regression', 'Decision Tree Regressor', 'Random Forest Regressor', 'Gradient Boosting Regressor', 'MLP Regressor'], 'Mean Absolute Error': mae, 'Mean Squared Error': mse}\n",
        "model_dataframe = pd.DataFrame(models)"
      ]
    },
    {
      "cell_type": "code",
      "execution_count": 111,
      "metadata": {},
      "outputs": [],
      "source": [
        "results_dataframe = pd.DataFrame(results)"
      ]
    },
    {
      "cell_type": "code",
      "execution_count": 112,
      "metadata": {},
      "outputs": [
        {
          "data": {
            "text/html": [
              "<div>\n",
              "<style scoped>\n",
              "    .dataframe tbody tr th:only-of-type {\n",
              "        vertical-align: middle;\n",
              "    }\n",
              "\n",
              "    .dataframe tbody tr th {\n",
              "        vertical-align: top;\n",
              "    }\n",
              "\n",
              "    .dataframe thead th {\n",
              "        text-align: right;\n",
              "    }\n",
              "</style>\n",
              "<table border=\"1\" class=\"dataframe\">\n",
              "  <thead>\n",
              "    <tr style=\"text-align: right;\">\n",
              "      <th></th>\n",
              "      <th>knn</th>\n",
              "      <th>pls</th>\n",
              "      <th>dt</th>\n",
              "      <th>rf</th>\n",
              "      <th>gb</th>\n",
              "      <th>mlp</th>\n",
              "    </tr>\n",
              "  </thead>\n",
              "  <tbody>\n",
              "    <tr>\n",
              "      <th>mae</th>\n",
              "      <td>[6070, 6316, 6161, 6329, 6307]</td>\n",
              "      <td>[12991, 12962, 13068, 13142, 13042]</td>\n",
              "      <td>[5204, 4915, 5447, 5117, 5192]</td>\n",
              "      <td>[3838, 3675, 3855, 3803, 3791]</td>\n",
              "      <td>[6321, 6133, 6131, 6267, 6242]</td>\n",
              "      <td>[8150, 8205, 8103, 8083, 8198]</td>\n",
              "    </tr>\n",
              "    <tr>\n",
              "      <th>mse</th>\n",
              "      <td>[223709936, 250516046, 478041180, 323435680, 2...</td>\n",
              "      <td>[666668378, 658226142, 909632865, 723332818, 7...</td>\n",
              "      <td>[245670478, 175024747, 496379785, 335062693, 2...</td>\n",
              "      <td>[154634841, 99596198, 344061872, 176783151, 14...</td>\n",
              "      <td>[228820620, 178189448, 405983210, 231626270, 2...</td>\n",
              "      <td>[354318944, 316416491, 558456392, 362189542, 3...</td>\n",
              "    </tr>\n",
              "  </tbody>\n",
              "</table>\n",
              "</div>"
            ],
            "text/plain": [
              "                                                   knn  \\\n",
              "mae                     [6070, 6316, 6161, 6329, 6307]   \n",
              "mse  [223709936, 250516046, 478041180, 323435680, 2...   \n",
              "\n",
              "                                                   pls  \\\n",
              "mae                [12991, 12962, 13068, 13142, 13042]   \n",
              "mse  [666668378, 658226142, 909632865, 723332818, 7...   \n",
              "\n",
              "                                                    dt  \\\n",
              "mae                     [5204, 4915, 5447, 5117, 5192]   \n",
              "mse  [245670478, 175024747, 496379785, 335062693, 2...   \n",
              "\n",
              "                                                    rf  \\\n",
              "mae                     [3838, 3675, 3855, 3803, 3791]   \n",
              "mse  [154634841, 99596198, 344061872, 176783151, 14...   \n",
              "\n",
              "                                                    gb  \\\n",
              "mae                     [6321, 6133, 6131, 6267, 6242]   \n",
              "mse  [228820620, 178189448, 405983210, 231626270, 2...   \n",
              "\n",
              "                                                   mlp  \n",
              "mae                     [8150, 8205, 8103, 8083, 8198]  \n",
              "mse  [354318944, 316416491, 558456392, 362189542, 3...  "
            ]
          },
          "execution_count": 112,
          "metadata": {},
          "output_type": "execute_result"
        }
      ],
      "source": [
        "results_dataframe"
      ]
    },
    {
      "cell_type": "markdown",
      "metadata": {},
      "source": [
        "# 5) Predict "
      ]
    },
    {
      "cell_type": "markdown",
      "metadata": {},
      "source": [
        "Best Model: \n",
        "- Random Forest Regressor: 3598 MAE; 99988885 MSE\n",
        "- target encoding on make model trim color\n",
        "- onehot encoding on transmission fuel_type drive_type\n",
        "- no scaling on Mileage, Engine_Size, Gas_Mileage, Latitude, Longitude\n",
        "- coordinates in degrees"
      ]
    },
    {
      "cell_type": "code",
      "execution_count": null,
      "metadata": {},
      "outputs": [],
      "source": [
        "new_car = pd.DataFrame({\n",
        "    'Make':['Audi'],\n",
        "    'Model':['A8'],\n",
        "    'Age':['2023'],\n",
        "    'Trim':['quattro 55 TFSI'],\n",
        "    'Mileage':7800,\n",
        "    'Color':['Vesuvius Gray Metallic'],\n",
        "    'Engine_Size':6,\n",
        "    'Gas_Mileage':22,\n",
        "    'Location':['08550'],\n",
        "    'Transmission':['Automatic'],\n",
        "    'Fuel_Type':['Gas'],\n",
        "    'Drive_Type':['AWD'],\n",
        "})\n",
        "\n",
        "# replace year with age\n",
        "current_year = datetime.datetime.now().year\n",
        "new_car['Age'] = current_year - new_car['Age'].astype(int)\n",
        "\n",
        "# get coordinates from zip code\n",
        "nomi = pgeocode.Nominatim('us')\n",
        "location = nomi.query_postal_code(new_car['Location'][0])\n",
        "new_car['Latitude'] = location.latitude \n",
        "new_car['Longitude'] = location.longitude \n",
        "new_car = new_car.drop(columns=['Location'])\n",
        "\n",
        "# target encoding\n",
        "new_car['Make'] = make_encoder.transform(new_car['Make'])\n",
        "new_car['Model'] = model_encoder.transform(new_car['Model'])\n",
        "new_car['Trim'] = trim_encoder.transform(new_car['Trim'])\n",
        "new_car['Color'] = color_encoder.transform(new_car['Color'])\n",
        "\n",
        "# one hot encoding\n",
        "categorical_features = new_car[['Transmission', 'Fuel_Type', 'Drive_Type']]\n",
        "one_hot_encoded_new_car = encoder.transform(categorical_features)\n",
        "\n",
        "one_hot_encoded_new_car_df = pd.DataFrame(one_hot_encoded_new_car, columns=encoder.get_feature_names_out())\n",
        "new_car = pd.concat([new_car.drop(columns=['Transmission', 'Fuel_Type', 'Drive_Type']), one_hot_encoded_new_car_df], axis=1)\n",
        "\n"
      ]
    },
    {
      "cell_type": "code",
      "execution_count": null,
      "metadata": {},
      "outputs": [],
      "source": [
        "new_car"
      ]
    },
    {
      "cell_type": "code",
      "execution_count": null,
      "metadata": {},
      "outputs": [],
      "source": [
        "predicted_price = rf.predict(new_car)\n",
        "print(predicted_price)"
      ]
    },
    {
      "cell_type": "markdown",
      "metadata": {},
      "source": [
        "# 6) Export Required Information"
      ]
    },
    {
      "cell_type": "markdown",
      "metadata": {},
      "source": [
        "## Export Model"
      ]
    },
    {
      "cell_type": "code",
      "execution_count": null,
      "metadata": {},
      "outputs": [],
      "source": [
        "joblib.dump(rf, 'random_forest_model.pkl')"
      ]
    },
    {
      "cell_type": "markdown",
      "metadata": {},
      "source": [
        "## Export Makes and Models"
      ]
    },
    {
      "cell_type": "code",
      "execution_count": null,
      "metadata": {},
      "outputs": [],
      "source": [
        "makes_to_models = data.groupby('Make')['Model'].apply(lambda x: sorted(set(x))).to_dict()"
      ]
    },
    {
      "cell_type": "code",
      "execution_count": null,
      "metadata": {},
      "outputs": [],
      "source": [
        "print(makes_to_models)"
      ]
    },
    {
      "cell_type": "code",
      "execution_count": null,
      "metadata": {},
      "outputs": [],
      "source": [
        "with open('makes_models.json', 'w') as f:\n",
        "    json.dump(makes_to_models, f, indent=4)"
      ]
    },
    {
      "cell_type": "code",
      "execution_count": null,
      "metadata": {},
      "outputs": [],
      "source": [
        "models_to_trims = data.groupby('Model')['Trim'].apply(lambda x: sorted(set(x))).to_dict()"
      ]
    },
    {
      "cell_type": "code",
      "execution_count": null,
      "metadata": {},
      "outputs": [],
      "source": [
        "print(models_to_trims)"
      ]
    },
    {
      "cell_type": "code",
      "execution_count": null,
      "metadata": {},
      "outputs": [],
      "source": [
        "with open('models_to_trims', 'w') as f:\n",
        "    json.dump(models_to_trims, f, indent=4)"
      ]
    },
    {
      "cell_type": "code",
      "execution_count": null,
      "metadata": {},
      "outputs": [],
      "source": [
        "makes_models_trims = data.groupby(['Make', 'Model'])['Trim'].apply(lambda x: sorted(set(x))).to_dict()"
      ]
    },
    {
      "cell_type": "code",
      "execution_count": null,
      "metadata": {},
      "outputs": [],
      "source": [
        "print(makes_models_trims)"
      ]
    },
    {
      "cell_type": "code",
      "execution_count": null,
      "metadata": {},
      "outputs": [],
      "source": [
        "json_compatible = {f\"{make}_{model}\": trims for (make, model), trims in makes_models_trims.items()}"
      ]
    },
    {
      "cell_type": "code",
      "execution_count": null,
      "metadata": {},
      "outputs": [],
      "source": [
        "with open('makes_models_to_trims', 'w') as f:\n",
        "    json.dump(json_compatible, f, indent=4)"
      ]
    },
    {
      "cell_type": "code",
      "execution_count": null,
      "metadata": {},
      "outputs": [],
      "source": [
        "makes_models_colors = data.groupby(['Make', 'Model'])['Color'].apply(lambda x: sorted(set(x))).to_dict()"
      ]
    },
    {
      "cell_type": "code",
      "execution_count": null,
      "metadata": {},
      "outputs": [],
      "source": [
        "print(makes_models_colors)"
      ]
    },
    {
      "cell_type": "code",
      "execution_count": null,
      "metadata": {},
      "outputs": [],
      "source": [
        "json_compatible = {f\"{make}_{model}\": colors for (make, model), colors in makes_models_colors.items()}"
      ]
    },
    {
      "cell_type": "code",
      "execution_count": null,
      "metadata": {},
      "outputs": [],
      "source": [
        "with open('makes_models_to_colors', 'w') as f:\n",
        "    json.dump(json_compatible, f, indent=4)"
      ]
    },
    {
      "cell_type": "code",
      "execution_count": null,
      "metadata": {},
      "outputs": [],
      "source": [
        "joblib.dump(make_encoder, 'encoders/make_encoder.pkl')\n",
        "joblib.dump(model_encoder, 'encoders/model_encoder.pkl')\n",
        "joblib.dump(trim_encoder, 'encoders/trim_encoder.pkl')\n",
        "joblib.dump(color_encoder, 'encoders/color_encoder.pkl')\n",
        "joblib.dump(encoder, 'encoders/onehotencoder.pkl')"
      ]
    }
  ],
  "metadata": {
    "colab": {
      "provenance": []
    },
    "kernelspec": {
      "display_name": "Python 3",
      "name": "python3"
    },
    "language_info": {
      "codemirror_mode": {
        "name": "ipython",
        "version": 3
      },
      "file_extension": ".py",
      "mimetype": "text/x-python",
      "name": "python",
      "nbconvert_exporter": "python",
      "pygments_lexer": "ipython3",
      "version": "3.11.3"
    }
  },
  "nbformat": 4,
  "nbformat_minor": 0
}
